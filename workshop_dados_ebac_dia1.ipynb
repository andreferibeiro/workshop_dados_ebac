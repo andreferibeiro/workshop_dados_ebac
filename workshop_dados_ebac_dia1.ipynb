{
  "metadata": {
    "kernelspec": {
      "language": "python",
      "display_name": "Python 3",
      "name": "python3"
    },
    "language_info": {
      "name": "python",
      "version": "3.7.12",
      "mimetype": "text/x-python",
      "codemirror_mode": {
        "name": "ipython",
        "version": 3
      },
      "pygments_lexer": "ipython3",
      "nbconvert_exporter": "python",
      "file_extension": ".py"
    },
    "colab": {
      "name": "workshop-dados-ebac-dia1.ipynb",
      "provenance": []
    }
  },
  "nbformat_minor": 0,
  "nbformat": 4,
  "cells": [
    {
      "cell_type": "markdown",
      "source": [
        "# **Fundamentos da Matemática para Análise de Dados**"
      ],
      "metadata": {
        "id": "nyFRqNp6rcUb"
      }
    },
    {
      "cell_type": "markdown",
      "source": [
        "#***DIA 1 (21/06 das 19h às 21h)***\n",
        "\n",
        "\n",
        "---\n",
        "\n",
        "- PYTHON: Conceitos básicos.\n",
        "- PRINCIPAIS TIPOS DE DADOS: Numéricos, cadeia de caracteres, buleanos.\n",
        "- CONVERSÃO DE DADOS: Como consultar e modificar o tipo de um dado.\n",
        "- PANDAS: Parêntesis, Exponenciação, Multiplicação, Divisão, Adição e Subtração.\n",
        "- AMOSTRA & POPULAÇÃO.\n",
        "- VARIÁVEIS QUANTITATIVAS E QUALITATIVAS.\n",
        "- LISTAS E DATAFRAMES."
      ],
      "metadata": {
        "id": "ZucrsatHq6_g"
      }
    },
    {
      "cell_type": "markdown",
      "source": [
        "### **Python**\n",
        "Para este workshop, a linguagem de programação que utilizaremos será o python. Esta linguagem pode ser usada para diversas finalidades como desenvolvimento web, desenvolvimento de aplicativos, automação de processos, aprendizado de máquina, entre outros. Nós o utilizaremos para manipulação, análise e visualização de dados.\n",
        "\n",
        "Antes de começar, vamos aprender algumas funcionalidades e regras do python:"
      ],
      "metadata": {
        "id": "2jgXPOC-umHF"
      }
    },
    {
      "cell_type": "markdown",
      "source": [
        "#### - **DECLARAR UMA VARIÁVEL**"
      ],
      "metadata": {
        "id": "ft9gRG194tGM"
      }
    },
    {
      "cell_type": "code",
      "source": [
        "## DECLARAR UMA VARIÁVEL\n",
        "\n",
        "''' Temos a liberdade de criar variáveis para serem reutilizadas ao longo do notebook. \n",
        "    Um exemplo seria criar uma variável de nome 'a' que represente o valor numérico 8\n",
        "'''\n",
        "\n",
        "a = 8\n",
        "\n",
        "''' Podemos então acessar este valor usando a função print()\n",
        "'''\n",
        "\n",
        "print(a)"
      ],
      "metadata": {
        "id": "gm16xhJWvqZE",
        "outputId": "6f1df07b-ff16-4c6d-ce85-c0c6228d9940",
        "colab": {
          "base_uri": "https://localhost:8080/"
        }
      },
      "execution_count": 1,
      "outputs": [
        {
          "output_type": "stream",
          "name": "stdout",
          "text": [
            "8\n"
          ]
        }
      ]
    },
    {
      "cell_type": "code",
      "source": [
        "''' ALERTA: Os nomes a serem utilizados para declarar uma variável \n",
        "    nunca podem começar com números ou caracteres especiais:\n",
        "'''\n",
        "\n",
        "a = 8     # Esta linha está CORRETA\n",
        "1a = 8    # Esta linha está ERRADA (SyntaxError: invalid syntax)\n",
        "-a = 8    # Esta linha está ERRADA (SyntaxError: invalid syntax)\n",
        "%a = 8    # Esta linha está ERRADA (SyntaxError: invalid syntax)\n",
        "_a = 8    # Esta linha está CORRETA (underline funtiona)"
      ],
      "metadata": {
        "id": "d1pjQ8lt_AaN",
        "outputId": "bad87967-eb2d-4a1a-c5e5-812c772f267a",
        "colab": {
          "base_uri": "https://localhost:8080/",
          "height": 130
        }
      },
      "execution_count": 4,
      "outputs": [
        {
          "output_type": "error",
          "ename": "SyntaxError",
          "evalue": "ignored",
          "traceback": [
            "\u001b[0;36m  File \u001b[0;32m\"<ipython-input-4-addab80d0c26>\"\u001b[0;36m, line \u001b[0;32m7\u001b[0m\n\u001b[0;31m    -a = 8    # Esta linha está ERRADA (SyntaxError: invalid syntax)\u001b[0m\n\u001b[0m                                                                    ^\u001b[0m\n\u001b[0;31mSyntaxError\u001b[0m\u001b[0;31m:\u001b[0m can't assign to operator\n"
          ]
        }
      ]
    },
    {
      "cell_type": "code",
      "source": [
        "# Outro exemplo (sem letras)\n",
        "\n",
        "_2011 = 14000\n",
        "print(_2011)"
      ],
      "metadata": {
        "id": "dvrNDkrr2Jzu",
        "outputId": "a089e319-12a8-457d-a1c8-9e8d49e4dae2",
        "colab": {
          "base_uri": "https://localhost:8080/"
        }
      },
      "execution_count": 5,
      "outputs": [
        {
          "output_type": "stream",
          "name": "stdout",
          "text": [
            "14000\n"
          ]
        }
      ]
    },
    {
      "cell_type": "markdown",
      "source": [
        "#### - **PRINCIPAIS TIPOS DE DADOS**: Numéricos, cadeia de caracteres, buleanos"
      ],
      "metadata": {
        "id": "dZzO4SZJ4_0F"
      }
    },
    {
      "cell_type": "code",
      "source": [
        "''' Podemos criar variáveis de todos os tipos de dados:\n",
        "'''\n",
        "\n",
        "# Numérico\n",
        "''' INTEGER: Números inteiros.'''\n",
        "\n",
        "a = 8\n",
        "\n",
        "''' FLOAT: Ponto Flutuante: é um formato de representação digital de \n",
        "    números racionais, que é usada nos computadores.'''\n",
        "\n",
        "b = 5.2\n",
        "\n",
        "\n",
        "# Cadeia de caracteres (string)\n",
        "''' As cadeias de caracteres podem conter todos os tipos de caracteres, \n",
        "    incluindo letras, números e até caracteres especiais. Sempre quando\n",
        "    estejam entre aspas simples ou aspas duplas, serão interpretados \n",
        "    nesta categoria de string.'''\n",
        "\n",
        "g = 'palavra'\n",
        "h = '123456'\n",
        "i = 'AbC13'\n",
        "\n",
        "# Buleano\n",
        "''' O tipo buleano (boolean) se resume a Verdadeiro (True) e Falso (False).\n",
        "    Vale sempre lembrar que na sua forma numérica, o Falso é representado por 0\n",
        "    (zero) enquanto que o Verdadeiro é representado pelo número 1 (um).'''\n",
        "\n",
        "t = True\n",
        "f = False"
      ],
      "metadata": {
        "id": "y1_XX_9mxkwc"
      },
      "execution_count": 6,
      "outputs": []
    },
    {
      "cell_type": "code",
      "source": [
        "''' Agora que declaramos algumas variávieis de tipos diferentes,\n",
        "    vamos apresentar cada uma delas por meio do print()\n",
        "'''\n",
        "\n",
        "# Numérico\n",
        "print(a)\n",
        "\n",
        "# Cadeia de caracteres\n",
        "print(i)\n",
        "\n",
        "# Buleano\n",
        "print(t)"
      ],
      "metadata": {
        "id": "UvTQfGbPy8of",
        "outputId": "543094fd-5164-4830-87ab-0ba219272385",
        "colab": {
          "base_uri": "https://localhost:8080/"
        }
      },
      "execution_count": 7,
      "outputs": [
        {
          "output_type": "stream",
          "name": "stdout",
          "text": [
            "8\n",
            "AbC13\n",
            "True\n"
          ]
        }
      ]
    },
    {
      "cell_type": "markdown",
      "source": [
        "#### - **FAÇA VOCÊ MESMO**: Declare algumas variáveis com:"
      ],
      "metadata": {
        "id": "UNZfDSTf3J-Z"
      }
    },
    {
      "cell_type": "code",
      "source": [
        "# Seu nome (string)\n",
        "nome = 'André'\n",
        "\n",
        "# Sua idade (integer)\n",
        "idade = 35\n",
        "\n",
        "# Sua altura (float)\n",
        "altura = 1.71\n",
        "\n",
        "# Seu esporte favorito (string)\n",
        "esporte_favorito = 'Corrida'\n",
        "\n",
        "# Se você está gostando do workshop até agora (boolean)\n",
        "gostando_ws = True"
      ],
      "metadata": {
        "id": "lL9MMCkd3G7c"
      },
      "execution_count": 9,
      "outputs": []
    },
    {
      "cell_type": "code",
      "source": [
        "# Agora, apresente todas essas variáveis usando o print()\n",
        "\n",
        "print(nome, idade, altura, esporte_favorito, gostando_ws)"
      ],
      "metadata": {
        "id": "U_Bx4Dle4Uvc",
        "outputId": "05170a64-7591-4c8e-bec5-564ef864885f",
        "colab": {
          "base_uri": "https://localhost:8080/"
        }
      },
      "execution_count": 10,
      "outputs": [
        {
          "output_type": "stream",
          "name": "stdout",
          "text": [
            "André 35 1.71 Corrida True\n"
          ]
        }
      ]
    },
    {
      "cell_type": "markdown",
      "source": [
        "#### - **CONVERSÃO DE DADOS**: Como consultar e modificar o tipo de um dado."
      ],
      "metadata": {
        "id": "sHnKApOM41r2"
      }
    },
    {
      "cell_type": "code",
      "source": [
        "## Consultar o tipo da variável com a função type()\n",
        "\n",
        "''' Utilizando as mesmas variáveis que criamos anteriormente, \n",
        "    vamos consultar o tipo de cada uma delas para ver o que o python nos diz:\n",
        "    (utilizaremos a função type() para verificar o tipo da variável\n",
        "'''\n",
        "\n",
        "# Numérico\n",
        "a = 8\n",
        "b = 5.2\n",
        "\n",
        "# Cadeia de caracteres (string)\n",
        "g = 'palavra'\n",
        "h = '123456'\n",
        "i = 'AbC13'\n",
        "\n",
        "# Buleano\n",
        "t = True\n",
        "f = False\n",
        "\n",
        "print(a)\n",
        "print(type(a))\n",
        "\n",
        "print('---------')\n",
        "\n",
        "print(b)\n",
        "print(type(b))\n",
        "\n",
        "print('---------')\n",
        "\n",
        "print(h)\n",
        "print(type(h))\n",
        "\n",
        "print('---------')\n",
        "\n",
        "print(t)\n",
        "print(type(t))"
      ],
      "metadata": {
        "id": "cV4Rbg0Z9cBT",
        "outputId": "dd24c65b-857a-4498-90eb-f30fdd35cc14",
        "colab": {
          "base_uri": "https://localhost:8080/"
        }
      },
      "execution_count": 11,
      "outputs": [
        {
          "output_type": "stream",
          "name": "stdout",
          "text": [
            "8\n",
            "<class 'int'>\n",
            "---------\n",
            "5.2\n",
            "<class 'float'>\n",
            "---------\n",
            "123456\n",
            "<class 'str'>\n",
            "---------\n",
            "True\n",
            "<class 'bool'>\n"
          ]
        }
      ]
    },
    {
      "cell_type": "code",
      "source": [
        "## Converter de um tipo para outro.\n",
        "\n",
        "''' Como você pode notar, tivemos uma variável de nome 'h' \n",
        "    cujo valor era um número, porém seu tipo era 'string' (cadeia de caracteres)\n",
        "    por como ela foi declarada (usando aspas). Vamos então converter essa \n",
        "    variável aos diferentes tipos de dados que conhecemos até agora:\n",
        "'''\n",
        "h = '123456'\n",
        "\n",
        "# Print da variável 'h' na forma em que foi criada (str)\n",
        "print(h)\n",
        "print(type(h))\n",
        "\n",
        "print('---------')\n",
        "\n",
        "# h_int: De str para int (inteiro)\n",
        "h_int = int(h)\n",
        "print(h_int)\n",
        "print(type(h_int))\n",
        "\n",
        "print('---------')\n",
        "\n",
        "# h_float: De str para float (ponto flutuante/números racionais)\n",
        "h_float = float(h)\n",
        "print(h_float)\n",
        "print(type(h_float))\n",
        "\n",
        "print('---------')\n",
        "\n",
        "# h_bool: De str para bool (Buleano = True/False)\n",
        "''' O número 0 (zero) na sua forma buleana representa o falso (False).\n",
        "    Todos os outros números representam verdadeiro (True)\n",
        "'''\n",
        "h_bool = bool(h)\n",
        "print(h_bool)\n",
        "print(type(h_bool))"
      ],
      "metadata": {
        "id": "TtuWHZF7-oL1",
        "outputId": "757479cb-836c-4b68-a706-a32b7503fdf8",
        "colab": {
          "base_uri": "https://localhost:8080/"
        }
      },
      "execution_count": 12,
      "outputs": [
        {
          "output_type": "stream",
          "name": "stdout",
          "text": [
            "123456\n",
            "<class 'str'>\n",
            "---------\n",
            "123456\n",
            "<class 'int'>\n",
            "---------\n",
            "123456.0\n",
            "<class 'float'>\n",
            "---------\n",
            "True\n",
            "<class 'bool'>\n"
          ]
        }
      ]
    },
    {
      "cell_type": "markdown",
      "source": [
        "#### - **PEMDAS**: Parêntesis, Exponenciação, Multiplicação, Divisão, Adição e Subtração.\n",
        "\n",
        "Agora vamos discutir as diferentes operações matemáticas e a ordem de prioridade quando aplicamos mais de uma delas em uma mesma linha de código."
      ],
      "metadata": {
        "id": "5H2kWotr4wDm"
      }
    },
    {
      "cell_type": "code",
      "source": [
        "############ Subtração: ############\n",
        "''' A subtração nada mais é do que a operação de restar um valor numérico de \n",
        "    outro, podendo resultar em um valor numérico positivo ou negativo.\n",
        "'''\n",
        "\n",
        "# Inteiros\n",
        "j = -10\n",
        "k = 20\n",
        "\n",
        "print(k-j)\n",
        "print(j-k)\n",
        "\n",
        "# Float\n",
        "m = 0.8\n",
        "o = -0.3\n",
        "\n",
        "print(m-o)\n",
        "print(o-m)"
      ],
      "metadata": {
        "id": "XVgwF9xe5yvk",
        "outputId": "abc88635-8235-4888-ed83-306eb55a3879",
        "colab": {
          "base_uri": "https://localhost:8080/"
        }
      },
      "execution_count": 13,
      "outputs": [
        {
          "output_type": "stream",
          "name": "stdout",
          "text": [
            "30\n",
            "-30\n",
            "1.1\n",
            "-1.1\n"
          ]
        }
      ]
    },
    {
      "cell_type": "code",
      "source": [
        "############ Adição: ############\n",
        "''' A adição nada mais é do que a operação de somar um valor numérico a outro, \n",
        "    podendo resultar em um valor numérico positivo ou negativa.\n",
        "'''\n",
        "\n",
        "# Inteiros\n",
        "j = -10\n",
        "k = 20\n",
        "\n",
        "print(k+j)\n",
        "print(j+k)\n",
        "\n",
        "# Float\n",
        "m = 0.8\n",
        "o = 0.3\n",
        "\n",
        "print(m+o)\n",
        "print(o+m)"
      ],
      "metadata": {
        "id": "cI_0CE-YBJ3c",
        "outputId": "1e73647a-0330-4d70-d28a-c515f53f78ad",
        "colab": {
          "base_uri": "https://localhost:8080/"
        }
      },
      "execution_count": 14,
      "outputs": [
        {
          "output_type": "stream",
          "name": "stdout",
          "text": [
            "10\n",
            "10\n",
            "1.1\n",
            "1.1\n"
          ]
        }
      ]
    },
    {
      "cell_type": "code",
      "source": [
        "############ Divisão: ############\n",
        "\n",
        "# Inteiros\n",
        "j = -10\n",
        "k = 20\n",
        "\n",
        "print(k/j)\n",
        "print(j/k)\n",
        "\n",
        "# Float\n",
        "m = 0.8\n",
        "o = 0.3\n",
        "\n",
        "print(m/o)\n",
        "print(o/m)"
      ],
      "metadata": {
        "id": "hxtw2C9eBKLQ",
        "outputId": "75c7fa45-fa6b-43ba-c9b6-a5ebcd4a313e",
        "colab": {
          "base_uri": "https://localhost:8080/"
        }
      },
      "execution_count": 15,
      "outputs": [
        {
          "output_type": "stream",
          "name": "stdout",
          "text": [
            "-2.0\n",
            "-0.5\n",
            "2.666666666666667\n",
            "0.37499999999999994\n"
          ]
        }
      ]
    },
    {
      "cell_type": "code",
      "source": [
        "############ Multiplicação: ############\n",
        "\n",
        "# Inteiros\n",
        "j = -10\n",
        "k = 20\n",
        "\n",
        "print(k*j)\n",
        "print(j*k)\n",
        "\n",
        "# Float\n",
        "m = 0.8\n",
        "o = 0.3\n",
        "\n",
        "print(m*o)\n",
        "print(o*m)"
      ],
      "metadata": {
        "id": "FIHhoPSrBLSl",
        "outputId": "adce8a04-69ce-48cc-adf1-d1cc3d7ed114",
        "colab": {
          "base_uri": "https://localhost:8080/"
        }
      },
      "execution_count": 16,
      "outputs": [
        {
          "output_type": "stream",
          "name": "stdout",
          "text": [
            "-200\n",
            "-200\n",
            "0.24\n",
            "0.24\n"
          ]
        }
      ]
    },
    {
      "cell_type": "code",
      "source": [
        "############ Exponenciação: ############\n",
        "\n",
        "# Inteiros\n",
        "j = 3\n",
        "k = 4\n",
        "\n",
        "print(k**j)\n",
        "print(j**k)\n",
        "\n",
        "# Float\n",
        "m = 0.8\n",
        "o = 0.3\n",
        "\n",
        "print(m**o)\n",
        "print(o**m)"
      ],
      "metadata": {
        "id": "PYEqrSZ_CjZE",
        "outputId": "315bfc89-72d3-4e53-f004-5c4e44c139dc",
        "colab": {
          "base_uri": "https://localhost:8080/"
        }
      },
      "execution_count": 17,
      "outputs": [
        {
          "output_type": "stream",
          "name": "stdout",
          "text": [
            "64\n",
            "81\n",
            "0.9352484478226214\n",
            "0.3816778909618176\n"
          ]
        }
      ]
    },
    {
      "cell_type": "code",
      "source": [
        "############ Parêntesis: ############\n",
        "''' O parêntesis agrupa uma ou mais operações e a trata \n",
        "    prioritariamente em relação à qualquer outra operação na linha de código. \n",
        "    Quando há mais de um parêntesis, estes são tratados de forma independente.\n",
        "'''\n",
        "\n",
        "a = 2\n",
        "b = 4\n",
        "c = 0.5\n",
        "d = -2\n",
        "\n",
        "res_1 = a+b*c/d\n",
        "res_2 = ((a+b)*c)/d\n",
        "\n",
        "print(res_1)\n",
        "print(res_2)"
      ],
      "metadata": {
        "id": "wkQfJfjT7Exa",
        "outputId": "58de2dc5-bd4d-4e66-9bf4-59464aa8119f",
        "colab": {
          "base_uri": "https://localhost:8080/"
        }
      },
      "execution_count": 18,
      "outputs": [
        {
          "output_type": "stream",
          "name": "stdout",
          "text": [
            "1.0\n",
            "-1.5\n"
          ]
        }
      ]
    },
    {
      "cell_type": "code",
      "source": [
        "# Outro exemplo usando parênteses\n",
        "a = 2\n",
        "b = 4\n",
        "c = 0.5\n",
        "d = -2\n",
        "\n",
        "res_3 = (a+b)-(b/a)+(d*c)\n",
        "# (6)-(2)+(-1)\n",
        "# 6-2-1 = 3\n",
        "print(res_3)"
      ],
      "metadata": {
        "id": "bqxQtF0C58h-",
        "outputId": "0d19d9d7-3bf1-42d6-c859-ae55c264fba3",
        "colab": {
          "base_uri": "https://localhost:8080/"
        }
      },
      "execution_count": 19,
      "outputs": [
        {
          "output_type": "stream",
          "name": "stdout",
          "text": [
            "3.0\n"
          ]
        }
      ]
    },
    {
      "cell_type": "markdown",
      "source": [
        "#### - **FAÇA VOCÊ MESMO**: Responda algumas perguntas a partir das variáveis que você declarou sobre você:"
      ],
      "metadata": {
        "id": "oQFtJCnCFru_"
      }
    },
    {
      "cell_type": "code",
      "source": [
        "# Seu nome (string)\n",
        "print(nome)\n",
        "\n",
        "# Sua idade (integer)\n",
        "print(idade)\n",
        "\n",
        "# Sua altura (float)\n",
        "print(altura)\n",
        "\n",
        "# Seu esporte favorito (string)\n",
        "print(esporte_favorito)\n",
        "\n",
        "# Se você está gostando do workshop até agora (boolean)\n",
        "print(gostando_ws)"
      ],
      "metadata": {
        "id": "oDNYh3sOFlqV",
        "colab": {
          "base_uri": "https://localhost:8080/"
        },
        "outputId": "4f513b18-f889-4fd6-9cf2-7bdc9751782e"
      },
      "execution_count": 20,
      "outputs": [
        {
          "output_type": "stream",
          "name": "stdout",
          "text": [
            "André\n",
            "35\n",
            "1.71\n",
            "Corrida\n",
            "True\n"
          ]
        }
      ]
    },
    {
      "cell_type": "code",
      "source": [
        "# Quantos anos faltam para você atingir os 100 anos? (Aplique a operação matemática)\n",
        "100 - idade"
      ],
      "metadata": {
        "id": "PgNNjpwzGFDU",
        "colab": {
          "base_uri": "https://localhost:8080/"
        },
        "outputId": "0af4d607-f66a-4ee0-ef91-a2be53944e1f"
      },
      "execution_count": 21,
      "outputs": [
        {
          "output_type": "execute_result",
          "data": {
            "text/plain": [
              "65"
            ]
          },
          "metadata": {},
          "execution_count": 21
        }
      ]
    },
    {
      "cell_type": "code",
      "source": [
        "# Calcule a sua idade ao quadrado:\n",
        "print(idade * idade)\n",
        "idade ** 2\n"
      ],
      "metadata": {
        "id": "3c1rT5XyG1Wh",
        "colab": {
          "base_uri": "https://localhost:8080/"
        },
        "outputId": "360af561-cc41-4ccd-d98f-e9d996690c41"
      },
      "execution_count": 23,
      "outputs": [
        {
          "output_type": "stream",
          "name": "stdout",
          "text": [
            "1225\n"
          ]
        },
        {
          "output_type": "execute_result",
          "data": {
            "text/plain": [
              "1225"
            ]
          },
          "metadata": {},
          "execution_count": 23
        }
      ]
    },
    {
      "cell_type": "code",
      "source": [
        "# Calcule a raiz quadrada da sua idade:\n",
        "idade **(1/2)"
      ],
      "metadata": {
        "id": "QZZNtu9oG3Fl",
        "colab": {
          "base_uri": "https://localhost:8080/"
        },
        "outputId": "0964350b-9bfa-4e32-cbff-fc3fcfa826d6"
      },
      "execution_count": 24,
      "outputs": [
        {
          "output_type": "execute_result",
          "data": {
            "text/plain": [
              "5.916079783099616"
            ]
          },
          "metadata": {},
          "execution_count": 24
        }
      ]
    },
    {
      "cell_type": "code",
      "source": [
        "# De quantos centimetros você precisaria para ter 2.5 metros?\n",
        "print((2.5-altura)*100,\"cm\")"
      ],
      "metadata": {
        "id": "O9aXuEwuG5Mf",
        "colab": {
          "base_uri": "https://localhost:8080/"
        },
        "outputId": "0efa1e75-53ee-4d36-b367-663ea0fcf7c2"
      },
      "execution_count": 29,
      "outputs": [
        {
          "output_type": "stream",
          "name": "stdout",
          "text": [
            "79.0 cm\n"
          ]
        }
      ]
    },
    {
      "cell_type": "code",
      "source": [
        "# Faça o print() de uma frase usando todas as variáveis criadas sobre você:\n",
        "print( \"Meu nome é\", nome, \"tenho\", idade, \"anos e\", altura,\"m de altura. Meu esporte favorito é a\", esporte_favorito, \"de Rua.\")"
      ],
      "metadata": {
        "id": "CXPSnxxcHJ0d",
        "colab": {
          "base_uri": "https://localhost:8080/"
        },
        "outputId": "4c07836f-65b2-4de7-ec15-3165ef220bc5"
      },
      "execution_count": 33,
      "outputs": [
        {
          "output_type": "stream",
          "name": "stdout",
          "text": [
            "Meu nome é André tenho 35 anos e 1.71 m de altura. Meu esporte favorito é a Corrida de Rua.\n"
          ]
        }
      ]
    },
    {
      "cell_type": "markdown",
      "source": [
        "### **POPULAÇÃO & AMOSTRA**\n",
        "\n",
        "Supanhamos que queremos fazer uma análise sobre a popularidade da cerveja entre os brasileiros. Queremos entender se a cerveja é a bebida preferida dos brasileiros e queremos entender também se existe uma marca de preferência. "
      ],
      "metadata": {
        "id": "8eu2daGeF7wl"
      }
    },
    {
      "cell_type": "code",
      "source": [
        "# População Geográfica\n",
        "''' Geograficamente falando, como diz o enunciado, seriam todos os brasileiros'''\n",
        "\n",
        "# População Estatística\n",
        "''' Sabemos que nem todos os brasileiros são elegíveis a participarem deste estudo,\n",
        "    ou seja, nem todos os brasileiros consomem bebidas alcoólicas, nem todos os\n",
        "    brasileiros são maiores de idade. \n",
        "    Dito isto, a população estatística sempre será menor que a população geográfica\n",
        "'''\n",
        "\n",
        "# Amostra\n",
        "''' Imagine agora se fôssemos perguntar a todos os elementos\n",
        "    da nossa população estatística, ou seja, todos os brasileiros que consomem\n",
        "    bebidas alcoólicas no Brasil, qual é sua bebida de preferência e, caso seja \n",
        "    cerveja, qual é a sua marca favorita. Claramente isto seria muito custoso,\n",
        "    logo precisamos extrair uma porção que represente a população estatística.\n",
        "    Esta porção se chama AMOSTRA e o processo de extrair esta porção se chama\n",
        "    AMOSTRAGEM.\n",
        "''' "
      ],
      "metadata": {
        "id": "4xD33LFiGCbL",
        "outputId": "178b7e59-2c37-4f2e-c785-3f5931e8890f",
        "colab": {
          "base_uri": "https://localhost:8080/",
          "height": 70
        }
      },
      "execution_count": 34,
      "outputs": [
        {
          "output_type": "execute_result",
          "data": {
            "text/plain": [
              "' Imagine agora se fôssemos perguntar a todos os elementos\\n    da nossa população estatística, ou seja, todos os brasileiros que consomem\\n    bebidas alcoólicas no Brasil, qual é sua bebida de preferência e, caso seja \\n    cerveja, qual é a sua marca favorita. Claramente isto seria muito custoso,\\n    logo precisamos extrair uma porção que represente a população estatística.\\n    Esta porção se chama AMOSTRA e o processo de extrair esta porção se chama\\n    AMOSTRAGEM.\\n'"
            ],
            "application/vnd.google.colaboratory.intrinsic+json": {
              "type": "string"
            }
          },
          "metadata": {},
          "execution_count": 34
        }
      ]
    },
    {
      "cell_type": "markdown",
      "source": [
        "### **VARIÁVEIS QUANTITATIVAS E QUALITATIVAS**\n",
        "\n",
        "As variáveis de um estudo ou análise podem ser classificadas entre variáveis QUANTITATIVAS e QUALITATIVAS"
      ],
      "metadata": {
        "id": "ikxQsPs6GCnI"
      }
    },
    {
      "cell_type": "code",
      "source": [
        "############ VARIÁVEIS QUANTITATIVAS ############\n",
        "''' São aquelas variáveis que representam quandidades, ou seja, números usados\n",
        "    para medir alguma coisa. Estes números podem ser inteiros ou números \n",
        "    racionais (que contém casas decimais). \n",
        "'''\n",
        "\n",
        "## Variável Quantitativa Discreta \n",
        "''' Quando os números são inteiros chamamos a variável quantitativa de DISCRETA. \n",
        "    \n",
        "    Por exemplo: Idade, núumero de filhos, quantidade de tênis.\n",
        "'''\n",
        "\n",
        "## Variável Quantitativa Contínua \n",
        "''' Quando os números são racionais, ou seja, contém casas decimais a variável é \n",
        "    chamada de variável quantitativa CONTÍNUA. \n",
        "\n",
        "    Por exemplo: Altura, peso, distância percorrida.\n",
        "'''\n",
        "\n",
        "# ------------------------------------------------------------------------------\n",
        "\n",
        "############ VARIÁVEIS QUALITATIVAS ############\n",
        "''' São aquelas variáveis que representam categorias para descrever ou\n",
        "    identificar alguma coisa. Estas palavras podem ter uma ordem sequencial ou\n",
        "    hierarquica ou podem representar apenas uma característica. \n",
        "'''\n",
        "\n",
        "## Variável Qualitativa Ordinal \n",
        "''' Quando a variável qualitativa tem uma ordem sequencial, ou alguma\n",
        "    ordem específica atrelada, nós chamamos de variável qualitativa ORDINAL.\n",
        "    \n",
        "    Por exemplo: Nível de ensino, nível de experiência.\n",
        "'''\n",
        "\n",
        "## Variável Qualitativa Nominal \n",
        "''' Quando a variável qualitativa representa apenas uma característica de um \n",
        "    elemento, chamamos de variável qualitativa NOMINAL.\n",
        "    \n",
        "    Por exemplo: Gênero musical, esporte.\n",
        "'''"
      ],
      "metadata": {
        "id": "Uwr__ZOeGEN9",
        "colab": {
          "base_uri": "https://localhost:8080/",
          "height": 35
        },
        "outputId": "9cbdb55e-2748-475f-8d8f-4f235ee05a30"
      },
      "execution_count": 35,
      "outputs": [
        {
          "output_type": "execute_result",
          "data": {
            "text/plain": [
              "' Quando a variável qualitativa representa apenas uma característica de um \\n    elemento, chamamos de variável qualitativa NOMINAL.\\n    \\n    Por exemplo: Gênero musical, esporte.\\n'"
            ],
            "application/vnd.google.colaboratory.intrinsic+json": {
              "type": "string"
            }
          },
          "metadata": {},
          "execution_count": 35
        }
      ]
    },
    {
      "cell_type": "markdown",
      "source": [
        "### **BIBLIOTECAS**\n",
        "\n",
        "Com os conceitos discutidos até o momento, vamos continuar com alguns dados fictícios e aplicar o conhecimento em uma escala maior. Para isso precisaremos importar algumas **bibliotecas** ao notebook e definir alguns conceitos novos.\n",
        "\n",
        "##### **- Mas o que são bibliotecas?**\n",
        "\n",
        "##### Uma biblioteca é uma coleção de recursos usada por programa de computador, ou seja, é um conjunto de funções que foram escritas e disponibilizadas por desenvolvedores. Neste workshop utilizaremos as bibliotecas: Numpy, Statistics, Matplotlib e principalmente Pandas.\n",
        "\n",
        "##### **- Pandas, Numpy, Statistics e Matplotlib**\n",
        "\n",
        "##### **Pandas**: Uma biblioteca que contém recursos utilizados para manipulação e análise de dados. Vamos utilizar também uma estrutura chamada Dataframe com esta biblioteca.\n",
        "\n",
        "##### **Numpy**: Uma biblioteca muito útil para execução de tarefas matemáticas em grande escala. Neste workshop, essa biblioteca vai nos ajudar a executar tarefas matemáticas no Dataframe.\n",
        "\n",
        "##### **Statistics**: Uma biblioteca que nos ajudará com as medidas de centralidade em uma escala menor.\n",
        "\n",
        "##### **Matplotlib**: Uma biblioteca muito utilizada para visualização de dados por meio de geração de gráficos 2D."
      ],
      "metadata": {
        "id": "cNq2tJ7z8w38"
      }
    },
    {
      "cell_type": "markdown",
      "source": [
        "### **- Como acessar essas bibliotecas?**\n",
        "##### Como primeiro passo do processo vamos importar (**import**) cada uma das bibliotecas e dar um pseudônimo (**alias**) para facilitar na hora de chamar as funções de cada uma dessas bibliotecas:"
      ],
      "metadata": {
        "id": "G2bsFdjYEyzo"
      }
    },
    {
      "cell_type": "code",
      "source": [
        "import pandas as pd\n",
        "import numpy as np\n",
        "import statistics as st\n",
        "import matplotlib.pyplot as plt"
      ],
      "metadata": {
        "id": "zAd5WoOt-IjL"
      },
      "execution_count": 36,
      "outputs": []
    },
    {
      "cell_type": "markdown",
      "source": [
        "Agora vamos utilizar a função **pd.read_csv()** para importar os dados ao notebook:"
      ],
      "metadata": {
        "id": "oHiGj7HC-Ogb"
      }
    },
    {
      "cell_type": "code",
      "source": [
        "!wget -q \"https://raw.githubusercontent.com/rafands/ebac-course-content/main/amostra_ficticia.csv\" -O amostra_ficticia.csv \n",
        "af = pd.read_csv('./amostra_ficticia.csv', sep=';')"
      ],
      "metadata": {
        "id": "3xK4X4pa-Xfi"
      },
      "execution_count": 37,
      "outputs": []
    },
    {
      "cell_type": "markdown",
      "source": [
        "Podemos também validar a importação observando as primeiras linhas do arquivo utilizando **head()**"
      ],
      "metadata": {
        "id": "ZV5qALpR-dmA"
      }
    },
    {
      "cell_type": "code",
      "source": [
        "# .head()\n",
        "\n",
        "af.head()"
      ],
      "metadata": {
        "id": "aVL6t0Bn-oOt",
        "outputId": "e1416ef9-dda7-489b-b449-50e7e3e2b77a",
        "colab": {
          "base_uri": "https://localhost:8080/",
          "height": 206
        }
      },
      "execution_count": 45,
      "outputs": [
        {
          "output_type": "execute_result",
          "data": {
            "text/plain": [
              "   ID  IDADE  PESO  ALTURA\n",
              "0   1     26   112    1.80\n",
              "1   2     38    84    1.78\n",
              "2   3     36    67    1.60\n",
              "3   4     41   106    1.83\n",
              "4   5     36   106    1.72"
            ],
            "text/html": [
              "\n",
              "  <div id=\"df-c2e61a28-3ba2-415d-b668-8fc6d660e2a1\">\n",
              "    <div class=\"colab-df-container\">\n",
              "      <div>\n",
              "<style scoped>\n",
              "    .dataframe tbody tr th:only-of-type {\n",
              "        vertical-align: middle;\n",
              "    }\n",
              "\n",
              "    .dataframe tbody tr th {\n",
              "        vertical-align: top;\n",
              "    }\n",
              "\n",
              "    .dataframe thead th {\n",
              "        text-align: right;\n",
              "    }\n",
              "</style>\n",
              "<table border=\"1\" class=\"dataframe\">\n",
              "  <thead>\n",
              "    <tr style=\"text-align: right;\">\n",
              "      <th></th>\n",
              "      <th>ID</th>\n",
              "      <th>IDADE</th>\n",
              "      <th>PESO</th>\n",
              "      <th>ALTURA</th>\n",
              "    </tr>\n",
              "  </thead>\n",
              "  <tbody>\n",
              "    <tr>\n",
              "      <th>0</th>\n",
              "      <td>1</td>\n",
              "      <td>26</td>\n",
              "      <td>112</td>\n",
              "      <td>1.80</td>\n",
              "    </tr>\n",
              "    <tr>\n",
              "      <th>1</th>\n",
              "      <td>2</td>\n",
              "      <td>38</td>\n",
              "      <td>84</td>\n",
              "      <td>1.78</td>\n",
              "    </tr>\n",
              "    <tr>\n",
              "      <th>2</th>\n",
              "      <td>3</td>\n",
              "      <td>36</td>\n",
              "      <td>67</td>\n",
              "      <td>1.60</td>\n",
              "    </tr>\n",
              "    <tr>\n",
              "      <th>3</th>\n",
              "      <td>4</td>\n",
              "      <td>41</td>\n",
              "      <td>106</td>\n",
              "      <td>1.83</td>\n",
              "    </tr>\n",
              "    <tr>\n",
              "      <th>4</th>\n",
              "      <td>5</td>\n",
              "      <td>36</td>\n",
              "      <td>106</td>\n",
              "      <td>1.72</td>\n",
              "    </tr>\n",
              "  </tbody>\n",
              "</table>\n",
              "</div>\n",
              "      <button class=\"colab-df-convert\" onclick=\"convertToInteractive('df-c2e61a28-3ba2-415d-b668-8fc6d660e2a1')\"\n",
              "              title=\"Convert this dataframe to an interactive table.\"\n",
              "              style=\"display:none;\">\n",
              "        \n",
              "  <svg xmlns=\"http://www.w3.org/2000/svg\" height=\"24px\"viewBox=\"0 0 24 24\"\n",
              "       width=\"24px\">\n",
              "    <path d=\"M0 0h24v24H0V0z\" fill=\"none\"/>\n",
              "    <path d=\"M18.56 5.44l.94 2.06.94-2.06 2.06-.94-2.06-.94-.94-2.06-.94 2.06-2.06.94zm-11 1L8.5 8.5l.94-2.06 2.06-.94-2.06-.94L8.5 2.5l-.94 2.06-2.06.94zm10 10l.94 2.06.94-2.06 2.06-.94-2.06-.94-.94-2.06-.94 2.06-2.06.94z\"/><path d=\"M17.41 7.96l-1.37-1.37c-.4-.4-.92-.59-1.43-.59-.52 0-1.04.2-1.43.59L10.3 9.45l-7.72 7.72c-.78.78-.78 2.05 0 2.83L4 21.41c.39.39.9.59 1.41.59.51 0 1.02-.2 1.41-.59l7.78-7.78 2.81-2.81c.8-.78.8-2.07 0-2.86zM5.41 20L4 18.59l7.72-7.72 1.47 1.35L5.41 20z\"/>\n",
              "  </svg>\n",
              "      </button>\n",
              "      \n",
              "  <style>\n",
              "    .colab-df-container {\n",
              "      display:flex;\n",
              "      flex-wrap:wrap;\n",
              "      gap: 12px;\n",
              "    }\n",
              "\n",
              "    .colab-df-convert {\n",
              "      background-color: #E8F0FE;\n",
              "      border: none;\n",
              "      border-radius: 50%;\n",
              "      cursor: pointer;\n",
              "      display: none;\n",
              "      fill: #1967D2;\n",
              "      height: 32px;\n",
              "      padding: 0 0 0 0;\n",
              "      width: 32px;\n",
              "    }\n",
              "\n",
              "    .colab-df-convert:hover {\n",
              "      background-color: #E2EBFA;\n",
              "      box-shadow: 0px 1px 2px rgba(60, 64, 67, 0.3), 0px 1px 3px 1px rgba(60, 64, 67, 0.15);\n",
              "      fill: #174EA6;\n",
              "    }\n",
              "\n",
              "    [theme=dark] .colab-df-convert {\n",
              "      background-color: #3B4455;\n",
              "      fill: #D2E3FC;\n",
              "    }\n",
              "\n",
              "    [theme=dark] .colab-df-convert:hover {\n",
              "      background-color: #434B5C;\n",
              "      box-shadow: 0px 1px 3px 1px rgba(0, 0, 0, 0.15);\n",
              "      filter: drop-shadow(0px 1px 2px rgba(0, 0, 0, 0.3));\n",
              "      fill: #FFFFFF;\n",
              "    }\n",
              "  </style>\n",
              "\n",
              "      <script>\n",
              "        const buttonEl =\n",
              "          document.querySelector('#df-c2e61a28-3ba2-415d-b668-8fc6d660e2a1 button.colab-df-convert');\n",
              "        buttonEl.style.display =\n",
              "          google.colab.kernel.accessAllowed ? 'block' : 'none';\n",
              "\n",
              "        async function convertToInteractive(key) {\n",
              "          const element = document.querySelector('#df-c2e61a28-3ba2-415d-b668-8fc6d660e2a1');\n",
              "          const dataTable =\n",
              "            await google.colab.kernel.invokeFunction('convertToInteractive',\n",
              "                                                     [key], {});\n",
              "          if (!dataTable) return;\n",
              "\n",
              "          const docLinkHtml = 'Like what you see? Visit the ' +\n",
              "            '<a target=\"_blank\" href=https://colab.research.google.com/notebooks/data_table.ipynb>data table notebook</a>'\n",
              "            + ' to learn more about interactive tables.';\n",
              "          element.innerHTML = '';\n",
              "          dataTable['output_type'] = 'display_data';\n",
              "          await google.colab.output.renderOutput(dataTable, element);\n",
              "          const docLink = document.createElement('div');\n",
              "          docLink.innerHTML = docLinkHtml;\n",
              "          element.appendChild(docLink);\n",
              "        }\n",
              "      </script>\n",
              "    </div>\n",
              "  </div>\n",
              "  "
            ]
          },
          "metadata": {},
          "execution_count": 45
        }
      ]
    },
    {
      "cell_type": "markdown",
      "source": [
        "### **DATAFRAME**\n",
        "\n",
        "É uma estrutura de dados bidimensional, contendo linhas e colunas. Uma tabela de dados mutável, algo equivalente a uma planilha de excel. O PANDAS proporciona uma série de funcões que podemos utilizar para manipular essa estrutura, a função **'.head()'** sendo uma delas.\n",
        "\n",
        "Documentação: https://pandas.pydata.org/docs/reference/api/pandas.DataFrame.dtypes.html"
      ],
      "metadata": {
        "id": "pHFSzSJKBuv4"
      }
    },
    {
      "cell_type": "code",
      "source": [
        "print(type(af))"
      ],
      "metadata": {
        "id": "H2tV6xjEBxg-",
        "outputId": "c13456d3-1487-4cf6-c80a-319d725305cd",
        "colab": {
          "base_uri": "https://localhost:8080/"
        }
      },
      "execution_count": 39,
      "outputs": [
        {
          "output_type": "stream",
          "name": "stdout",
          "text": [
            "<class 'pandas.core.frame.DataFrame'>\n"
          ]
        }
      ]
    },
    {
      "cell_type": "markdown",
      "source": [
        "### **LISTAS**\n",
        "Outra estrutura que precisaremos neste workshop são as listas. Uma lista é uma variável onde podemos armazenar multiplos valores/itens, não necessariamente do mesmo tipo. Estes itens são colocados entre colchetes [ ].\n",
        "\n",
        "***Não vamos nos aprofundar no tema de listas, mas vamos utilizar esta estrutura na hora de interagir com nosso Dataframe.***"
      ],
      "metadata": {
        "id": "1qc5-VfFJxfZ"
      }
    },
    {
      "cell_type": "code",
      "source": [
        "# Exemplo de Lista (declarando uma nova variável chamada L)\n",
        "\n",
        "L = [1,2,3,4,5,6]\n",
        "print(L)\n",
        "print(type(L))\n",
        "\n",
        "# ou\n",
        "print('------------')\n",
        "\n",
        "LL = list([1,2,3,4,5,6])\n",
        "print(LL)\n",
        "print(type(LL))\n",
        "\n",
        "\n",
        "''' Não vamos nos aprofundar no tema de listas, mas vamos utilizar esta\n",
        "    estrutura na hora de interagir com nosso Dataframe.\n",
        "'''"
      ],
      "metadata": {
        "id": "OxQoZL0bK7zn",
        "outputId": "09ced88d-9c02-487c-8bc5-ac5646debe2e",
        "colab": {
          "base_uri": "https://localhost:8080/",
          "height": 122
        }
      },
      "execution_count": 40,
      "outputs": [
        {
          "output_type": "stream",
          "name": "stdout",
          "text": [
            "[1, 2, 3, 4, 5, 6]\n",
            "<class 'list'>\n",
            "------------\n",
            "[1, 2, 3, 4, 5, 6]\n",
            "<class 'list'>\n"
          ]
        },
        {
          "output_type": "execute_result",
          "data": {
            "text/plain": [
              "' Não vamos nos aprofundar no tema de listas, mas vamos utilizar esta\\n    estrutura na hora de interagir com nosso Dataframe.\\n'"
            ],
            "application/vnd.google.colaboratory.intrinsic+json": {
              "type": "string"
            }
          },
          "metadata": {},
          "execution_count": 40
        }
      ]
    },
    {
      "cell_type": "markdown",
      "source": [
        "##### **Propriedades de um Dataframe**\n",
        "\n",
        "Existem algumas funções que podemos utilizar para entender algumas características do nosso Dataframe como: Nomes das colunas, quantidade de colunas e linhas, quantidade de elementos, tipos de dados, entre outros.\n",
        "(repare que as funções que descrevem propriedades do dataframe não tem nenhum parâmetro envolvido, ou seja, não haverão parênteses)"
      ],
      "metadata": {
        "id": "bGOrUG6NUObW"
      }
    },
    {
      "cell_type": "code",
      "source": [
        "# .columns\n",
        "''' Para ver todas as colunas existentes no nosso Dataframe 'af': \n",
        "'''\n",
        "\n",
        "print(af.columns)"
      ],
      "metadata": {
        "id": "Qt6gS4T7NZpM",
        "outputId": "8ba1b22c-412f-43a6-8348-e1cc512175be",
        "colab": {
          "base_uri": "https://localhost:8080/"
        }
      },
      "execution_count": 41,
      "outputs": [
        {
          "output_type": "stream",
          "name": "stdout",
          "text": [
            "Index(['ID', 'IDADE', 'PESO', 'ALTURA'], dtype='object')\n"
          ]
        }
      ]
    },
    {
      "cell_type": "code",
      "source": [
        "# .shape\n",
        "''' Para ver a quantidade de colunas e a quantidade de linhas: \n",
        "    (linhas, colunas)\n",
        "'''\n",
        "\n",
        "print(af.shape)"
      ],
      "metadata": {
        "id": "oTv5Sf8QTuV8",
        "outputId": "b502c6ea-de95-42dc-c12b-3db217149292",
        "colab": {
          "base_uri": "https://localhost:8080/"
        }
      },
      "execution_count": 42,
      "outputs": [
        {
          "output_type": "stream",
          "name": "stdout",
          "text": [
            "(500, 4)\n"
          ]
        }
      ]
    },
    {
      "cell_type": "code",
      "source": [
        "# .size\n",
        "''' Para ver a quantidade de elementos no dataframe, ou seja,\n",
        "    quantidade de colunas x quantidade de linhas: \n",
        "'''\n",
        "\n",
        "print(af.size)"
      ],
      "metadata": {
        "id": "nqkL4HWlIKuv",
        "outputId": "82f8cfdc-a1c3-4020-e207-ebd7713fdbb9",
        "colab": {
          "base_uri": "https://localhost:8080/"
        }
      },
      "execution_count": 43,
      "outputs": [
        {
          "output_type": "stream",
          "name": "stdout",
          "text": [
            "2000\n"
          ]
        }
      ]
    },
    {
      "cell_type": "code",
      "source": [
        "# .dtype\n",
        "''' Para ver a quantidade de elementos no dataframe, ou seja,\n",
        "    quantidade de colunas x quantidade de linhas: \n",
        "'''\n",
        "\n",
        "print(af.dtypes)"
      ],
      "metadata": {
        "id": "yF_kv7ynIKx_",
        "outputId": "9c9de976-4a65-4e0d-90f0-690049a35744",
        "colab": {
          "base_uri": "https://localhost:8080/"
        }
      },
      "execution_count": 44,
      "outputs": [
        {
          "output_type": "stream",
          "name": "stdout",
          "text": [
            "ID          int64\n",
            "IDADE       int64\n",
            "PESO        int64\n",
            "ALTURA    float64\n",
            "dtype: object\n"
          ]
        }
      ]
    },
    {
      "cell_type": "markdown",
      "source": [
        "##### **Métodos para um Dataframe**\n",
        "\n",
        "As funções que usamos para manipular ou visualizar o dataframe. Estas sim disponibilizam parâmetros que podemos passar para escolhermos o que queremos fazer com a função."
      ],
      "metadata": {
        "id": "CiW3zcVbUyqG"
      }
    },
    {
      "cell_type": "code",
      "source": [
        "# .head()\n",
        "''' Trazer as primeiras 7 linhas do dataframe:\n",
        "'''\n",
        "\n",
        "af.head(7)"
      ],
      "metadata": {
        "id": "xSjJEYoCMAMC",
        "outputId": "2406b049-45a4-456f-f341-6ec5e72e578b",
        "colab": {
          "base_uri": "https://localhost:8080/",
          "height": 269
        }
      },
      "execution_count": 46,
      "outputs": [
        {
          "output_type": "execute_result",
          "data": {
            "text/plain": [
              "   ID  IDADE  PESO  ALTURA\n",
              "0   1     26   112    1.80\n",
              "1   2     38    84    1.78\n",
              "2   3     36    67    1.60\n",
              "3   4     41   106    1.83\n",
              "4   5     36   106    1.72\n",
              "5   6     27    82    1.95\n",
              "6   7     25    74    1.86"
            ],
            "text/html": [
              "\n",
              "  <div id=\"df-ed32078e-4a90-4350-b0cc-2c90d458e31d\">\n",
              "    <div class=\"colab-df-container\">\n",
              "      <div>\n",
              "<style scoped>\n",
              "    .dataframe tbody tr th:only-of-type {\n",
              "        vertical-align: middle;\n",
              "    }\n",
              "\n",
              "    .dataframe tbody tr th {\n",
              "        vertical-align: top;\n",
              "    }\n",
              "\n",
              "    .dataframe thead th {\n",
              "        text-align: right;\n",
              "    }\n",
              "</style>\n",
              "<table border=\"1\" class=\"dataframe\">\n",
              "  <thead>\n",
              "    <tr style=\"text-align: right;\">\n",
              "      <th></th>\n",
              "      <th>ID</th>\n",
              "      <th>IDADE</th>\n",
              "      <th>PESO</th>\n",
              "      <th>ALTURA</th>\n",
              "    </tr>\n",
              "  </thead>\n",
              "  <tbody>\n",
              "    <tr>\n",
              "      <th>0</th>\n",
              "      <td>1</td>\n",
              "      <td>26</td>\n",
              "      <td>112</td>\n",
              "      <td>1.80</td>\n",
              "    </tr>\n",
              "    <tr>\n",
              "      <th>1</th>\n",
              "      <td>2</td>\n",
              "      <td>38</td>\n",
              "      <td>84</td>\n",
              "      <td>1.78</td>\n",
              "    </tr>\n",
              "    <tr>\n",
              "      <th>2</th>\n",
              "      <td>3</td>\n",
              "      <td>36</td>\n",
              "      <td>67</td>\n",
              "      <td>1.60</td>\n",
              "    </tr>\n",
              "    <tr>\n",
              "      <th>3</th>\n",
              "      <td>4</td>\n",
              "      <td>41</td>\n",
              "      <td>106</td>\n",
              "      <td>1.83</td>\n",
              "    </tr>\n",
              "    <tr>\n",
              "      <th>4</th>\n",
              "      <td>5</td>\n",
              "      <td>36</td>\n",
              "      <td>106</td>\n",
              "      <td>1.72</td>\n",
              "    </tr>\n",
              "    <tr>\n",
              "      <th>5</th>\n",
              "      <td>6</td>\n",
              "      <td>27</td>\n",
              "      <td>82</td>\n",
              "      <td>1.95</td>\n",
              "    </tr>\n",
              "    <tr>\n",
              "      <th>6</th>\n",
              "      <td>7</td>\n",
              "      <td>25</td>\n",
              "      <td>74</td>\n",
              "      <td>1.86</td>\n",
              "    </tr>\n",
              "  </tbody>\n",
              "</table>\n",
              "</div>\n",
              "      <button class=\"colab-df-convert\" onclick=\"convertToInteractive('df-ed32078e-4a90-4350-b0cc-2c90d458e31d')\"\n",
              "              title=\"Convert this dataframe to an interactive table.\"\n",
              "              style=\"display:none;\">\n",
              "        \n",
              "  <svg xmlns=\"http://www.w3.org/2000/svg\" height=\"24px\"viewBox=\"0 0 24 24\"\n",
              "       width=\"24px\">\n",
              "    <path d=\"M0 0h24v24H0V0z\" fill=\"none\"/>\n",
              "    <path d=\"M18.56 5.44l.94 2.06.94-2.06 2.06-.94-2.06-.94-.94-2.06-.94 2.06-2.06.94zm-11 1L8.5 8.5l.94-2.06 2.06-.94-2.06-.94L8.5 2.5l-.94 2.06-2.06.94zm10 10l.94 2.06.94-2.06 2.06-.94-2.06-.94-.94-2.06-.94 2.06-2.06.94z\"/><path d=\"M17.41 7.96l-1.37-1.37c-.4-.4-.92-.59-1.43-.59-.52 0-1.04.2-1.43.59L10.3 9.45l-7.72 7.72c-.78.78-.78 2.05 0 2.83L4 21.41c.39.39.9.59 1.41.59.51 0 1.02-.2 1.41-.59l7.78-7.78 2.81-2.81c.8-.78.8-2.07 0-2.86zM5.41 20L4 18.59l7.72-7.72 1.47 1.35L5.41 20z\"/>\n",
              "  </svg>\n",
              "      </button>\n",
              "      \n",
              "  <style>\n",
              "    .colab-df-container {\n",
              "      display:flex;\n",
              "      flex-wrap:wrap;\n",
              "      gap: 12px;\n",
              "    }\n",
              "\n",
              "    .colab-df-convert {\n",
              "      background-color: #E8F0FE;\n",
              "      border: none;\n",
              "      border-radius: 50%;\n",
              "      cursor: pointer;\n",
              "      display: none;\n",
              "      fill: #1967D2;\n",
              "      height: 32px;\n",
              "      padding: 0 0 0 0;\n",
              "      width: 32px;\n",
              "    }\n",
              "\n",
              "    .colab-df-convert:hover {\n",
              "      background-color: #E2EBFA;\n",
              "      box-shadow: 0px 1px 2px rgba(60, 64, 67, 0.3), 0px 1px 3px 1px rgba(60, 64, 67, 0.15);\n",
              "      fill: #174EA6;\n",
              "    }\n",
              "\n",
              "    [theme=dark] .colab-df-convert {\n",
              "      background-color: #3B4455;\n",
              "      fill: #D2E3FC;\n",
              "    }\n",
              "\n",
              "    [theme=dark] .colab-df-convert:hover {\n",
              "      background-color: #434B5C;\n",
              "      box-shadow: 0px 1px 3px 1px rgba(0, 0, 0, 0.15);\n",
              "      filter: drop-shadow(0px 1px 2px rgba(0, 0, 0, 0.3));\n",
              "      fill: #FFFFFF;\n",
              "    }\n",
              "  </style>\n",
              "\n",
              "      <script>\n",
              "        const buttonEl =\n",
              "          document.querySelector('#df-ed32078e-4a90-4350-b0cc-2c90d458e31d button.colab-df-convert');\n",
              "        buttonEl.style.display =\n",
              "          google.colab.kernel.accessAllowed ? 'block' : 'none';\n",
              "\n",
              "        async function convertToInteractive(key) {\n",
              "          const element = document.querySelector('#df-ed32078e-4a90-4350-b0cc-2c90d458e31d');\n",
              "          const dataTable =\n",
              "            await google.colab.kernel.invokeFunction('convertToInteractive',\n",
              "                                                     [key], {});\n",
              "          if (!dataTable) return;\n",
              "\n",
              "          const docLinkHtml = 'Like what you see? Visit the ' +\n",
              "            '<a target=\"_blank\" href=https://colab.research.google.com/notebooks/data_table.ipynb>data table notebook</a>'\n",
              "            + ' to learn more about interactive tables.';\n",
              "          element.innerHTML = '';\n",
              "          dataTable['output_type'] = 'display_data';\n",
              "          await google.colab.output.renderOutput(dataTable, element);\n",
              "          const docLink = document.createElement('div');\n",
              "          docLink.innerHTML = docLinkHtml;\n",
              "          element.appendChild(docLink);\n",
              "        }\n",
              "      </script>\n",
              "    </div>\n",
              "  </div>\n",
              "  "
            ]
          },
          "metadata": {},
          "execution_count": 46
        }
      ]
    },
    {
      "cell_type": "code",
      "source": [
        "# .tail()\n",
        "''' Trazer as últimas 3 linhas do dataframe:\n",
        "'''\n",
        "\n",
        "af.tail(3)"
      ],
      "metadata": {
        "id": "y1IS5TBpMAPW",
        "outputId": "641275a0-da30-4672-9d7c-c176708fb7ba",
        "colab": {
          "base_uri": "https://localhost:8080/",
          "height": 143
        }
      },
      "execution_count": 47,
      "outputs": [
        {
          "output_type": "execute_result",
          "data": {
            "text/plain": [
              "      ID  IDADE  PESO  ALTURA\n",
              "497  498     45   125    1.76\n",
              "498  499     43   116    1.92\n",
              "499  500     40    87    1.71"
            ],
            "text/html": [
              "\n",
              "  <div id=\"df-96258147-1a6c-43e1-8bb2-53742a461058\">\n",
              "    <div class=\"colab-df-container\">\n",
              "      <div>\n",
              "<style scoped>\n",
              "    .dataframe tbody tr th:only-of-type {\n",
              "        vertical-align: middle;\n",
              "    }\n",
              "\n",
              "    .dataframe tbody tr th {\n",
              "        vertical-align: top;\n",
              "    }\n",
              "\n",
              "    .dataframe thead th {\n",
              "        text-align: right;\n",
              "    }\n",
              "</style>\n",
              "<table border=\"1\" class=\"dataframe\">\n",
              "  <thead>\n",
              "    <tr style=\"text-align: right;\">\n",
              "      <th></th>\n",
              "      <th>ID</th>\n",
              "      <th>IDADE</th>\n",
              "      <th>PESO</th>\n",
              "      <th>ALTURA</th>\n",
              "    </tr>\n",
              "  </thead>\n",
              "  <tbody>\n",
              "    <tr>\n",
              "      <th>497</th>\n",
              "      <td>498</td>\n",
              "      <td>45</td>\n",
              "      <td>125</td>\n",
              "      <td>1.76</td>\n",
              "    </tr>\n",
              "    <tr>\n",
              "      <th>498</th>\n",
              "      <td>499</td>\n",
              "      <td>43</td>\n",
              "      <td>116</td>\n",
              "      <td>1.92</td>\n",
              "    </tr>\n",
              "    <tr>\n",
              "      <th>499</th>\n",
              "      <td>500</td>\n",
              "      <td>40</td>\n",
              "      <td>87</td>\n",
              "      <td>1.71</td>\n",
              "    </tr>\n",
              "  </tbody>\n",
              "</table>\n",
              "</div>\n",
              "      <button class=\"colab-df-convert\" onclick=\"convertToInteractive('df-96258147-1a6c-43e1-8bb2-53742a461058')\"\n",
              "              title=\"Convert this dataframe to an interactive table.\"\n",
              "              style=\"display:none;\">\n",
              "        \n",
              "  <svg xmlns=\"http://www.w3.org/2000/svg\" height=\"24px\"viewBox=\"0 0 24 24\"\n",
              "       width=\"24px\">\n",
              "    <path d=\"M0 0h24v24H0V0z\" fill=\"none\"/>\n",
              "    <path d=\"M18.56 5.44l.94 2.06.94-2.06 2.06-.94-2.06-.94-.94-2.06-.94 2.06-2.06.94zm-11 1L8.5 8.5l.94-2.06 2.06-.94-2.06-.94L8.5 2.5l-.94 2.06-2.06.94zm10 10l.94 2.06.94-2.06 2.06-.94-2.06-.94-.94-2.06-.94 2.06-2.06.94z\"/><path d=\"M17.41 7.96l-1.37-1.37c-.4-.4-.92-.59-1.43-.59-.52 0-1.04.2-1.43.59L10.3 9.45l-7.72 7.72c-.78.78-.78 2.05 0 2.83L4 21.41c.39.39.9.59 1.41.59.51 0 1.02-.2 1.41-.59l7.78-7.78 2.81-2.81c.8-.78.8-2.07 0-2.86zM5.41 20L4 18.59l7.72-7.72 1.47 1.35L5.41 20z\"/>\n",
              "  </svg>\n",
              "      </button>\n",
              "      \n",
              "  <style>\n",
              "    .colab-df-container {\n",
              "      display:flex;\n",
              "      flex-wrap:wrap;\n",
              "      gap: 12px;\n",
              "    }\n",
              "\n",
              "    .colab-df-convert {\n",
              "      background-color: #E8F0FE;\n",
              "      border: none;\n",
              "      border-radius: 50%;\n",
              "      cursor: pointer;\n",
              "      display: none;\n",
              "      fill: #1967D2;\n",
              "      height: 32px;\n",
              "      padding: 0 0 0 0;\n",
              "      width: 32px;\n",
              "    }\n",
              "\n",
              "    .colab-df-convert:hover {\n",
              "      background-color: #E2EBFA;\n",
              "      box-shadow: 0px 1px 2px rgba(60, 64, 67, 0.3), 0px 1px 3px 1px rgba(60, 64, 67, 0.15);\n",
              "      fill: #174EA6;\n",
              "    }\n",
              "\n",
              "    [theme=dark] .colab-df-convert {\n",
              "      background-color: #3B4455;\n",
              "      fill: #D2E3FC;\n",
              "    }\n",
              "\n",
              "    [theme=dark] .colab-df-convert:hover {\n",
              "      background-color: #434B5C;\n",
              "      box-shadow: 0px 1px 3px 1px rgba(0, 0, 0, 0.15);\n",
              "      filter: drop-shadow(0px 1px 2px rgba(0, 0, 0, 0.3));\n",
              "      fill: #FFFFFF;\n",
              "    }\n",
              "  </style>\n",
              "\n",
              "      <script>\n",
              "        const buttonEl =\n",
              "          document.querySelector('#df-96258147-1a6c-43e1-8bb2-53742a461058 button.colab-df-convert');\n",
              "        buttonEl.style.display =\n",
              "          google.colab.kernel.accessAllowed ? 'block' : 'none';\n",
              "\n",
              "        async function convertToInteractive(key) {\n",
              "          const element = document.querySelector('#df-96258147-1a6c-43e1-8bb2-53742a461058');\n",
              "          const dataTable =\n",
              "            await google.colab.kernel.invokeFunction('convertToInteractive',\n",
              "                                                     [key], {});\n",
              "          if (!dataTable) return;\n",
              "\n",
              "          const docLinkHtml = 'Like what you see? Visit the ' +\n",
              "            '<a target=\"_blank\" href=https://colab.research.google.com/notebooks/data_table.ipynb>data table notebook</a>'\n",
              "            + ' to learn more about interactive tables.';\n",
              "          element.innerHTML = '';\n",
              "          dataTable['output_type'] = 'display_data';\n",
              "          await google.colab.output.renderOutput(dataTable, element);\n",
              "          const docLink = document.createElement('div');\n",
              "          docLink.innerHTML = docLinkHtml;\n",
              "          element.appendChild(docLink);\n",
              "        }\n",
              "      </script>\n",
              "    </div>\n",
              "  </div>\n",
              "  "
            ]
          },
          "metadata": {},
          "execution_count": 47
        }
      ]
    },
    {
      "cell_type": "code",
      "source": [
        "# .sort_values\n",
        "''' Trazer o Dataframe ordenado por Idade (em ordem decrescente)\n",
        "'''\n",
        "\n",
        "af.sort_values('IDADE', ascending=False).head()"
      ],
      "metadata": {
        "id": "oOiN3RVBxYPq",
        "outputId": "b9949a6e-6987-44c4-d4a9-94d9210603f3",
        "colab": {
          "base_uri": "https://localhost:8080/",
          "height": 206
        }
      },
      "execution_count": 48,
      "outputs": [
        {
          "output_type": "execute_result",
          "data": {
            "text/plain": [
              "      ID  IDADE  PESO  ALTURA\n",
              "458  459     45   108    1.70\n",
              "30    31     45    78    1.73\n",
              "231  232     45   115    1.90\n",
              "454  455     45    96    1.97\n",
              "457  458     45    64    1.99"
            ],
            "text/html": [
              "\n",
              "  <div id=\"df-60346563-2217-4b0e-be03-d76853f220ea\">\n",
              "    <div class=\"colab-df-container\">\n",
              "      <div>\n",
              "<style scoped>\n",
              "    .dataframe tbody tr th:only-of-type {\n",
              "        vertical-align: middle;\n",
              "    }\n",
              "\n",
              "    .dataframe tbody tr th {\n",
              "        vertical-align: top;\n",
              "    }\n",
              "\n",
              "    .dataframe thead th {\n",
              "        text-align: right;\n",
              "    }\n",
              "</style>\n",
              "<table border=\"1\" class=\"dataframe\">\n",
              "  <thead>\n",
              "    <tr style=\"text-align: right;\">\n",
              "      <th></th>\n",
              "      <th>ID</th>\n",
              "      <th>IDADE</th>\n",
              "      <th>PESO</th>\n",
              "      <th>ALTURA</th>\n",
              "    </tr>\n",
              "  </thead>\n",
              "  <tbody>\n",
              "    <tr>\n",
              "      <th>458</th>\n",
              "      <td>459</td>\n",
              "      <td>45</td>\n",
              "      <td>108</td>\n",
              "      <td>1.70</td>\n",
              "    </tr>\n",
              "    <tr>\n",
              "      <th>30</th>\n",
              "      <td>31</td>\n",
              "      <td>45</td>\n",
              "      <td>78</td>\n",
              "      <td>1.73</td>\n",
              "    </tr>\n",
              "    <tr>\n",
              "      <th>231</th>\n",
              "      <td>232</td>\n",
              "      <td>45</td>\n",
              "      <td>115</td>\n",
              "      <td>1.90</td>\n",
              "    </tr>\n",
              "    <tr>\n",
              "      <th>454</th>\n",
              "      <td>455</td>\n",
              "      <td>45</td>\n",
              "      <td>96</td>\n",
              "      <td>1.97</td>\n",
              "    </tr>\n",
              "    <tr>\n",
              "      <th>457</th>\n",
              "      <td>458</td>\n",
              "      <td>45</td>\n",
              "      <td>64</td>\n",
              "      <td>1.99</td>\n",
              "    </tr>\n",
              "  </tbody>\n",
              "</table>\n",
              "</div>\n",
              "      <button class=\"colab-df-convert\" onclick=\"convertToInteractive('df-60346563-2217-4b0e-be03-d76853f220ea')\"\n",
              "              title=\"Convert this dataframe to an interactive table.\"\n",
              "              style=\"display:none;\">\n",
              "        \n",
              "  <svg xmlns=\"http://www.w3.org/2000/svg\" height=\"24px\"viewBox=\"0 0 24 24\"\n",
              "       width=\"24px\">\n",
              "    <path d=\"M0 0h24v24H0V0z\" fill=\"none\"/>\n",
              "    <path d=\"M18.56 5.44l.94 2.06.94-2.06 2.06-.94-2.06-.94-.94-2.06-.94 2.06-2.06.94zm-11 1L8.5 8.5l.94-2.06 2.06-.94-2.06-.94L8.5 2.5l-.94 2.06-2.06.94zm10 10l.94 2.06.94-2.06 2.06-.94-2.06-.94-.94-2.06-.94 2.06-2.06.94z\"/><path d=\"M17.41 7.96l-1.37-1.37c-.4-.4-.92-.59-1.43-.59-.52 0-1.04.2-1.43.59L10.3 9.45l-7.72 7.72c-.78.78-.78 2.05 0 2.83L4 21.41c.39.39.9.59 1.41.59.51 0 1.02-.2 1.41-.59l7.78-7.78 2.81-2.81c.8-.78.8-2.07 0-2.86zM5.41 20L4 18.59l7.72-7.72 1.47 1.35L5.41 20z\"/>\n",
              "  </svg>\n",
              "      </button>\n",
              "      \n",
              "  <style>\n",
              "    .colab-df-container {\n",
              "      display:flex;\n",
              "      flex-wrap:wrap;\n",
              "      gap: 12px;\n",
              "    }\n",
              "\n",
              "    .colab-df-convert {\n",
              "      background-color: #E8F0FE;\n",
              "      border: none;\n",
              "      border-radius: 50%;\n",
              "      cursor: pointer;\n",
              "      display: none;\n",
              "      fill: #1967D2;\n",
              "      height: 32px;\n",
              "      padding: 0 0 0 0;\n",
              "      width: 32px;\n",
              "    }\n",
              "\n",
              "    .colab-df-convert:hover {\n",
              "      background-color: #E2EBFA;\n",
              "      box-shadow: 0px 1px 2px rgba(60, 64, 67, 0.3), 0px 1px 3px 1px rgba(60, 64, 67, 0.15);\n",
              "      fill: #174EA6;\n",
              "    }\n",
              "\n",
              "    [theme=dark] .colab-df-convert {\n",
              "      background-color: #3B4455;\n",
              "      fill: #D2E3FC;\n",
              "    }\n",
              "\n",
              "    [theme=dark] .colab-df-convert:hover {\n",
              "      background-color: #434B5C;\n",
              "      box-shadow: 0px 1px 3px 1px rgba(0, 0, 0, 0.15);\n",
              "      filter: drop-shadow(0px 1px 2px rgba(0, 0, 0, 0.3));\n",
              "      fill: #FFFFFF;\n",
              "    }\n",
              "  </style>\n",
              "\n",
              "      <script>\n",
              "        const buttonEl =\n",
              "          document.querySelector('#df-60346563-2217-4b0e-be03-d76853f220ea button.colab-df-convert');\n",
              "        buttonEl.style.display =\n",
              "          google.colab.kernel.accessAllowed ? 'block' : 'none';\n",
              "\n",
              "        async function convertToInteractive(key) {\n",
              "          const element = document.querySelector('#df-60346563-2217-4b0e-be03-d76853f220ea');\n",
              "          const dataTable =\n",
              "            await google.colab.kernel.invokeFunction('convertToInteractive',\n",
              "                                                     [key], {});\n",
              "          if (!dataTable) return;\n",
              "\n",
              "          const docLinkHtml = 'Like what you see? Visit the ' +\n",
              "            '<a target=\"_blank\" href=https://colab.research.google.com/notebooks/data_table.ipynb>data table notebook</a>'\n",
              "            + ' to learn more about interactive tables.';\n",
              "          element.innerHTML = '';\n",
              "          dataTable['output_type'] = 'display_data';\n",
              "          await google.colab.output.renderOutput(dataTable, element);\n",
              "          const docLink = document.createElement('div');\n",
              "          docLink.innerHTML = docLinkHtml;\n",
              "          element.appendChild(docLink);\n",
              "        }\n",
              "      </script>\n",
              "    </div>\n",
              "  </div>\n",
              "  "
            ]
          },
          "metadata": {},
          "execution_count": 48
        }
      ]
    },
    {
      "cell_type": "code",
      "source": [
        "# .sort_values\n",
        "''' Trazer o Dataframe ordenado por Idade (em ordem decrescente) \n",
        "    e Peso (em ordem crescente)\n",
        "'''\n",
        "\n",
        "af.sort_values(['IDADE','PESO'], ascending=[False,True]).head()"
      ],
      "metadata": {
        "id": "XUr_UJ2FyCkq",
        "outputId": "5ba3f198-24d2-4464-86a5-3f8b8c42e67a",
        "colab": {
          "base_uri": "https://localhost:8080/",
          "height": 206
        }
      },
      "execution_count": 49,
      "outputs": [
        {
          "output_type": "execute_result",
          "data": {
            "text/plain": [
              "      ID  IDADE  PESO  ALTURA\n",
              "317  318     45    62    1.97\n",
              "391  392     45    64    1.61\n",
              "457  458     45    64    1.99\n",
              "311  312     45    68    1.98\n",
              "30    31     45    78    1.73"
            ],
            "text/html": [
              "\n",
              "  <div id=\"df-0a8fdc2f-1f31-4482-8a5f-110560b3511f\">\n",
              "    <div class=\"colab-df-container\">\n",
              "      <div>\n",
              "<style scoped>\n",
              "    .dataframe tbody tr th:only-of-type {\n",
              "        vertical-align: middle;\n",
              "    }\n",
              "\n",
              "    .dataframe tbody tr th {\n",
              "        vertical-align: top;\n",
              "    }\n",
              "\n",
              "    .dataframe thead th {\n",
              "        text-align: right;\n",
              "    }\n",
              "</style>\n",
              "<table border=\"1\" class=\"dataframe\">\n",
              "  <thead>\n",
              "    <tr style=\"text-align: right;\">\n",
              "      <th></th>\n",
              "      <th>ID</th>\n",
              "      <th>IDADE</th>\n",
              "      <th>PESO</th>\n",
              "      <th>ALTURA</th>\n",
              "    </tr>\n",
              "  </thead>\n",
              "  <tbody>\n",
              "    <tr>\n",
              "      <th>317</th>\n",
              "      <td>318</td>\n",
              "      <td>45</td>\n",
              "      <td>62</td>\n",
              "      <td>1.97</td>\n",
              "    </tr>\n",
              "    <tr>\n",
              "      <th>391</th>\n",
              "      <td>392</td>\n",
              "      <td>45</td>\n",
              "      <td>64</td>\n",
              "      <td>1.61</td>\n",
              "    </tr>\n",
              "    <tr>\n",
              "      <th>457</th>\n",
              "      <td>458</td>\n",
              "      <td>45</td>\n",
              "      <td>64</td>\n",
              "      <td>1.99</td>\n",
              "    </tr>\n",
              "    <tr>\n",
              "      <th>311</th>\n",
              "      <td>312</td>\n",
              "      <td>45</td>\n",
              "      <td>68</td>\n",
              "      <td>1.98</td>\n",
              "    </tr>\n",
              "    <tr>\n",
              "      <th>30</th>\n",
              "      <td>31</td>\n",
              "      <td>45</td>\n",
              "      <td>78</td>\n",
              "      <td>1.73</td>\n",
              "    </tr>\n",
              "  </tbody>\n",
              "</table>\n",
              "</div>\n",
              "      <button class=\"colab-df-convert\" onclick=\"convertToInteractive('df-0a8fdc2f-1f31-4482-8a5f-110560b3511f')\"\n",
              "              title=\"Convert this dataframe to an interactive table.\"\n",
              "              style=\"display:none;\">\n",
              "        \n",
              "  <svg xmlns=\"http://www.w3.org/2000/svg\" height=\"24px\"viewBox=\"0 0 24 24\"\n",
              "       width=\"24px\">\n",
              "    <path d=\"M0 0h24v24H0V0z\" fill=\"none\"/>\n",
              "    <path d=\"M18.56 5.44l.94 2.06.94-2.06 2.06-.94-2.06-.94-.94-2.06-.94 2.06-2.06.94zm-11 1L8.5 8.5l.94-2.06 2.06-.94-2.06-.94L8.5 2.5l-.94 2.06-2.06.94zm10 10l.94 2.06.94-2.06 2.06-.94-2.06-.94-.94-2.06-.94 2.06-2.06.94z\"/><path d=\"M17.41 7.96l-1.37-1.37c-.4-.4-.92-.59-1.43-.59-.52 0-1.04.2-1.43.59L10.3 9.45l-7.72 7.72c-.78.78-.78 2.05 0 2.83L4 21.41c.39.39.9.59 1.41.59.51 0 1.02-.2 1.41-.59l7.78-7.78 2.81-2.81c.8-.78.8-2.07 0-2.86zM5.41 20L4 18.59l7.72-7.72 1.47 1.35L5.41 20z\"/>\n",
              "  </svg>\n",
              "      </button>\n",
              "      \n",
              "  <style>\n",
              "    .colab-df-container {\n",
              "      display:flex;\n",
              "      flex-wrap:wrap;\n",
              "      gap: 12px;\n",
              "    }\n",
              "\n",
              "    .colab-df-convert {\n",
              "      background-color: #E8F0FE;\n",
              "      border: none;\n",
              "      border-radius: 50%;\n",
              "      cursor: pointer;\n",
              "      display: none;\n",
              "      fill: #1967D2;\n",
              "      height: 32px;\n",
              "      padding: 0 0 0 0;\n",
              "      width: 32px;\n",
              "    }\n",
              "\n",
              "    .colab-df-convert:hover {\n",
              "      background-color: #E2EBFA;\n",
              "      box-shadow: 0px 1px 2px rgba(60, 64, 67, 0.3), 0px 1px 3px 1px rgba(60, 64, 67, 0.15);\n",
              "      fill: #174EA6;\n",
              "    }\n",
              "\n",
              "    [theme=dark] .colab-df-convert {\n",
              "      background-color: #3B4455;\n",
              "      fill: #D2E3FC;\n",
              "    }\n",
              "\n",
              "    [theme=dark] .colab-df-convert:hover {\n",
              "      background-color: #434B5C;\n",
              "      box-shadow: 0px 1px 3px 1px rgba(0, 0, 0, 0.15);\n",
              "      filter: drop-shadow(0px 1px 2px rgba(0, 0, 0, 0.3));\n",
              "      fill: #FFFFFF;\n",
              "    }\n",
              "  </style>\n",
              "\n",
              "      <script>\n",
              "        const buttonEl =\n",
              "          document.querySelector('#df-0a8fdc2f-1f31-4482-8a5f-110560b3511f button.colab-df-convert');\n",
              "        buttonEl.style.display =\n",
              "          google.colab.kernel.accessAllowed ? 'block' : 'none';\n",
              "\n",
              "        async function convertToInteractive(key) {\n",
              "          const element = document.querySelector('#df-0a8fdc2f-1f31-4482-8a5f-110560b3511f');\n",
              "          const dataTable =\n",
              "            await google.colab.kernel.invokeFunction('convertToInteractive',\n",
              "                                                     [key], {});\n",
              "          if (!dataTable) return;\n",
              "\n",
              "          const docLinkHtml = 'Like what you see? Visit the ' +\n",
              "            '<a target=\"_blank\" href=https://colab.research.google.com/notebooks/data_table.ipynb>data table notebook</a>'\n",
              "            + ' to learn more about interactive tables.';\n",
              "          element.innerHTML = '';\n",
              "          dataTable['output_type'] = 'display_data';\n",
              "          await google.colab.output.renderOutput(dataTable, element);\n",
              "          const docLink = document.createElement('div');\n",
              "          docLink.innerHTML = docLinkHtml;\n",
              "          element.appendChild(docLink);\n",
              "        }\n",
              "      </script>\n",
              "    </div>\n",
              "  </div>\n",
              "  "
            ]
          },
          "metadata": {},
          "execution_count": 49
        }
      ]
    },
    {
      "cell_type": "code",
      "source": [
        "# Selecionando uma coluna específica\n",
        "''' Agora que descobrimos como acessar a lista de colunas disponíveis em um \n",
        "    dataframe, vamos selecionar apenas a coluna 'IDADE':\n",
        "'''\n",
        "\n",
        "af_IDADE = af[['IDADE']]\n",
        "\n",
        "af_IDADE.head()"
      ],
      "metadata": {
        "id": "0bNMa-ZRMATp",
        "outputId": "80abfa8f-9bd9-4d61-ebe6-3d4eb0020b31",
        "colab": {
          "base_uri": "https://localhost:8080/",
          "height": 206
        }
      },
      "execution_count": 50,
      "outputs": [
        {
          "output_type": "execute_result",
          "data": {
            "text/plain": [
              "   IDADE\n",
              "0     26\n",
              "1     38\n",
              "2     36\n",
              "3     41\n",
              "4     36"
            ],
            "text/html": [
              "\n",
              "  <div id=\"df-a97d425c-ffb5-41fa-bdb3-46dff3364fc3\">\n",
              "    <div class=\"colab-df-container\">\n",
              "      <div>\n",
              "<style scoped>\n",
              "    .dataframe tbody tr th:only-of-type {\n",
              "        vertical-align: middle;\n",
              "    }\n",
              "\n",
              "    .dataframe tbody tr th {\n",
              "        vertical-align: top;\n",
              "    }\n",
              "\n",
              "    .dataframe thead th {\n",
              "        text-align: right;\n",
              "    }\n",
              "</style>\n",
              "<table border=\"1\" class=\"dataframe\">\n",
              "  <thead>\n",
              "    <tr style=\"text-align: right;\">\n",
              "      <th></th>\n",
              "      <th>IDADE</th>\n",
              "    </tr>\n",
              "  </thead>\n",
              "  <tbody>\n",
              "    <tr>\n",
              "      <th>0</th>\n",
              "      <td>26</td>\n",
              "    </tr>\n",
              "    <tr>\n",
              "      <th>1</th>\n",
              "      <td>38</td>\n",
              "    </tr>\n",
              "    <tr>\n",
              "      <th>2</th>\n",
              "      <td>36</td>\n",
              "    </tr>\n",
              "    <tr>\n",
              "      <th>3</th>\n",
              "      <td>41</td>\n",
              "    </tr>\n",
              "    <tr>\n",
              "      <th>4</th>\n",
              "      <td>36</td>\n",
              "    </tr>\n",
              "  </tbody>\n",
              "</table>\n",
              "</div>\n",
              "      <button class=\"colab-df-convert\" onclick=\"convertToInteractive('df-a97d425c-ffb5-41fa-bdb3-46dff3364fc3')\"\n",
              "              title=\"Convert this dataframe to an interactive table.\"\n",
              "              style=\"display:none;\">\n",
              "        \n",
              "  <svg xmlns=\"http://www.w3.org/2000/svg\" height=\"24px\"viewBox=\"0 0 24 24\"\n",
              "       width=\"24px\">\n",
              "    <path d=\"M0 0h24v24H0V0z\" fill=\"none\"/>\n",
              "    <path d=\"M18.56 5.44l.94 2.06.94-2.06 2.06-.94-2.06-.94-.94-2.06-.94 2.06-2.06.94zm-11 1L8.5 8.5l.94-2.06 2.06-.94-2.06-.94L8.5 2.5l-.94 2.06-2.06.94zm10 10l.94 2.06.94-2.06 2.06-.94-2.06-.94-.94-2.06-.94 2.06-2.06.94z\"/><path d=\"M17.41 7.96l-1.37-1.37c-.4-.4-.92-.59-1.43-.59-.52 0-1.04.2-1.43.59L10.3 9.45l-7.72 7.72c-.78.78-.78 2.05 0 2.83L4 21.41c.39.39.9.59 1.41.59.51 0 1.02-.2 1.41-.59l7.78-7.78 2.81-2.81c.8-.78.8-2.07 0-2.86zM5.41 20L4 18.59l7.72-7.72 1.47 1.35L5.41 20z\"/>\n",
              "  </svg>\n",
              "      </button>\n",
              "      \n",
              "  <style>\n",
              "    .colab-df-container {\n",
              "      display:flex;\n",
              "      flex-wrap:wrap;\n",
              "      gap: 12px;\n",
              "    }\n",
              "\n",
              "    .colab-df-convert {\n",
              "      background-color: #E8F0FE;\n",
              "      border: none;\n",
              "      border-radius: 50%;\n",
              "      cursor: pointer;\n",
              "      display: none;\n",
              "      fill: #1967D2;\n",
              "      height: 32px;\n",
              "      padding: 0 0 0 0;\n",
              "      width: 32px;\n",
              "    }\n",
              "\n",
              "    .colab-df-convert:hover {\n",
              "      background-color: #E2EBFA;\n",
              "      box-shadow: 0px 1px 2px rgba(60, 64, 67, 0.3), 0px 1px 3px 1px rgba(60, 64, 67, 0.15);\n",
              "      fill: #174EA6;\n",
              "    }\n",
              "\n",
              "    [theme=dark] .colab-df-convert {\n",
              "      background-color: #3B4455;\n",
              "      fill: #D2E3FC;\n",
              "    }\n",
              "\n",
              "    [theme=dark] .colab-df-convert:hover {\n",
              "      background-color: #434B5C;\n",
              "      box-shadow: 0px 1px 3px 1px rgba(0, 0, 0, 0.15);\n",
              "      filter: drop-shadow(0px 1px 2px rgba(0, 0, 0, 0.3));\n",
              "      fill: #FFFFFF;\n",
              "    }\n",
              "  </style>\n",
              "\n",
              "      <script>\n",
              "        const buttonEl =\n",
              "          document.querySelector('#df-a97d425c-ffb5-41fa-bdb3-46dff3364fc3 button.colab-df-convert');\n",
              "        buttonEl.style.display =\n",
              "          google.colab.kernel.accessAllowed ? 'block' : 'none';\n",
              "\n",
              "        async function convertToInteractive(key) {\n",
              "          const element = document.querySelector('#df-a97d425c-ffb5-41fa-bdb3-46dff3364fc3');\n",
              "          const dataTable =\n",
              "            await google.colab.kernel.invokeFunction('convertToInteractive',\n",
              "                                                     [key], {});\n",
              "          if (!dataTable) return;\n",
              "\n",
              "          const docLinkHtml = 'Like what you see? Visit the ' +\n",
              "            '<a target=\"_blank\" href=https://colab.research.google.com/notebooks/data_table.ipynb>data table notebook</a>'\n",
              "            + ' to learn more about interactive tables.';\n",
              "          element.innerHTML = '';\n",
              "          dataTable['output_type'] = 'display_data';\n",
              "          await google.colab.output.renderOutput(dataTable, element);\n",
              "          const docLink = document.createElement('div');\n",
              "          docLink.innerHTML = docLinkHtml;\n",
              "          element.appendChild(docLink);\n",
              "        }\n",
              "      </script>\n",
              "    </div>\n",
              "  </div>\n",
              "  "
            ]
          },
          "metadata": {},
          "execution_count": 50
        }
      ]
    },
    {
      "cell_type": "code",
      "source": [
        "# Selecionando colunas específicas\n",
        "''' Agora que descobrimos como acessar a lista de colunas disponíveis em um \n",
        "    dataframe, vamos selecionar apenas algumas colunas:\n",
        "'''\n",
        "\n",
        "af_CORPO = af[['ALTURA','PESO']]\n",
        "\n",
        "af_CORPO.head()"
      ],
      "metadata": {
        "id": "1NTbaUqNMAcT",
        "outputId": "cd688c05-dd47-488e-f91d-e7c78bfce66d",
        "colab": {
          "base_uri": "https://localhost:8080/",
          "height": 206
        }
      },
      "execution_count": 51,
      "outputs": [
        {
          "output_type": "execute_result",
          "data": {
            "text/plain": [
              "   ALTURA  PESO\n",
              "0    1.80   112\n",
              "1    1.78    84\n",
              "2    1.60    67\n",
              "3    1.83   106\n",
              "4    1.72   106"
            ],
            "text/html": [
              "\n",
              "  <div id=\"df-3bf073ac-304a-4994-9515-7a9e464b3c44\">\n",
              "    <div class=\"colab-df-container\">\n",
              "      <div>\n",
              "<style scoped>\n",
              "    .dataframe tbody tr th:only-of-type {\n",
              "        vertical-align: middle;\n",
              "    }\n",
              "\n",
              "    .dataframe tbody tr th {\n",
              "        vertical-align: top;\n",
              "    }\n",
              "\n",
              "    .dataframe thead th {\n",
              "        text-align: right;\n",
              "    }\n",
              "</style>\n",
              "<table border=\"1\" class=\"dataframe\">\n",
              "  <thead>\n",
              "    <tr style=\"text-align: right;\">\n",
              "      <th></th>\n",
              "      <th>ALTURA</th>\n",
              "      <th>PESO</th>\n",
              "    </tr>\n",
              "  </thead>\n",
              "  <tbody>\n",
              "    <tr>\n",
              "      <th>0</th>\n",
              "      <td>1.80</td>\n",
              "      <td>112</td>\n",
              "    </tr>\n",
              "    <tr>\n",
              "      <th>1</th>\n",
              "      <td>1.78</td>\n",
              "      <td>84</td>\n",
              "    </tr>\n",
              "    <tr>\n",
              "      <th>2</th>\n",
              "      <td>1.60</td>\n",
              "      <td>67</td>\n",
              "    </tr>\n",
              "    <tr>\n",
              "      <th>3</th>\n",
              "      <td>1.83</td>\n",
              "      <td>106</td>\n",
              "    </tr>\n",
              "    <tr>\n",
              "      <th>4</th>\n",
              "      <td>1.72</td>\n",
              "      <td>106</td>\n",
              "    </tr>\n",
              "  </tbody>\n",
              "</table>\n",
              "</div>\n",
              "      <button class=\"colab-df-convert\" onclick=\"convertToInteractive('df-3bf073ac-304a-4994-9515-7a9e464b3c44')\"\n",
              "              title=\"Convert this dataframe to an interactive table.\"\n",
              "              style=\"display:none;\">\n",
              "        \n",
              "  <svg xmlns=\"http://www.w3.org/2000/svg\" height=\"24px\"viewBox=\"0 0 24 24\"\n",
              "       width=\"24px\">\n",
              "    <path d=\"M0 0h24v24H0V0z\" fill=\"none\"/>\n",
              "    <path d=\"M18.56 5.44l.94 2.06.94-2.06 2.06-.94-2.06-.94-.94-2.06-.94 2.06-2.06.94zm-11 1L8.5 8.5l.94-2.06 2.06-.94-2.06-.94L8.5 2.5l-.94 2.06-2.06.94zm10 10l.94 2.06.94-2.06 2.06-.94-2.06-.94-.94-2.06-.94 2.06-2.06.94z\"/><path d=\"M17.41 7.96l-1.37-1.37c-.4-.4-.92-.59-1.43-.59-.52 0-1.04.2-1.43.59L10.3 9.45l-7.72 7.72c-.78.78-.78 2.05 0 2.83L4 21.41c.39.39.9.59 1.41.59.51 0 1.02-.2 1.41-.59l7.78-7.78 2.81-2.81c.8-.78.8-2.07 0-2.86zM5.41 20L4 18.59l7.72-7.72 1.47 1.35L5.41 20z\"/>\n",
              "  </svg>\n",
              "      </button>\n",
              "      \n",
              "  <style>\n",
              "    .colab-df-container {\n",
              "      display:flex;\n",
              "      flex-wrap:wrap;\n",
              "      gap: 12px;\n",
              "    }\n",
              "\n",
              "    .colab-df-convert {\n",
              "      background-color: #E8F0FE;\n",
              "      border: none;\n",
              "      border-radius: 50%;\n",
              "      cursor: pointer;\n",
              "      display: none;\n",
              "      fill: #1967D2;\n",
              "      height: 32px;\n",
              "      padding: 0 0 0 0;\n",
              "      width: 32px;\n",
              "    }\n",
              "\n",
              "    .colab-df-convert:hover {\n",
              "      background-color: #E2EBFA;\n",
              "      box-shadow: 0px 1px 2px rgba(60, 64, 67, 0.3), 0px 1px 3px 1px rgba(60, 64, 67, 0.15);\n",
              "      fill: #174EA6;\n",
              "    }\n",
              "\n",
              "    [theme=dark] .colab-df-convert {\n",
              "      background-color: #3B4455;\n",
              "      fill: #D2E3FC;\n",
              "    }\n",
              "\n",
              "    [theme=dark] .colab-df-convert:hover {\n",
              "      background-color: #434B5C;\n",
              "      box-shadow: 0px 1px 3px 1px rgba(0, 0, 0, 0.15);\n",
              "      filter: drop-shadow(0px 1px 2px rgba(0, 0, 0, 0.3));\n",
              "      fill: #FFFFFF;\n",
              "    }\n",
              "  </style>\n",
              "\n",
              "      <script>\n",
              "        const buttonEl =\n",
              "          document.querySelector('#df-3bf073ac-304a-4994-9515-7a9e464b3c44 button.colab-df-convert');\n",
              "        buttonEl.style.display =\n",
              "          google.colab.kernel.accessAllowed ? 'block' : 'none';\n",
              "\n",
              "        async function convertToInteractive(key) {\n",
              "          const element = document.querySelector('#df-3bf073ac-304a-4994-9515-7a9e464b3c44');\n",
              "          const dataTable =\n",
              "            await google.colab.kernel.invokeFunction('convertToInteractive',\n",
              "                                                     [key], {});\n",
              "          if (!dataTable) return;\n",
              "\n",
              "          const docLinkHtml = 'Like what you see? Visit the ' +\n",
              "            '<a target=\"_blank\" href=https://colab.research.google.com/notebooks/data_table.ipynb>data table notebook</a>'\n",
              "            + ' to learn more about interactive tables.';\n",
              "          element.innerHTML = '';\n",
              "          dataTable['output_type'] = 'display_data';\n",
              "          await google.colab.output.renderOutput(dataTable, element);\n",
              "          const docLink = document.createElement('div');\n",
              "          docLink.innerHTML = docLinkHtml;\n",
              "          element.appendChild(docLink);\n",
              "        }\n",
              "      </script>\n",
              "    </div>\n",
              "  </div>\n",
              "  "
            ]
          },
          "metadata": {},
          "execution_count": 51
        }
      ]
    },
    {
      "cell_type": "code",
      "source": [
        "# .drop()\n",
        "\n",
        "''' Para eliminar uma ou mais colunas usamos a função drop()\n",
        "    Vamos eliminar a coluna 'ID' considerando que o dataframe já criou um \n",
        "    ID para cada linha quando importamos o arquivo:\n",
        "'''\n",
        "\n",
        "af.drop('ID',axis=1).head()"
      ],
      "metadata": {
        "id": "ZRu60I6iyvw0",
        "outputId": "508a01e5-81c0-4625-bb68-51cabb1e8097",
        "colab": {
          "base_uri": "https://localhost:8080/",
          "height": 206
        }
      },
      "execution_count": 52,
      "outputs": [
        {
          "output_type": "execute_result",
          "data": {
            "text/plain": [
              "   IDADE  PESO  ALTURA\n",
              "0     26   112    1.80\n",
              "1     38    84    1.78\n",
              "2     36    67    1.60\n",
              "3     41   106    1.83\n",
              "4     36   106    1.72"
            ],
            "text/html": [
              "\n",
              "  <div id=\"df-7bc7ca93-a275-4dee-8cec-375117c9fd99\">\n",
              "    <div class=\"colab-df-container\">\n",
              "      <div>\n",
              "<style scoped>\n",
              "    .dataframe tbody tr th:only-of-type {\n",
              "        vertical-align: middle;\n",
              "    }\n",
              "\n",
              "    .dataframe tbody tr th {\n",
              "        vertical-align: top;\n",
              "    }\n",
              "\n",
              "    .dataframe thead th {\n",
              "        text-align: right;\n",
              "    }\n",
              "</style>\n",
              "<table border=\"1\" class=\"dataframe\">\n",
              "  <thead>\n",
              "    <tr style=\"text-align: right;\">\n",
              "      <th></th>\n",
              "      <th>IDADE</th>\n",
              "      <th>PESO</th>\n",
              "      <th>ALTURA</th>\n",
              "    </tr>\n",
              "  </thead>\n",
              "  <tbody>\n",
              "    <tr>\n",
              "      <th>0</th>\n",
              "      <td>26</td>\n",
              "      <td>112</td>\n",
              "      <td>1.80</td>\n",
              "    </tr>\n",
              "    <tr>\n",
              "      <th>1</th>\n",
              "      <td>38</td>\n",
              "      <td>84</td>\n",
              "      <td>1.78</td>\n",
              "    </tr>\n",
              "    <tr>\n",
              "      <th>2</th>\n",
              "      <td>36</td>\n",
              "      <td>67</td>\n",
              "      <td>1.60</td>\n",
              "    </tr>\n",
              "    <tr>\n",
              "      <th>3</th>\n",
              "      <td>41</td>\n",
              "      <td>106</td>\n",
              "      <td>1.83</td>\n",
              "    </tr>\n",
              "    <tr>\n",
              "      <th>4</th>\n",
              "      <td>36</td>\n",
              "      <td>106</td>\n",
              "      <td>1.72</td>\n",
              "    </tr>\n",
              "  </tbody>\n",
              "</table>\n",
              "</div>\n",
              "      <button class=\"colab-df-convert\" onclick=\"convertToInteractive('df-7bc7ca93-a275-4dee-8cec-375117c9fd99')\"\n",
              "              title=\"Convert this dataframe to an interactive table.\"\n",
              "              style=\"display:none;\">\n",
              "        \n",
              "  <svg xmlns=\"http://www.w3.org/2000/svg\" height=\"24px\"viewBox=\"0 0 24 24\"\n",
              "       width=\"24px\">\n",
              "    <path d=\"M0 0h24v24H0V0z\" fill=\"none\"/>\n",
              "    <path d=\"M18.56 5.44l.94 2.06.94-2.06 2.06-.94-2.06-.94-.94-2.06-.94 2.06-2.06.94zm-11 1L8.5 8.5l.94-2.06 2.06-.94-2.06-.94L8.5 2.5l-.94 2.06-2.06.94zm10 10l.94 2.06.94-2.06 2.06-.94-2.06-.94-.94-2.06-.94 2.06-2.06.94z\"/><path d=\"M17.41 7.96l-1.37-1.37c-.4-.4-.92-.59-1.43-.59-.52 0-1.04.2-1.43.59L10.3 9.45l-7.72 7.72c-.78.78-.78 2.05 0 2.83L4 21.41c.39.39.9.59 1.41.59.51 0 1.02-.2 1.41-.59l7.78-7.78 2.81-2.81c.8-.78.8-2.07 0-2.86zM5.41 20L4 18.59l7.72-7.72 1.47 1.35L5.41 20z\"/>\n",
              "  </svg>\n",
              "      </button>\n",
              "      \n",
              "  <style>\n",
              "    .colab-df-container {\n",
              "      display:flex;\n",
              "      flex-wrap:wrap;\n",
              "      gap: 12px;\n",
              "    }\n",
              "\n",
              "    .colab-df-convert {\n",
              "      background-color: #E8F0FE;\n",
              "      border: none;\n",
              "      border-radius: 50%;\n",
              "      cursor: pointer;\n",
              "      display: none;\n",
              "      fill: #1967D2;\n",
              "      height: 32px;\n",
              "      padding: 0 0 0 0;\n",
              "      width: 32px;\n",
              "    }\n",
              "\n",
              "    .colab-df-convert:hover {\n",
              "      background-color: #E2EBFA;\n",
              "      box-shadow: 0px 1px 2px rgba(60, 64, 67, 0.3), 0px 1px 3px 1px rgba(60, 64, 67, 0.15);\n",
              "      fill: #174EA6;\n",
              "    }\n",
              "\n",
              "    [theme=dark] .colab-df-convert {\n",
              "      background-color: #3B4455;\n",
              "      fill: #D2E3FC;\n",
              "    }\n",
              "\n",
              "    [theme=dark] .colab-df-convert:hover {\n",
              "      background-color: #434B5C;\n",
              "      box-shadow: 0px 1px 3px 1px rgba(0, 0, 0, 0.15);\n",
              "      filter: drop-shadow(0px 1px 2px rgba(0, 0, 0, 0.3));\n",
              "      fill: #FFFFFF;\n",
              "    }\n",
              "  </style>\n",
              "\n",
              "      <script>\n",
              "        const buttonEl =\n",
              "          document.querySelector('#df-7bc7ca93-a275-4dee-8cec-375117c9fd99 button.colab-df-convert');\n",
              "        buttonEl.style.display =\n",
              "          google.colab.kernel.accessAllowed ? 'block' : 'none';\n",
              "\n",
              "        async function convertToInteractive(key) {\n",
              "          const element = document.querySelector('#df-7bc7ca93-a275-4dee-8cec-375117c9fd99');\n",
              "          const dataTable =\n",
              "            await google.colab.kernel.invokeFunction('convertToInteractive',\n",
              "                                                     [key], {});\n",
              "          if (!dataTable) return;\n",
              "\n",
              "          const docLinkHtml = 'Like what you see? Visit the ' +\n",
              "            '<a target=\"_blank\" href=https://colab.research.google.com/notebooks/data_table.ipynb>data table notebook</a>'\n",
              "            + ' to learn more about interactive tables.';\n",
              "          element.innerHTML = '';\n",
              "          dataTable['output_type'] = 'display_data';\n",
              "          await google.colab.output.renderOutput(dataTable, element);\n",
              "          const docLink = document.createElement('div');\n",
              "          docLink.innerHTML = docLinkHtml;\n",
              "          element.appendChild(docLink);\n",
              "        }\n",
              "      </script>\n",
              "    </div>\n",
              "  </div>\n",
              "  "
            ]
          },
          "metadata": {},
          "execution_count": 52
        }
      ]
    },
    {
      "cell_type": "code",
      "source": [
        "# Incluir uma nova coluna\n",
        "\n",
        "''' Para incluir uma coluna no dataframe, devemos dar a ela um nome e o\n",
        "    o conteúdo com o qual queremos preencher essa nova coluna\n",
        "'''\n",
        "\n",
        "af[['PESO_AJUSTADO']] = af[['PESO']]+10\n",
        "af.head()"
      ],
      "metadata": {
        "id": "6kq4BJ2k0gHF",
        "outputId": "0ef76bfe-f85c-4903-c560-3bcd1922dfda",
        "colab": {
          "base_uri": "https://localhost:8080/",
          "height": 206
        }
      },
      "execution_count": 53,
      "outputs": [
        {
          "output_type": "execute_result",
          "data": {
            "text/plain": [
              "   ID  IDADE  PESO  ALTURA  PESO_AJUSTADO\n",
              "0   1     26   112    1.80            122\n",
              "1   2     38    84    1.78             94\n",
              "2   3     36    67    1.60             77\n",
              "3   4     41   106    1.83            116\n",
              "4   5     36   106    1.72            116"
            ],
            "text/html": [
              "\n",
              "  <div id=\"df-5651d8de-a0e6-4b0c-ab2d-6b7fd9d08aae\">\n",
              "    <div class=\"colab-df-container\">\n",
              "      <div>\n",
              "<style scoped>\n",
              "    .dataframe tbody tr th:only-of-type {\n",
              "        vertical-align: middle;\n",
              "    }\n",
              "\n",
              "    .dataframe tbody tr th {\n",
              "        vertical-align: top;\n",
              "    }\n",
              "\n",
              "    .dataframe thead th {\n",
              "        text-align: right;\n",
              "    }\n",
              "</style>\n",
              "<table border=\"1\" class=\"dataframe\">\n",
              "  <thead>\n",
              "    <tr style=\"text-align: right;\">\n",
              "      <th></th>\n",
              "      <th>ID</th>\n",
              "      <th>IDADE</th>\n",
              "      <th>PESO</th>\n",
              "      <th>ALTURA</th>\n",
              "      <th>PESO_AJUSTADO</th>\n",
              "    </tr>\n",
              "  </thead>\n",
              "  <tbody>\n",
              "    <tr>\n",
              "      <th>0</th>\n",
              "      <td>1</td>\n",
              "      <td>26</td>\n",
              "      <td>112</td>\n",
              "      <td>1.80</td>\n",
              "      <td>122</td>\n",
              "    </tr>\n",
              "    <tr>\n",
              "      <th>1</th>\n",
              "      <td>2</td>\n",
              "      <td>38</td>\n",
              "      <td>84</td>\n",
              "      <td>1.78</td>\n",
              "      <td>94</td>\n",
              "    </tr>\n",
              "    <tr>\n",
              "      <th>2</th>\n",
              "      <td>3</td>\n",
              "      <td>36</td>\n",
              "      <td>67</td>\n",
              "      <td>1.60</td>\n",
              "      <td>77</td>\n",
              "    </tr>\n",
              "    <tr>\n",
              "      <th>3</th>\n",
              "      <td>4</td>\n",
              "      <td>41</td>\n",
              "      <td>106</td>\n",
              "      <td>1.83</td>\n",
              "      <td>116</td>\n",
              "    </tr>\n",
              "    <tr>\n",
              "      <th>4</th>\n",
              "      <td>5</td>\n",
              "      <td>36</td>\n",
              "      <td>106</td>\n",
              "      <td>1.72</td>\n",
              "      <td>116</td>\n",
              "    </tr>\n",
              "  </tbody>\n",
              "</table>\n",
              "</div>\n",
              "      <button class=\"colab-df-convert\" onclick=\"convertToInteractive('df-5651d8de-a0e6-4b0c-ab2d-6b7fd9d08aae')\"\n",
              "              title=\"Convert this dataframe to an interactive table.\"\n",
              "              style=\"display:none;\">\n",
              "        \n",
              "  <svg xmlns=\"http://www.w3.org/2000/svg\" height=\"24px\"viewBox=\"0 0 24 24\"\n",
              "       width=\"24px\">\n",
              "    <path d=\"M0 0h24v24H0V0z\" fill=\"none\"/>\n",
              "    <path d=\"M18.56 5.44l.94 2.06.94-2.06 2.06-.94-2.06-.94-.94-2.06-.94 2.06-2.06.94zm-11 1L8.5 8.5l.94-2.06 2.06-.94-2.06-.94L8.5 2.5l-.94 2.06-2.06.94zm10 10l.94 2.06.94-2.06 2.06-.94-2.06-.94-.94-2.06-.94 2.06-2.06.94z\"/><path d=\"M17.41 7.96l-1.37-1.37c-.4-.4-.92-.59-1.43-.59-.52 0-1.04.2-1.43.59L10.3 9.45l-7.72 7.72c-.78.78-.78 2.05 0 2.83L4 21.41c.39.39.9.59 1.41.59.51 0 1.02-.2 1.41-.59l7.78-7.78 2.81-2.81c.8-.78.8-2.07 0-2.86zM5.41 20L4 18.59l7.72-7.72 1.47 1.35L5.41 20z\"/>\n",
              "  </svg>\n",
              "      </button>\n",
              "      \n",
              "  <style>\n",
              "    .colab-df-container {\n",
              "      display:flex;\n",
              "      flex-wrap:wrap;\n",
              "      gap: 12px;\n",
              "    }\n",
              "\n",
              "    .colab-df-convert {\n",
              "      background-color: #E8F0FE;\n",
              "      border: none;\n",
              "      border-radius: 50%;\n",
              "      cursor: pointer;\n",
              "      display: none;\n",
              "      fill: #1967D2;\n",
              "      height: 32px;\n",
              "      padding: 0 0 0 0;\n",
              "      width: 32px;\n",
              "    }\n",
              "\n",
              "    .colab-df-convert:hover {\n",
              "      background-color: #E2EBFA;\n",
              "      box-shadow: 0px 1px 2px rgba(60, 64, 67, 0.3), 0px 1px 3px 1px rgba(60, 64, 67, 0.15);\n",
              "      fill: #174EA6;\n",
              "    }\n",
              "\n",
              "    [theme=dark] .colab-df-convert {\n",
              "      background-color: #3B4455;\n",
              "      fill: #D2E3FC;\n",
              "    }\n",
              "\n",
              "    [theme=dark] .colab-df-convert:hover {\n",
              "      background-color: #434B5C;\n",
              "      box-shadow: 0px 1px 3px 1px rgba(0, 0, 0, 0.15);\n",
              "      filter: drop-shadow(0px 1px 2px rgba(0, 0, 0, 0.3));\n",
              "      fill: #FFFFFF;\n",
              "    }\n",
              "  </style>\n",
              "\n",
              "      <script>\n",
              "        const buttonEl =\n",
              "          document.querySelector('#df-5651d8de-a0e6-4b0c-ab2d-6b7fd9d08aae button.colab-df-convert');\n",
              "        buttonEl.style.display =\n",
              "          google.colab.kernel.accessAllowed ? 'block' : 'none';\n",
              "\n",
              "        async function convertToInteractive(key) {\n",
              "          const element = document.querySelector('#df-5651d8de-a0e6-4b0c-ab2d-6b7fd9d08aae');\n",
              "          const dataTable =\n",
              "            await google.colab.kernel.invokeFunction('convertToInteractive',\n",
              "                                                     [key], {});\n",
              "          if (!dataTable) return;\n",
              "\n",
              "          const docLinkHtml = 'Like what you see? Visit the ' +\n",
              "            '<a target=\"_blank\" href=https://colab.research.google.com/notebooks/data_table.ipynb>data table notebook</a>'\n",
              "            + ' to learn more about interactive tables.';\n",
              "          element.innerHTML = '';\n",
              "          dataTable['output_type'] = 'display_data';\n",
              "          await google.colab.output.renderOutput(dataTable, element);\n",
              "          const docLink = document.createElement('div');\n",
              "          docLink.innerHTML = docLinkHtml;\n",
              "          element.appendChild(docLink);\n",
              "        }\n",
              "      </script>\n",
              "    </div>\n",
              "  </div>\n",
              "  "
            ]
          },
          "metadata": {},
          "execution_count": 53
        }
      ]
    },
    {
      "cell_type": "code",
      "source": [
        "# Incluir uma nova coluna\n",
        "\n",
        "''' Para incluir uma coluna no dataframe, devemos dar a ela um nome e o\n",
        "    o conteúdo com o qual queremos preencher essa nova coluna\n",
        "'''\n",
        "\n",
        "af[['ALTURA_AJUSTADA']] = af[['ALTURA']]-0.04\n",
        "af.head()"
      ],
      "metadata": {
        "id": "K7dd0_CP1Tc-",
        "outputId": "13566495-dea7-4693-b5f8-f66d7d1a5ade",
        "colab": {
          "base_uri": "https://localhost:8080/",
          "height": 206
        }
      },
      "execution_count": 54,
      "outputs": [
        {
          "output_type": "execute_result",
          "data": {
            "text/plain": [
              "   ID  IDADE  PESO  ALTURA  PESO_AJUSTADO  ALTURA_AJUSTADA\n",
              "0   1     26   112    1.80            122             1.76\n",
              "1   2     38    84    1.78             94             1.74\n",
              "2   3     36    67    1.60             77             1.56\n",
              "3   4     41   106    1.83            116             1.79\n",
              "4   5     36   106    1.72            116             1.68"
            ],
            "text/html": [
              "\n",
              "  <div id=\"df-1dfe5c1f-e9a6-4187-9fe8-2659c29a62e0\">\n",
              "    <div class=\"colab-df-container\">\n",
              "      <div>\n",
              "<style scoped>\n",
              "    .dataframe tbody tr th:only-of-type {\n",
              "        vertical-align: middle;\n",
              "    }\n",
              "\n",
              "    .dataframe tbody tr th {\n",
              "        vertical-align: top;\n",
              "    }\n",
              "\n",
              "    .dataframe thead th {\n",
              "        text-align: right;\n",
              "    }\n",
              "</style>\n",
              "<table border=\"1\" class=\"dataframe\">\n",
              "  <thead>\n",
              "    <tr style=\"text-align: right;\">\n",
              "      <th></th>\n",
              "      <th>ID</th>\n",
              "      <th>IDADE</th>\n",
              "      <th>PESO</th>\n",
              "      <th>ALTURA</th>\n",
              "      <th>PESO_AJUSTADO</th>\n",
              "      <th>ALTURA_AJUSTADA</th>\n",
              "    </tr>\n",
              "  </thead>\n",
              "  <tbody>\n",
              "    <tr>\n",
              "      <th>0</th>\n",
              "      <td>1</td>\n",
              "      <td>26</td>\n",
              "      <td>112</td>\n",
              "      <td>1.80</td>\n",
              "      <td>122</td>\n",
              "      <td>1.76</td>\n",
              "    </tr>\n",
              "    <tr>\n",
              "      <th>1</th>\n",
              "      <td>2</td>\n",
              "      <td>38</td>\n",
              "      <td>84</td>\n",
              "      <td>1.78</td>\n",
              "      <td>94</td>\n",
              "      <td>1.74</td>\n",
              "    </tr>\n",
              "    <tr>\n",
              "      <th>2</th>\n",
              "      <td>3</td>\n",
              "      <td>36</td>\n",
              "      <td>67</td>\n",
              "      <td>1.60</td>\n",
              "      <td>77</td>\n",
              "      <td>1.56</td>\n",
              "    </tr>\n",
              "    <tr>\n",
              "      <th>3</th>\n",
              "      <td>4</td>\n",
              "      <td>41</td>\n",
              "      <td>106</td>\n",
              "      <td>1.83</td>\n",
              "      <td>116</td>\n",
              "      <td>1.79</td>\n",
              "    </tr>\n",
              "    <tr>\n",
              "      <th>4</th>\n",
              "      <td>5</td>\n",
              "      <td>36</td>\n",
              "      <td>106</td>\n",
              "      <td>1.72</td>\n",
              "      <td>116</td>\n",
              "      <td>1.68</td>\n",
              "    </tr>\n",
              "  </tbody>\n",
              "</table>\n",
              "</div>\n",
              "      <button class=\"colab-df-convert\" onclick=\"convertToInteractive('df-1dfe5c1f-e9a6-4187-9fe8-2659c29a62e0')\"\n",
              "              title=\"Convert this dataframe to an interactive table.\"\n",
              "              style=\"display:none;\">\n",
              "        \n",
              "  <svg xmlns=\"http://www.w3.org/2000/svg\" height=\"24px\"viewBox=\"0 0 24 24\"\n",
              "       width=\"24px\">\n",
              "    <path d=\"M0 0h24v24H0V0z\" fill=\"none\"/>\n",
              "    <path d=\"M18.56 5.44l.94 2.06.94-2.06 2.06-.94-2.06-.94-.94-2.06-.94 2.06-2.06.94zm-11 1L8.5 8.5l.94-2.06 2.06-.94-2.06-.94L8.5 2.5l-.94 2.06-2.06.94zm10 10l.94 2.06.94-2.06 2.06-.94-2.06-.94-.94-2.06-.94 2.06-2.06.94z\"/><path d=\"M17.41 7.96l-1.37-1.37c-.4-.4-.92-.59-1.43-.59-.52 0-1.04.2-1.43.59L10.3 9.45l-7.72 7.72c-.78.78-.78 2.05 0 2.83L4 21.41c.39.39.9.59 1.41.59.51 0 1.02-.2 1.41-.59l7.78-7.78 2.81-2.81c.8-.78.8-2.07 0-2.86zM5.41 20L4 18.59l7.72-7.72 1.47 1.35L5.41 20z\"/>\n",
              "  </svg>\n",
              "      </button>\n",
              "      \n",
              "  <style>\n",
              "    .colab-df-container {\n",
              "      display:flex;\n",
              "      flex-wrap:wrap;\n",
              "      gap: 12px;\n",
              "    }\n",
              "\n",
              "    .colab-df-convert {\n",
              "      background-color: #E8F0FE;\n",
              "      border: none;\n",
              "      border-radius: 50%;\n",
              "      cursor: pointer;\n",
              "      display: none;\n",
              "      fill: #1967D2;\n",
              "      height: 32px;\n",
              "      padding: 0 0 0 0;\n",
              "      width: 32px;\n",
              "    }\n",
              "\n",
              "    .colab-df-convert:hover {\n",
              "      background-color: #E2EBFA;\n",
              "      box-shadow: 0px 1px 2px rgba(60, 64, 67, 0.3), 0px 1px 3px 1px rgba(60, 64, 67, 0.15);\n",
              "      fill: #174EA6;\n",
              "    }\n",
              "\n",
              "    [theme=dark] .colab-df-convert {\n",
              "      background-color: #3B4455;\n",
              "      fill: #D2E3FC;\n",
              "    }\n",
              "\n",
              "    [theme=dark] .colab-df-convert:hover {\n",
              "      background-color: #434B5C;\n",
              "      box-shadow: 0px 1px 3px 1px rgba(0, 0, 0, 0.15);\n",
              "      filter: drop-shadow(0px 1px 2px rgba(0, 0, 0, 0.3));\n",
              "      fill: #FFFFFF;\n",
              "    }\n",
              "  </style>\n",
              "\n",
              "      <script>\n",
              "        const buttonEl =\n",
              "          document.querySelector('#df-1dfe5c1f-e9a6-4187-9fe8-2659c29a62e0 button.colab-df-convert');\n",
              "        buttonEl.style.display =\n",
              "          google.colab.kernel.accessAllowed ? 'block' : 'none';\n",
              "\n",
              "        async function convertToInteractive(key) {\n",
              "          const element = document.querySelector('#df-1dfe5c1f-e9a6-4187-9fe8-2659c29a62e0');\n",
              "          const dataTable =\n",
              "            await google.colab.kernel.invokeFunction('convertToInteractive',\n",
              "                                                     [key], {});\n",
              "          if (!dataTable) return;\n",
              "\n",
              "          const docLinkHtml = 'Like what you see? Visit the ' +\n",
              "            '<a target=\"_blank\" href=https://colab.research.google.com/notebooks/data_table.ipynb>data table notebook</a>'\n",
              "            + ' to learn more about interactive tables.';\n",
              "          element.innerHTML = '';\n",
              "          dataTable['output_type'] = 'display_data';\n",
              "          await google.colab.output.renderOutput(dataTable, element);\n",
              "          const docLink = document.createElement('div');\n",
              "          docLink.innerHTML = docLinkHtml;\n",
              "          element.appendChild(docLink);\n",
              "        }\n",
              "      </script>\n",
              "    </div>\n",
              "  </div>\n",
              "  "
            ]
          },
          "metadata": {},
          "execution_count": 54
        }
      ]
    },
    {
      "cell_type": "code",
      "source": [
        "# .rename()\n",
        "\n",
        "''' Podemos alterar o nome das colunas de um Dataframe.\n",
        "    Vamos supor que eu quero todas os nomes de colunas com letras minúsculas\n",
        "'''\n",
        "\n",
        "af.rename(columns={'IDADE':'idade',\n",
        "                   'PESO':'peso',\n",
        "                   'ALTURA':'altura',\n",
        "                   'PESO_AJUSTADO':'peso_ajustado',\n",
        "                   'ALTURA_AJUSTADA':'altura_ajustada'\n",
        "                   }\n",
        "          ).head()\n",
        "\n",
        "#af.head()"
      ],
      "metadata": {
        "id": "_0Txmi1VFKGH",
        "outputId": "f8710907-bb3b-4034-a54e-505b5b8450a5",
        "colab": {
          "base_uri": "https://localhost:8080/",
          "height": 206
        }
      },
      "execution_count": 55,
      "outputs": [
        {
          "output_type": "execute_result",
          "data": {
            "text/plain": [
              "   ID  idade  peso  altura  peso_ajustado  altura_ajustada\n",
              "0   1     26   112    1.80            122             1.76\n",
              "1   2     38    84    1.78             94             1.74\n",
              "2   3     36    67    1.60             77             1.56\n",
              "3   4     41   106    1.83            116             1.79\n",
              "4   5     36   106    1.72            116             1.68"
            ],
            "text/html": [
              "\n",
              "  <div id=\"df-33998b58-7e65-4d96-8583-d49e0006f347\">\n",
              "    <div class=\"colab-df-container\">\n",
              "      <div>\n",
              "<style scoped>\n",
              "    .dataframe tbody tr th:only-of-type {\n",
              "        vertical-align: middle;\n",
              "    }\n",
              "\n",
              "    .dataframe tbody tr th {\n",
              "        vertical-align: top;\n",
              "    }\n",
              "\n",
              "    .dataframe thead th {\n",
              "        text-align: right;\n",
              "    }\n",
              "</style>\n",
              "<table border=\"1\" class=\"dataframe\">\n",
              "  <thead>\n",
              "    <tr style=\"text-align: right;\">\n",
              "      <th></th>\n",
              "      <th>ID</th>\n",
              "      <th>idade</th>\n",
              "      <th>peso</th>\n",
              "      <th>altura</th>\n",
              "      <th>peso_ajustado</th>\n",
              "      <th>altura_ajustada</th>\n",
              "    </tr>\n",
              "  </thead>\n",
              "  <tbody>\n",
              "    <tr>\n",
              "      <th>0</th>\n",
              "      <td>1</td>\n",
              "      <td>26</td>\n",
              "      <td>112</td>\n",
              "      <td>1.80</td>\n",
              "      <td>122</td>\n",
              "      <td>1.76</td>\n",
              "    </tr>\n",
              "    <tr>\n",
              "      <th>1</th>\n",
              "      <td>2</td>\n",
              "      <td>38</td>\n",
              "      <td>84</td>\n",
              "      <td>1.78</td>\n",
              "      <td>94</td>\n",
              "      <td>1.74</td>\n",
              "    </tr>\n",
              "    <tr>\n",
              "      <th>2</th>\n",
              "      <td>3</td>\n",
              "      <td>36</td>\n",
              "      <td>67</td>\n",
              "      <td>1.60</td>\n",
              "      <td>77</td>\n",
              "      <td>1.56</td>\n",
              "    </tr>\n",
              "    <tr>\n",
              "      <th>3</th>\n",
              "      <td>4</td>\n",
              "      <td>41</td>\n",
              "      <td>106</td>\n",
              "      <td>1.83</td>\n",
              "      <td>116</td>\n",
              "      <td>1.79</td>\n",
              "    </tr>\n",
              "    <tr>\n",
              "      <th>4</th>\n",
              "      <td>5</td>\n",
              "      <td>36</td>\n",
              "      <td>106</td>\n",
              "      <td>1.72</td>\n",
              "      <td>116</td>\n",
              "      <td>1.68</td>\n",
              "    </tr>\n",
              "  </tbody>\n",
              "</table>\n",
              "</div>\n",
              "      <button class=\"colab-df-convert\" onclick=\"convertToInteractive('df-33998b58-7e65-4d96-8583-d49e0006f347')\"\n",
              "              title=\"Convert this dataframe to an interactive table.\"\n",
              "              style=\"display:none;\">\n",
              "        \n",
              "  <svg xmlns=\"http://www.w3.org/2000/svg\" height=\"24px\"viewBox=\"0 0 24 24\"\n",
              "       width=\"24px\">\n",
              "    <path d=\"M0 0h24v24H0V0z\" fill=\"none\"/>\n",
              "    <path d=\"M18.56 5.44l.94 2.06.94-2.06 2.06-.94-2.06-.94-.94-2.06-.94 2.06-2.06.94zm-11 1L8.5 8.5l.94-2.06 2.06-.94-2.06-.94L8.5 2.5l-.94 2.06-2.06.94zm10 10l.94 2.06.94-2.06 2.06-.94-2.06-.94-.94-2.06-.94 2.06-2.06.94z\"/><path d=\"M17.41 7.96l-1.37-1.37c-.4-.4-.92-.59-1.43-.59-.52 0-1.04.2-1.43.59L10.3 9.45l-7.72 7.72c-.78.78-.78 2.05 0 2.83L4 21.41c.39.39.9.59 1.41.59.51 0 1.02-.2 1.41-.59l7.78-7.78 2.81-2.81c.8-.78.8-2.07 0-2.86zM5.41 20L4 18.59l7.72-7.72 1.47 1.35L5.41 20z\"/>\n",
              "  </svg>\n",
              "      </button>\n",
              "      \n",
              "  <style>\n",
              "    .colab-df-container {\n",
              "      display:flex;\n",
              "      flex-wrap:wrap;\n",
              "      gap: 12px;\n",
              "    }\n",
              "\n",
              "    .colab-df-convert {\n",
              "      background-color: #E8F0FE;\n",
              "      border: none;\n",
              "      border-radius: 50%;\n",
              "      cursor: pointer;\n",
              "      display: none;\n",
              "      fill: #1967D2;\n",
              "      height: 32px;\n",
              "      padding: 0 0 0 0;\n",
              "      width: 32px;\n",
              "    }\n",
              "\n",
              "    .colab-df-convert:hover {\n",
              "      background-color: #E2EBFA;\n",
              "      box-shadow: 0px 1px 2px rgba(60, 64, 67, 0.3), 0px 1px 3px 1px rgba(60, 64, 67, 0.15);\n",
              "      fill: #174EA6;\n",
              "    }\n",
              "\n",
              "    [theme=dark] .colab-df-convert {\n",
              "      background-color: #3B4455;\n",
              "      fill: #D2E3FC;\n",
              "    }\n",
              "\n",
              "    [theme=dark] .colab-df-convert:hover {\n",
              "      background-color: #434B5C;\n",
              "      box-shadow: 0px 1px 3px 1px rgba(0, 0, 0, 0.15);\n",
              "      filter: drop-shadow(0px 1px 2px rgba(0, 0, 0, 0.3));\n",
              "      fill: #FFFFFF;\n",
              "    }\n",
              "  </style>\n",
              "\n",
              "      <script>\n",
              "        const buttonEl =\n",
              "          document.querySelector('#df-33998b58-7e65-4d96-8583-d49e0006f347 button.colab-df-convert');\n",
              "        buttonEl.style.display =\n",
              "          google.colab.kernel.accessAllowed ? 'block' : 'none';\n",
              "\n",
              "        async function convertToInteractive(key) {\n",
              "          const element = document.querySelector('#df-33998b58-7e65-4d96-8583-d49e0006f347');\n",
              "          const dataTable =\n",
              "            await google.colab.kernel.invokeFunction('convertToInteractive',\n",
              "                                                     [key], {});\n",
              "          if (!dataTable) return;\n",
              "\n",
              "          const docLinkHtml = 'Like what you see? Visit the ' +\n",
              "            '<a target=\"_blank\" href=https://colab.research.google.com/notebooks/data_table.ipynb>data table notebook</a>'\n",
              "            + ' to learn more about interactive tables.';\n",
              "          element.innerHTML = '';\n",
              "          dataTable['output_type'] = 'display_data';\n",
              "          await google.colab.output.renderOutput(dataTable, element);\n",
              "          const docLink = document.createElement('div');\n",
              "          docLink.innerHTML = docLinkHtml;\n",
              "          element.appendChild(docLink);\n",
              "        }\n",
              "      </script>\n",
              "    </div>\n",
              "  </div>\n",
              "  "
            ]
          },
          "metadata": {},
          "execution_count": 55
        }
      ]
    },
    {
      "cell_type": "code",
      "source": [
        "''' Para alterar permantemente o nome das colunas, temos que preencher de\n",
        "    forma explícita o parâmetro 'inplace' como True\n",
        "'''\n",
        "\n",
        "af.rename(columns={'IDADE':'idade',\n",
        "                   'PESO':'peso',\n",
        "                   'ALTURA':'altura',\n",
        "                   'PESO_AJUSTADO':'peso_ajustado',\n",
        "                   'ALTURA_AJUSTADA':'altura_ajustada'\n",
        "                   },\n",
        "          inplace=True\n",
        "          )\n",
        "\n",
        "af.head()"
      ],
      "metadata": {
        "id": "oT0JOptRjjag",
        "outputId": "0eab7bfc-0675-4201-90fb-42cffbd76a49",
        "colab": {
          "base_uri": "https://localhost:8080/",
          "height": 206
        }
      },
      "execution_count": 56,
      "outputs": [
        {
          "output_type": "execute_result",
          "data": {
            "text/plain": [
              "   ID  idade  peso  altura  peso_ajustado  altura_ajustada\n",
              "0   1     26   112    1.80            122             1.76\n",
              "1   2     38    84    1.78             94             1.74\n",
              "2   3     36    67    1.60             77             1.56\n",
              "3   4     41   106    1.83            116             1.79\n",
              "4   5     36   106    1.72            116             1.68"
            ],
            "text/html": [
              "\n",
              "  <div id=\"df-1caa6f58-365d-4650-bc42-6b4913ad2fcf\">\n",
              "    <div class=\"colab-df-container\">\n",
              "      <div>\n",
              "<style scoped>\n",
              "    .dataframe tbody tr th:only-of-type {\n",
              "        vertical-align: middle;\n",
              "    }\n",
              "\n",
              "    .dataframe tbody tr th {\n",
              "        vertical-align: top;\n",
              "    }\n",
              "\n",
              "    .dataframe thead th {\n",
              "        text-align: right;\n",
              "    }\n",
              "</style>\n",
              "<table border=\"1\" class=\"dataframe\">\n",
              "  <thead>\n",
              "    <tr style=\"text-align: right;\">\n",
              "      <th></th>\n",
              "      <th>ID</th>\n",
              "      <th>idade</th>\n",
              "      <th>peso</th>\n",
              "      <th>altura</th>\n",
              "      <th>peso_ajustado</th>\n",
              "      <th>altura_ajustada</th>\n",
              "    </tr>\n",
              "  </thead>\n",
              "  <tbody>\n",
              "    <tr>\n",
              "      <th>0</th>\n",
              "      <td>1</td>\n",
              "      <td>26</td>\n",
              "      <td>112</td>\n",
              "      <td>1.80</td>\n",
              "      <td>122</td>\n",
              "      <td>1.76</td>\n",
              "    </tr>\n",
              "    <tr>\n",
              "      <th>1</th>\n",
              "      <td>2</td>\n",
              "      <td>38</td>\n",
              "      <td>84</td>\n",
              "      <td>1.78</td>\n",
              "      <td>94</td>\n",
              "      <td>1.74</td>\n",
              "    </tr>\n",
              "    <tr>\n",
              "      <th>2</th>\n",
              "      <td>3</td>\n",
              "      <td>36</td>\n",
              "      <td>67</td>\n",
              "      <td>1.60</td>\n",
              "      <td>77</td>\n",
              "      <td>1.56</td>\n",
              "    </tr>\n",
              "    <tr>\n",
              "      <th>3</th>\n",
              "      <td>4</td>\n",
              "      <td>41</td>\n",
              "      <td>106</td>\n",
              "      <td>1.83</td>\n",
              "      <td>116</td>\n",
              "      <td>1.79</td>\n",
              "    </tr>\n",
              "    <tr>\n",
              "      <th>4</th>\n",
              "      <td>5</td>\n",
              "      <td>36</td>\n",
              "      <td>106</td>\n",
              "      <td>1.72</td>\n",
              "      <td>116</td>\n",
              "      <td>1.68</td>\n",
              "    </tr>\n",
              "  </tbody>\n",
              "</table>\n",
              "</div>\n",
              "      <button class=\"colab-df-convert\" onclick=\"convertToInteractive('df-1caa6f58-365d-4650-bc42-6b4913ad2fcf')\"\n",
              "              title=\"Convert this dataframe to an interactive table.\"\n",
              "              style=\"display:none;\">\n",
              "        \n",
              "  <svg xmlns=\"http://www.w3.org/2000/svg\" height=\"24px\"viewBox=\"0 0 24 24\"\n",
              "       width=\"24px\">\n",
              "    <path d=\"M0 0h24v24H0V0z\" fill=\"none\"/>\n",
              "    <path d=\"M18.56 5.44l.94 2.06.94-2.06 2.06-.94-2.06-.94-.94-2.06-.94 2.06-2.06.94zm-11 1L8.5 8.5l.94-2.06 2.06-.94-2.06-.94L8.5 2.5l-.94 2.06-2.06.94zm10 10l.94 2.06.94-2.06 2.06-.94-2.06-.94-.94-2.06-.94 2.06-2.06.94z\"/><path d=\"M17.41 7.96l-1.37-1.37c-.4-.4-.92-.59-1.43-.59-.52 0-1.04.2-1.43.59L10.3 9.45l-7.72 7.72c-.78.78-.78 2.05 0 2.83L4 21.41c.39.39.9.59 1.41.59.51 0 1.02-.2 1.41-.59l7.78-7.78 2.81-2.81c.8-.78.8-2.07 0-2.86zM5.41 20L4 18.59l7.72-7.72 1.47 1.35L5.41 20z\"/>\n",
              "  </svg>\n",
              "      </button>\n",
              "      \n",
              "  <style>\n",
              "    .colab-df-container {\n",
              "      display:flex;\n",
              "      flex-wrap:wrap;\n",
              "      gap: 12px;\n",
              "    }\n",
              "\n",
              "    .colab-df-convert {\n",
              "      background-color: #E8F0FE;\n",
              "      border: none;\n",
              "      border-radius: 50%;\n",
              "      cursor: pointer;\n",
              "      display: none;\n",
              "      fill: #1967D2;\n",
              "      height: 32px;\n",
              "      padding: 0 0 0 0;\n",
              "      width: 32px;\n",
              "    }\n",
              "\n",
              "    .colab-df-convert:hover {\n",
              "      background-color: #E2EBFA;\n",
              "      box-shadow: 0px 1px 2px rgba(60, 64, 67, 0.3), 0px 1px 3px 1px rgba(60, 64, 67, 0.15);\n",
              "      fill: #174EA6;\n",
              "    }\n",
              "\n",
              "    [theme=dark] .colab-df-convert {\n",
              "      background-color: #3B4455;\n",
              "      fill: #D2E3FC;\n",
              "    }\n",
              "\n",
              "    [theme=dark] .colab-df-convert:hover {\n",
              "      background-color: #434B5C;\n",
              "      box-shadow: 0px 1px 3px 1px rgba(0, 0, 0, 0.15);\n",
              "      filter: drop-shadow(0px 1px 2px rgba(0, 0, 0, 0.3));\n",
              "      fill: #FFFFFF;\n",
              "    }\n",
              "  </style>\n",
              "\n",
              "      <script>\n",
              "        const buttonEl =\n",
              "          document.querySelector('#df-1caa6f58-365d-4650-bc42-6b4913ad2fcf button.colab-df-convert');\n",
              "        buttonEl.style.display =\n",
              "          google.colab.kernel.accessAllowed ? 'block' : 'none';\n",
              "\n",
              "        async function convertToInteractive(key) {\n",
              "          const element = document.querySelector('#df-1caa6f58-365d-4650-bc42-6b4913ad2fcf');\n",
              "          const dataTable =\n",
              "            await google.colab.kernel.invokeFunction('convertToInteractive',\n",
              "                                                     [key], {});\n",
              "          if (!dataTable) return;\n",
              "\n",
              "          const docLinkHtml = 'Like what you see? Visit the ' +\n",
              "            '<a target=\"_blank\" href=https://colab.research.google.com/notebooks/data_table.ipynb>data table notebook</a>'\n",
              "            + ' to learn more about interactive tables.';\n",
              "          element.innerHTML = '';\n",
              "          dataTable['output_type'] = 'display_data';\n",
              "          await google.colab.output.renderOutput(dataTable, element);\n",
              "          const docLink = document.createElement('div');\n",
              "          docLink.innerHTML = docLinkHtml;\n",
              "          element.appendChild(docLink);\n",
              "        }\n",
              "      </script>\n",
              "    </div>\n",
              "  </div>\n",
              "  "
            ]
          },
          "metadata": {},
          "execution_count": 56
        }
      ]
    },
    {
      "cell_type": "markdown",
      "source": [
        "#***RECAP. DIA 1***\n",
        "\n",
        "\n",
        "---\n",
        "\n",
        "- PYTHON: Conceitos básicos.\n",
        "- PRINCIPAIS TIPOS DE DADOS: Numéricos, cadeia de caracteres, buleanos.\n",
        "- CONVERSÃO DE DADOS: Como consultar e modificar o tipo de um dado.\n",
        "- PEMDAS: Parentesis, Exponenciação, Multiplicação, Divisão, Adição e Subtração.\n",
        "- AMOSTRA & POPULAÇÃO.\n",
        "- VARIÁVEIS QUANTITATIVAS E QUALITATIVAS.\n",
        "- LISTAS E DATAFRAMES."
      ],
      "metadata": {
        "id": "vEXi0YU3lT9O"
      }
    },
    {
      "cell_type": "markdown",
      "source": [
        "#### **Quer continuar praticando?**"
      ],
      "metadata": {
        "id": "YWHe6OlLnBaQ"
      }
    },
    {
      "cell_type": "code",
      "source": [
        "''' Aqui está uma outra fonte de dados, desta vez do mundo real, disponibilizados\n",
        "    pelo IBGE e encontrados no Kaggle, seguindo o link:\n",
        "    https://www.kaggle.com/datasets/upadorprofzs/testes\n",
        "'''\n",
        "\n",
        "# A seguir, vamos importar os dados\n",
        "\n",
        "!wget -q \"https://raw.githubusercontent.com/rafands/ebac-course-content/main/dados_IBGE_pessoas.csv\" -O dados_IBGE_pessoas.csv \n",
        "\n",
        "pessoas = pd.read_csv('./dados_IBGE_pessoas.csv', sep=';')\n",
        "\n",
        "pessoas.head()"
      ],
      "metadata": {
        "id": "pDCUpYSIlU3A",
        "outputId": "1238980c-1ade-4a70-ea48-201bcd690305",
        "colab": {
          "base_uri": "https://localhost:8080/",
          "height": 235
        }
      },
      "execution_count": 3,
      "outputs": [
        {
          "output_type": "error",
          "ename": "NameError",
          "evalue": "ignored",
          "traceback": [
            "\u001b[0;31m---------------------------------------------------------------------------\u001b[0m",
            "\u001b[0;31mNameError\u001b[0m                                 Traceback (most recent call last)",
            "\u001b[0;32m<ipython-input-3-9a1744971d54>\u001b[0m in \u001b[0;36m<module>\u001b[0;34m()\u001b[0m\n\u001b[1;32m      8\u001b[0m \u001b[0mget_ipython\u001b[0m\u001b[0;34m(\u001b[0m\u001b[0;34m)\u001b[0m\u001b[0;34m.\u001b[0m\u001b[0msystem\u001b[0m\u001b[0;34m(\u001b[0m\u001b[0;34m'wget -q \"https://raw.githubusercontent.com/rafands/ebac-course-content/main/dados_IBGE_pessoas.csv\" -O dados_IBGE_pessoas.csv '\u001b[0m\u001b[0;34m)\u001b[0m\u001b[0;34m\u001b[0m\u001b[0;34m\u001b[0m\u001b[0m\n\u001b[1;32m      9\u001b[0m \u001b[0;34m\u001b[0m\u001b[0m\n\u001b[0;32m---> 10\u001b[0;31m \u001b[0mpessoas\u001b[0m \u001b[0;34m=\u001b[0m \u001b[0mpd\u001b[0m\u001b[0;34m.\u001b[0m\u001b[0mread_csv\u001b[0m\u001b[0;34m(\u001b[0m\u001b[0;34m'./dados_IBGE_pessoas.csv'\u001b[0m\u001b[0;34m,\u001b[0m \u001b[0msep\u001b[0m\u001b[0;34m=\u001b[0m\u001b[0;34m';'\u001b[0m\u001b[0;34m)\u001b[0m\u001b[0;34m\u001b[0m\u001b[0;34m\u001b[0m\u001b[0m\n\u001b[0m\u001b[1;32m     11\u001b[0m \u001b[0;34m\u001b[0m\u001b[0m\n\u001b[1;32m     12\u001b[0m \u001b[0mpessoas\u001b[0m\u001b[0;34m.\u001b[0m\u001b[0mhead\u001b[0m\u001b[0;34m(\u001b[0m\u001b[0;34m)\u001b[0m\u001b[0;34m\u001b[0m\u001b[0;34m\u001b[0m\u001b[0m\n",
            "\u001b[0;31mNameError\u001b[0m: name 'pd' is not defined"
          ]
        }
      ]
    },
    {
      "cell_type": "code",
      "source": [
        "# Aplique seus conhecimentos nesse Dataframe!"
      ],
      "metadata": {
        "id": "eC2FV4_VnHVS"
      },
      "execution_count": null,
      "outputs": []
    },
    {
      "cell_type": "code",
      "source": [
        ""
      ],
      "metadata": {
        "id": "0lUJwLYhoB4H"
      },
      "execution_count": null,
      "outputs": []
    }
  ]
}
