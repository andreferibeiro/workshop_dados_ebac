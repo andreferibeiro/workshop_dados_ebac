{
  "cells": [
    {
      "cell_type": "markdown",
      "id": "13f8898e",
      "metadata": {
        "id": "13f8898e",
        "papermill": {
          "duration": 0.012978,
          "end_time": "2022-06-22T21:08:29.750166",
          "exception": false,
          "start_time": "2022-06-22T21:08:29.737188",
          "status": "completed"
        },
        "tags": []
      },
      "source": [
        "# **Fundamentos da Matemática para Análise de Dados**"
      ]
    },
    {
      "cell_type": "markdown",
      "id": "7852d46d",
      "metadata": {
        "id": "7852d46d",
        "papermill": {
          "duration": 0.01094,
          "end_time": "2022-06-22T21:08:29.772335",
          "exception": false,
          "start_time": "2022-06-22T21:08:29.761395",
          "status": "completed"
        },
        "tags": []
      },
      "source": [
        "# ***DIA 2 (22/06 das 19h às 21h)***:\n",
        "\n",
        "\n",
        "---\n",
        "- Recap. Dia 1 (DATAFRAMES, LISTAS) + ARRAYS\n",
        "- OPERAÇÕES MATEMÁTICAS USANDO DATAFRAMES.\n",
        "- MEDIDAS DE CENTRALIDADE: Moda, média e mediana.\n",
        "- DESVIO PADRÃO E VARIÂNCIA.\n",
        "- GROUPBY.\n",
        "- PRINCIPAIS VISUALIZAÇÕES DE DADOS.\n",
        "- Desafio para exercitar seus novos conhecimentos. "
      ]
    },
    {
      "cell_type": "markdown",
      "id": "3c39f589",
      "metadata": {
        "id": "3c39f589",
        "papermill": {
          "duration": 0.012206,
          "end_time": "2022-06-22T21:08:29.795648",
          "exception": false,
          "start_time": "2022-06-22T21:08:29.783442",
          "status": "completed"
        },
        "tags": []
      },
      "source": [
        "#### Menções interessantes no chat ####"
      ]
    },
    {
      "cell_type": "code",
      "execution_count": 1,
      "id": "c3e59405",
      "metadata": {
        "execution": {
          "iopub.execute_input": "2022-06-22T21:08:29.819614Z",
          "iopub.status.busy": "2022-06-22T21:08:29.819219Z",
          "iopub.status.idle": "2022-06-22T21:08:29.830473Z",
          "shell.execute_reply": "2022-06-22T21:08:29.829762Z"
        },
        "id": "c3e59405",
        "outputId": "1d87c98a-30b6-4609-9679-34d155c0b7a5",
        "papermill": {
          "duration": 0.026515,
          "end_time": "2022-06-22T21:08:29.833151",
          "exception": false,
          "start_time": "2022-06-22T21:08:29.806636",
          "status": "completed"
        },
        "tags": [],
        "colab": {
          "base_uri": "https://localhost:8080/"
        }
      },
      "outputs": [
        {
          "output_type": "stream",
          "name": "stdout",
          "text": [
            "float: 4.0 usando uma barra /\n",
            "integer: 4.0 usando duas barras (arredondamento floor acontece) //\n",
            "Rafael tem 29 anos de idade\n"
          ]
        }
      ],
      "source": [
        "print('float:', 8/2, 'usando uma barra /')\n",
        "print('integer:', 9.9//2, 'usando duas barras (arredondamento floor acontece) //')\n",
        "\n",
        "print('Rafael tem', 29, 'anos de idade')"
      ]
    },
    {
      "cell_type": "markdown",
      "id": "34d7a238",
      "metadata": {
        "id": "34d7a238",
        "papermill": {
          "duration": 0.010544,
          "end_time": "2022-06-22T21:08:29.854931",
          "exception": false,
          "start_time": "2022-06-22T21:08:29.844387",
          "status": "completed"
        },
        "tags": []
      },
      "source": [
        "### **IMPORTAR AS BIBLIOTECAS NECESSÁRIAS**"
      ]
    },
    {
      "cell_type": "code",
      "execution_count": 2,
      "id": "a5cf6b61",
      "metadata": {
        "execution": {
          "iopub.execute_input": "2022-06-22T21:08:29.878469Z",
          "iopub.status.busy": "2022-06-22T21:08:29.877829Z",
          "iopub.status.idle": "2022-06-22T21:08:29.884047Z",
          "shell.execute_reply": "2022-06-22T21:08:29.883081Z"
        },
        "id": "a5cf6b61",
        "papermill": {
          "duration": 0.020293,
          "end_time": "2022-06-22T21:08:29.886133",
          "exception": false,
          "start_time": "2022-06-22T21:08:29.865840",
          "status": "completed"
        },
        "tags": []
      },
      "outputs": [],
      "source": [
        "import pandas as pd\n",
        "import numpy as np\n",
        "import matplotlib.pyplot as plt\n",
        "import statistics as st"
      ]
    },
    {
      "cell_type": "markdown",
      "id": "147b7064",
      "metadata": {
        "id": "147b7064",
        "papermill": {
          "duration": 0.013953,
          "end_time": "2022-06-22T21:08:29.911332",
          "exception": false,
          "start_time": "2022-06-22T21:08:29.897379",
          "status": "completed"
        },
        "tags": []
      },
      "source": [
        "### **DATAFRAME**\n",
        "\n",
        "É uma estrutura de dados bidimensional, contendo linhas e colunas. Uma tabela de dados mutável, algo equivalente a uma planilha de excel. O PANDAS proporciona uma série de funcões que podemos utilizar para manipular essa estrutura, a função **'.head()'** sendo uma delas.\n",
        "\n",
        "Documentação: https://pandas.pydata.org/docs/reference/api/pandas.DataFrame.dtypes.html"
      ]
    },
    {
      "cell_type": "code",
      "execution_count": 3,
      "id": "ce3e38e7",
      "metadata": {
        "execution": {
          "iopub.execute_input": "2022-06-22T21:08:29.936351Z",
          "iopub.status.busy": "2022-06-22T21:08:29.935582Z",
          "iopub.status.idle": "2022-06-22T21:08:31.115387Z",
          "shell.execute_reply": "2022-06-22T21:08:31.114359Z"
        },
        "id": "ce3e38e7",
        "papermill": {
          "duration": 1.194725,
          "end_time": "2022-06-22T21:08:31.117623",
          "exception": false,
          "start_time": "2022-06-22T21:08:29.922898",
          "status": "completed"
        },
        "tags": []
      },
      "outputs": [],
      "source": [
        "!wget -q \"https://raw.githubusercontent.com/rafands/ebac-course-content/main/amostra_ficticia.csv\" -O amostra_ficticia.csv \n",
        "\n",
        "af = pd.read_csv('./amostra_ficticia.csv', sep=';')"
      ]
    },
    {
      "cell_type": "code",
      "execution_count": 5,
      "id": "ec695b22",
      "metadata": {
        "execution": {
          "iopub.execute_input": "2022-06-22T21:08:31.142087Z",
          "iopub.status.busy": "2022-06-22T21:08:31.141357Z",
          "iopub.status.idle": "2022-06-22T21:08:31.155494Z",
          "shell.execute_reply": "2022-06-22T21:08:31.154063Z"
        },
        "id": "ec695b22",
        "outputId": "17ca16f6-514e-4432-95c8-4d78301aa157",
        "papermill": {
          "duration": 0.029116,
          "end_time": "2022-06-22T21:08:31.157811",
          "exception": false,
          "start_time": "2022-06-22T21:08:31.128695",
          "status": "completed"
        },
        "tags": [],
        "colab": {
          "base_uri": "https://localhost:8080/",
          "height": 224
        }
      },
      "outputs": [
        {
          "output_type": "stream",
          "name": "stdout",
          "text": [
            "<class 'pandas.core.frame.DataFrame'>\n"
          ]
        },
        {
          "output_type": "execute_result",
          "data": {
            "text/plain": [
              "   ID  IDADE  PESO  ALTURA\n",
              "0   1     26   112    1.80\n",
              "1   2     38    84    1.78\n",
              "2   3     36    67    1.60\n",
              "3   4     41   106    1.83\n",
              "4   5     36   106    1.72"
            ],
            "text/html": [
              "\n",
              "  <div id=\"df-649b1c09-2cd8-4d2b-8157-ef8fe5ca9a7f\">\n",
              "    <div class=\"colab-df-container\">\n",
              "      <div>\n",
              "<style scoped>\n",
              "    .dataframe tbody tr th:only-of-type {\n",
              "        vertical-align: middle;\n",
              "    }\n",
              "\n",
              "    .dataframe tbody tr th {\n",
              "        vertical-align: top;\n",
              "    }\n",
              "\n",
              "    .dataframe thead th {\n",
              "        text-align: right;\n",
              "    }\n",
              "</style>\n",
              "<table border=\"1\" class=\"dataframe\">\n",
              "  <thead>\n",
              "    <tr style=\"text-align: right;\">\n",
              "      <th></th>\n",
              "      <th>ID</th>\n",
              "      <th>IDADE</th>\n",
              "      <th>PESO</th>\n",
              "      <th>ALTURA</th>\n",
              "    </tr>\n",
              "  </thead>\n",
              "  <tbody>\n",
              "    <tr>\n",
              "      <th>0</th>\n",
              "      <td>1</td>\n",
              "      <td>26</td>\n",
              "      <td>112</td>\n",
              "      <td>1.80</td>\n",
              "    </tr>\n",
              "    <tr>\n",
              "      <th>1</th>\n",
              "      <td>2</td>\n",
              "      <td>38</td>\n",
              "      <td>84</td>\n",
              "      <td>1.78</td>\n",
              "    </tr>\n",
              "    <tr>\n",
              "      <th>2</th>\n",
              "      <td>3</td>\n",
              "      <td>36</td>\n",
              "      <td>67</td>\n",
              "      <td>1.60</td>\n",
              "    </tr>\n",
              "    <tr>\n",
              "      <th>3</th>\n",
              "      <td>4</td>\n",
              "      <td>41</td>\n",
              "      <td>106</td>\n",
              "      <td>1.83</td>\n",
              "    </tr>\n",
              "    <tr>\n",
              "      <th>4</th>\n",
              "      <td>5</td>\n",
              "      <td>36</td>\n",
              "      <td>106</td>\n",
              "      <td>1.72</td>\n",
              "    </tr>\n",
              "  </tbody>\n",
              "</table>\n",
              "</div>\n",
              "      <button class=\"colab-df-convert\" onclick=\"convertToInteractive('df-649b1c09-2cd8-4d2b-8157-ef8fe5ca9a7f')\"\n",
              "              title=\"Convert this dataframe to an interactive table.\"\n",
              "              style=\"display:none;\">\n",
              "        \n",
              "  <svg xmlns=\"http://www.w3.org/2000/svg\" height=\"24px\"viewBox=\"0 0 24 24\"\n",
              "       width=\"24px\">\n",
              "    <path d=\"M0 0h24v24H0V0z\" fill=\"none\"/>\n",
              "    <path d=\"M18.56 5.44l.94 2.06.94-2.06 2.06-.94-2.06-.94-.94-2.06-.94 2.06-2.06.94zm-11 1L8.5 8.5l.94-2.06 2.06-.94-2.06-.94L8.5 2.5l-.94 2.06-2.06.94zm10 10l.94 2.06.94-2.06 2.06-.94-2.06-.94-.94-2.06-.94 2.06-2.06.94z\"/><path d=\"M17.41 7.96l-1.37-1.37c-.4-.4-.92-.59-1.43-.59-.52 0-1.04.2-1.43.59L10.3 9.45l-7.72 7.72c-.78.78-.78 2.05 0 2.83L4 21.41c.39.39.9.59 1.41.59.51 0 1.02-.2 1.41-.59l7.78-7.78 2.81-2.81c.8-.78.8-2.07 0-2.86zM5.41 20L4 18.59l7.72-7.72 1.47 1.35L5.41 20z\"/>\n",
              "  </svg>\n",
              "      </button>\n",
              "      \n",
              "  <style>\n",
              "    .colab-df-container {\n",
              "      display:flex;\n",
              "      flex-wrap:wrap;\n",
              "      gap: 12px;\n",
              "    }\n",
              "\n",
              "    .colab-df-convert {\n",
              "      background-color: #E8F0FE;\n",
              "      border: none;\n",
              "      border-radius: 50%;\n",
              "      cursor: pointer;\n",
              "      display: none;\n",
              "      fill: #1967D2;\n",
              "      height: 32px;\n",
              "      padding: 0 0 0 0;\n",
              "      width: 32px;\n",
              "    }\n",
              "\n",
              "    .colab-df-convert:hover {\n",
              "      background-color: #E2EBFA;\n",
              "      box-shadow: 0px 1px 2px rgba(60, 64, 67, 0.3), 0px 1px 3px 1px rgba(60, 64, 67, 0.15);\n",
              "      fill: #174EA6;\n",
              "    }\n",
              "\n",
              "    [theme=dark] .colab-df-convert {\n",
              "      background-color: #3B4455;\n",
              "      fill: #D2E3FC;\n",
              "    }\n",
              "\n",
              "    [theme=dark] .colab-df-convert:hover {\n",
              "      background-color: #434B5C;\n",
              "      box-shadow: 0px 1px 3px 1px rgba(0, 0, 0, 0.15);\n",
              "      filter: drop-shadow(0px 1px 2px rgba(0, 0, 0, 0.3));\n",
              "      fill: #FFFFFF;\n",
              "    }\n",
              "  </style>\n",
              "\n",
              "      <script>\n",
              "        const buttonEl =\n",
              "          document.querySelector('#df-649b1c09-2cd8-4d2b-8157-ef8fe5ca9a7f button.colab-df-convert');\n",
              "        buttonEl.style.display =\n",
              "          google.colab.kernel.accessAllowed ? 'block' : 'none';\n",
              "\n",
              "        async function convertToInteractive(key) {\n",
              "          const element = document.querySelector('#df-649b1c09-2cd8-4d2b-8157-ef8fe5ca9a7f');\n",
              "          const dataTable =\n",
              "            await google.colab.kernel.invokeFunction('convertToInteractive',\n",
              "                                                     [key], {});\n",
              "          if (!dataTable) return;\n",
              "\n",
              "          const docLinkHtml = 'Like what you see? Visit the ' +\n",
              "            '<a target=\"_blank\" href=https://colab.research.google.com/notebooks/data_table.ipynb>data table notebook</a>'\n",
              "            + ' to learn more about interactive tables.';\n",
              "          element.innerHTML = '';\n",
              "          dataTable['output_type'] = 'display_data';\n",
              "          await google.colab.output.renderOutput(dataTable, element);\n",
              "          const docLink = document.createElement('div');\n",
              "          docLink.innerHTML = docLinkHtml;\n",
              "          element.appendChild(docLink);\n",
              "        }\n",
              "      </script>\n",
              "    </div>\n",
              "  </div>\n",
              "  "
            ]
          },
          "metadata": {},
          "execution_count": 5
        }
      ],
      "source": [
        "print(type(af))\n",
        "af.head()"
      ]
    },
    {
      "cell_type": "markdown",
      "id": "d1cd0656",
      "metadata": {
        "id": "d1cd0656",
        "papermill": {
          "duration": 0.010856,
          "end_time": "2022-06-22T21:08:31.179875",
          "exception": false,
          "start_time": "2022-06-22T21:08:31.169019",
          "status": "completed"
        },
        "tags": []
      },
      "source": [
        "### **LISTAS**\n",
        "Outra estrutura que precisaremos neste workshop são as listas. Uma lista é uma variável onde podemos armazenar multiplos valores/itens, não necessariamente do mesmo tipo. Estes itens são colocados entre colchetes [ ].\n",
        "\n",
        "***Não vamos nos aprofundar no tema de listas, mas vamos utilizar esta estrutura na hora de interagir com nosso Dataframe.***"
      ]
    },
    {
      "cell_type": "code",
      "execution_count": 6,
      "id": "f5dc588f",
      "metadata": {
        "execution": {
          "iopub.execute_input": "2022-06-22T21:08:31.204233Z",
          "iopub.status.busy": "2022-06-22T21:08:31.203339Z",
          "iopub.status.idle": "2022-06-22T21:08:31.212797Z",
          "shell.execute_reply": "2022-06-22T21:08:31.211636Z"
        },
        "id": "f5dc588f",
        "outputId": "3f9e6590-df5f-4582-8426-71a74b71debb",
        "papermill": {
          "duration": 0.023715,
          "end_time": "2022-06-22T21:08:31.214771",
          "exception": false,
          "start_time": "2022-06-22T21:08:31.191056",
          "status": "completed"
        },
        "tags": [],
        "colab": {
          "base_uri": "https://localhost:8080/"
        }
      },
      "outputs": [
        {
          "output_type": "stream",
          "name": "stdout",
          "text": [
            "[1, 2, 3, 4, 5, 6, 'a', 'b']\n"
          ]
        },
        {
          "output_type": "execute_result",
          "data": {
            "text/plain": [
              "list"
            ]
          },
          "metadata": {},
          "execution_count": 6
        }
      ],
      "source": [
        "# Exemplo de Lista (declarando uma nova variável chamada L)\n",
        "\n",
        "L = [1,2,3,4,5,6,'a','b']\n",
        "print(L)\n",
        "type(L)\n"
      ]
    },
    {
      "cell_type": "markdown",
      "id": "055314f5",
      "metadata": {
        "id": "055314f5",
        "papermill": {
          "duration": 0.011001,
          "end_time": "2022-06-22T21:08:31.237041",
          "exception": false,
          "start_time": "2022-06-22T21:08:31.226040",
          "status": "completed"
        },
        "tags": []
      },
      "source": [
        "### **ARRAY: numpy.array()**\n",
        "\n",
        "Outra estrutura é o array (np.array()). Esta estrutura se diferencia de uma lista por apenas conter valores do mesmo tipo, enquanto a lista pode ter valores de diferentes tipos de dados em um mesmo conjunto.\n",
        "\n",
        "Outra diferença é que um numpy.array pode conter mais de uma dimensão.\n",
        "\n",
        "Utilizaremos a biblioteca Numpy para criar e manipular esta estrutura. Utilizaremos também a biblioteca Numpy para executar tarefas matemáticas nestas estruturas, assim como nos dataframes."
      ]
    },
    {
      "cell_type": "code",
      "execution_count": 7,
      "id": "ac77d5c3",
      "metadata": {
        "execution": {
          "iopub.execute_input": "2022-06-22T21:08:31.261463Z",
          "iopub.status.busy": "2022-06-22T21:08:31.260832Z",
          "iopub.status.idle": "2022-06-22T21:08:31.268433Z",
          "shell.execute_reply": "2022-06-22T21:08:31.267422Z"
        },
        "id": "ac77d5c3",
        "outputId": "2bc95723-8c82-4c82-853a-06ff7dc8888c",
        "papermill": {
          "duration": 0.022077,
          "end_time": "2022-06-22T21:08:31.270359",
          "exception": false,
          "start_time": "2022-06-22T21:08:31.248282",
          "status": "completed"
        },
        "tags": [],
        "colab": {
          "base_uri": "https://localhost:8080/"
        }
      },
      "outputs": [
        {
          "output_type": "stream",
          "name": "stdout",
          "text": [
            "['1' '2' '3' '4' '5' '6' 'a' 'b']\n"
          ]
        },
        {
          "output_type": "execute_result",
          "data": {
            "text/plain": [
              "numpy.ndarray"
            ]
          },
          "metadata": {},
          "execution_count": 7
        }
      ],
      "source": [
        "# Criando um array a partir de uma lista\n",
        "\n",
        "''' Temos a lista L já criada na célula anterior. vamos transformar esta lista\n",
        "    em um numpy.array() e ver o que acontece.\n",
        "'''\n",
        "\n",
        "L_array = np.array(L)\n",
        "print(L_array)\n",
        "type(L_array)\n"
      ]
    },
    {
      "cell_type": "code",
      "execution_count": 8,
      "id": "a613f5fe",
      "metadata": {
        "execution": {
          "iopub.execute_input": "2022-06-22T21:08:31.294834Z",
          "iopub.status.busy": "2022-06-22T21:08:31.294449Z",
          "iopub.status.idle": "2022-06-22T21:08:31.306381Z",
          "shell.execute_reply": "2022-06-22T21:08:31.305147Z"
        },
        "id": "a613f5fe",
        "outputId": "76144da5-32bf-44d5-d990-1b7b394850dd",
        "papermill": {
          "duration": 0.026412,
          "end_time": "2022-06-22T21:08:31.308365",
          "exception": false,
          "start_time": "2022-06-22T21:08:31.281953",
          "status": "completed"
        },
        "tags": [],
        "colab": {
          "base_uri": "https://localhost:8080/"
        }
      },
      "outputs": [
        {
          "output_type": "stream",
          "name": "stdout",
          "text": [
            "[26 38 36 41 36]\n"
          ]
        },
        {
          "output_type": "execute_result",
          "data": {
            "text/plain": [
              "numpy.ndarray"
            ]
          },
          "metadata": {},
          "execution_count": 8
        }
      ],
      "source": [
        "# Criando um array a partir de uma coluna do dataframe\n",
        "\n",
        "af_arr = np.array(af['IDADE'].head())\n",
        "print(af_arr)\n",
        "type(af_arr)"
      ]
    },
    {
      "cell_type": "code",
      "execution_count": 9,
      "id": "e37eb5f5",
      "metadata": {
        "execution": {
          "iopub.execute_input": "2022-06-22T21:08:31.333666Z",
          "iopub.status.busy": "2022-06-22T21:08:31.332927Z",
          "iopub.status.idle": "2022-06-22T21:08:31.340654Z",
          "shell.execute_reply": "2022-06-22T21:08:31.339659Z"
        },
        "id": "e37eb5f5",
        "outputId": "4e7ed0d4-41d5-49e0-80f7-1beff20e3383",
        "papermill": {
          "duration": 0.022487,
          "end_time": "2022-06-22T21:08:31.342592",
          "exception": false,
          "start_time": "2022-06-22T21:08:31.320105",
          "status": "completed"
        },
        "tags": [],
        "colab": {
          "base_uri": "https://localhost:8080/"
        }
      },
      "outputs": [
        {
          "output_type": "execute_result",
          "data": {
            "text/plain": [
              "array([[1, 2, 4, 5, 6, 7, 8, 9],\n",
              "       [1, 1, 2, 1, 1, 1, 1, 3]])"
            ]
          },
          "metadata": {},
          "execution_count": 9
        }
      ],
      "source": [
        "# Algumas funções do numpy que podemos usar com LISTAS e ARRAYS (com valores numéricos)\n",
        "conj = [9,2,9,4,5,4,6,9,7,8,1]\n",
        "\n",
        "'''\n",
        "np.sum(conj)\n",
        "np.mean(conj)\n",
        "np.median(conj)\n",
        "st.mode(conj)\n",
        "np.square(conj)\n",
        "np.sqrt(conj)\n",
        "np.abs(conj)\n",
        "np.min(conj)\n",
        "np.max(conj)\n",
        "np.not_equal(conj,6)\n",
        "np.cumsum(conj)\n",
        "np.floor(conj)\n",
        "np.ceil(conj)\n",
        "np.divide(conj,2)\n",
        "np.multiply(conj,2)\n",
        "'''\n",
        "\n",
        "np.array(np.unique(conj, return_counts=True))"
      ]
    },
    {
      "cell_type": "markdown",
      "id": "dcbbb08d",
      "metadata": {
        "id": "dcbbb08d",
        "papermill": {
          "duration": 0.011686,
          "end_time": "2022-06-22T21:08:31.366316",
          "exception": false,
          "start_time": "2022-06-22T21:08:31.354630",
          "status": "completed"
        },
        "tags": []
      },
      "source": [
        "### **MEDIDAS DE CENTRALIDADE**: Moda, média e mediana.\n",
        "\n",
        "Além de discutirmos os conceitos vamos utilizar o módulo 'statistics' que tem as funcões necessárias para aplicarmos as medidas de centralidade. Também utilizaremos a biblioteca numpy como alternativa, especialmente para os dataframes que tem uma escala maior.\n",
        "\n",
        "https://docs.python.org/pt-br/dev/library/statistics.html"
      ]
    },
    {
      "cell_type": "markdown",
      "id": "da47369b",
      "metadata": {
        "id": "da47369b",
        "papermill": {
          "duration": 0.011575,
          "end_time": "2022-06-22T21:08:31.389697",
          "exception": false,
          "start_time": "2022-06-22T21:08:31.378122",
          "status": "completed"
        },
        "tags": []
      },
      "source": [
        "#### **Média**\n",
        "\n",
        "A média é a soma dos dados dividido pela quantidade de dados no conjunto analisado."
      ]
    },
    {
      "cell_type": "code",
      "execution_count": 10,
      "id": "8df8947f",
      "metadata": {
        "execution": {
          "iopub.execute_input": "2022-06-22T21:08:31.415057Z",
          "iopub.status.busy": "2022-06-22T21:08:31.414640Z",
          "iopub.status.idle": "2022-06-22T21:08:31.420165Z",
          "shell.execute_reply": "2022-06-22T21:08:31.419149Z"
        },
        "id": "8df8947f",
        "outputId": "b5aa4001-4a05-4a82-b3fd-22ff5360730e",
        "papermill": {
          "duration": 0.020603,
          "end_time": "2022-06-22T21:08:31.422151",
          "exception": false,
          "start_time": "2022-06-22T21:08:31.401548",
          "status": "completed"
        },
        "tags": [],
        "colab": {
          "base_uri": "https://localhost:8080/"
        }
      },
      "outputs": [
        {
          "output_type": "stream",
          "name": "stdout",
          "text": [
            "14.0\n"
          ]
        }
      ],
      "source": [
        "# Usando diferentes variáveis\n",
        "\n",
        "a = 10\n",
        "b = 13\n",
        "c = 14\n",
        "d = 15\n",
        "e = 15\n",
        "f = 17\n",
        "\n",
        "media = (a+b+c+d+e+f)/6\n",
        "print(media)"
      ]
    },
    {
      "cell_type": "code",
      "execution_count": 11,
      "id": "182fd1b7",
      "metadata": {
        "execution": {
          "iopub.execute_input": "2022-06-22T21:08:31.447516Z",
          "iopub.status.busy": "2022-06-22T21:08:31.447137Z",
          "iopub.status.idle": "2022-06-22T21:08:31.452719Z",
          "shell.execute_reply": "2022-06-22T21:08:31.451977Z"
        },
        "id": "182fd1b7",
        "outputId": "4f86cbd4-360a-4dcb-cceb-433e915243f4",
        "papermill": {
          "duration": 0.020854,
          "end_time": "2022-06-22T21:08:31.454771",
          "exception": false,
          "start_time": "2022-06-22T21:08:31.433917",
          "status": "completed"
        },
        "tags": [],
        "colab": {
          "base_uri": "https://localhost:8080/"
        }
      },
      "outputs": [
        {
          "output_type": "stream",
          "name": "stdout",
          "text": [
            "14\n",
            "14.0\n"
          ]
        }
      ],
      "source": [
        "# Usando listas\n",
        "\n",
        "conjunto = [13,15,17,15,10,14]\n",
        "media_st = st.mean(conjunto)\n",
        "print(media_st)\n",
        "\n",
        "conjunto = [13,15,17,15,10,14]\n",
        "media_np = np.mean(conjunto)\n",
        "print(media_np)"
      ]
    },
    {
      "cell_type": "code",
      "execution_count": 12,
      "id": "112932fa",
      "metadata": {
        "execution": {
          "iopub.execute_input": "2022-06-22T21:08:31.481339Z",
          "iopub.status.busy": "2022-06-22T21:08:31.480443Z",
          "iopub.status.idle": "2022-06-22T21:08:31.487750Z",
          "shell.execute_reply": "2022-06-22T21:08:31.486822Z"
        },
        "id": "112932fa",
        "outputId": "19aafa3e-d717-4e5c-939c-d3f9de989f09",
        "papermill": {
          "duration": 0.022627,
          "end_time": "2022-06-22T21:08:31.489563",
          "exception": false,
          "start_time": "2022-06-22T21:08:31.466936",
          "status": "completed"
        },
        "tags": [],
        "colab": {
          "base_uri": "https://localhost:8080/"
        }
      },
      "outputs": [
        {
          "output_type": "execute_result",
          "data": {
            "text/plain": [
              "95.248"
            ]
          },
          "metadata": {},
          "execution_count": 12
        }
      ],
      "source": [
        "# Usando o nosso Dataframe (função do python)\n",
        "af['PESO'].agg('mean')"
      ]
    },
    {
      "cell_type": "code",
      "source": [
        "af['PESO'].mean()"
      ],
      "metadata": {
        "colab": {
          "base_uri": "https://localhost:8080/"
        },
        "id": "oe5ok-F_kPfU",
        "outputId": "01bcd1f3-ed7b-4c05-fc50-1b80b2240c8b"
      },
      "id": "oe5ok-F_kPfU",
      "execution_count": 56,
      "outputs": [
        {
          "output_type": "execute_result",
          "data": {
            "text/plain": [
              "95.248"
            ]
          },
          "metadata": {},
          "execution_count": 56
        }
      ]
    },
    {
      "cell_type": "code",
      "execution_count": 13,
      "id": "ff399f14",
      "metadata": {
        "execution": {
          "iopub.execute_input": "2022-06-22T21:08:31.515955Z",
          "iopub.status.busy": "2022-06-22T21:08:31.515203Z",
          "iopub.status.idle": "2022-06-22T21:08:31.523635Z",
          "shell.execute_reply": "2022-06-22T21:08:31.522865Z"
        },
        "id": "ff399f14",
        "outputId": "e2ae42c9-7573-4f6a-cfe7-72126d31a23f",
        "papermill": {
          "duration": 0.023752,
          "end_time": "2022-06-22T21:08:31.525595",
          "exception": false,
          "start_time": "2022-06-22T21:08:31.501843",
          "status": "completed"
        },
        "tags": [],
        "colab": {
          "base_uri": "https://localhost:8080/"
        }
      },
      "outputs": [
        {
          "output_type": "execute_result",
          "data": {
            "text/plain": [
              "95.248"
            ]
          },
          "metadata": {},
          "execution_count": 13
        }
      ],
      "source": [
        "# Usando o nosso Dataframe (função do numpy)\n",
        "np.mean(af['PESO'])"
      ]
    },
    {
      "cell_type": "code",
      "execution_count": 14,
      "id": "d03b219b",
      "metadata": {
        "execution": {
          "iopub.execute_input": "2022-06-22T21:08:31.552593Z",
          "iopub.status.busy": "2022-06-22T21:08:31.551825Z",
          "iopub.status.idle": "2022-06-22T21:08:31.558711Z",
          "shell.execute_reply": "2022-06-22T21:08:31.557846Z"
        },
        "id": "d03b219b",
        "outputId": "f11558f5-9b51-4ead-8a00-0c1c4f0944ed",
        "papermill": {
          "duration": 0.022615,
          "end_time": "2022-06-22T21:08:31.560539",
          "exception": false,
          "start_time": "2022-06-22T21:08:31.537924",
          "status": "completed"
        },
        "tags": [],
        "colab": {
          "base_uri": "https://localhost:8080/"
        }
      },
      "outputs": [
        {
          "output_type": "execute_result",
          "data": {
            "text/plain": [
              "95.248"
            ]
          },
          "metadata": {},
          "execution_count": 14
        }
      ],
      "source": [
        "# Usando o nosso Dataframe (função do statistics)\n",
        "st.mean(af['PESO'])"
      ]
    },
    {
      "cell_type": "markdown",
      "id": "aff8cd17",
      "metadata": {
        "id": "aff8cd17",
        "papermill": {
          "duration": 0.012243,
          "end_time": "2022-06-22T21:08:31.585231",
          "exception": false,
          "start_time": "2022-06-22T21:08:31.572988",
          "status": "completed"
        },
        "tags": []
      },
      "source": [
        "#### **Mediana**\n",
        "\n",
        "A mediana é aquele número que se encontra no centro do conjunto de dados **ordenados**. Caso o nosso conjunto tenha uma quantidade par de dados, teremos dois elementos no centro, logo a mediana será a média desses dois números."
      ]
    },
    {
      "cell_type": "code",
      "execution_count": 15,
      "id": "c245e90e",
      "metadata": {
        "execution": {
          "iopub.execute_input": "2022-06-22T21:08:31.612273Z",
          "iopub.status.busy": "2022-06-22T21:08:31.611593Z",
          "iopub.status.idle": "2022-06-22T21:08:31.616139Z",
          "shell.execute_reply": "2022-06-22T21:08:31.615198Z"
        },
        "id": "c245e90e",
        "papermill": {
          "duration": 0.020452,
          "end_time": "2022-06-22T21:08:31.618260",
          "exception": false,
          "start_time": "2022-06-22T21:08:31.597808",
          "status": "completed"
        },
        "tags": []
      },
      "outputs": [],
      "source": [
        "# Usando diferentes variáveis\n",
        "a = 10\n",
        "b = 13\n",
        "c = 13\n",
        "d = 15\n",
        "e = 15\n",
        "f = 17\n",
        "\n",
        "''' Qual é a mediana neste caso? '''\n",
        "mediana = '?'"
      ]
    },
    {
      "cell_type": "code",
      "execution_count": 16,
      "id": "8739c7e3",
      "metadata": {
        "execution": {
          "iopub.execute_input": "2022-06-22T21:08:31.645102Z",
          "iopub.status.busy": "2022-06-22T21:08:31.644716Z",
          "iopub.status.idle": "2022-06-22T21:08:31.652025Z",
          "shell.execute_reply": "2022-06-22T21:08:31.650668Z"
        },
        "id": "8739c7e3",
        "outputId": "b0ea14b3-a3ca-4128-a7cd-879ccbe48c9f",
        "papermill": {
          "duration": 0.02396,
          "end_time": "2022-06-22T21:08:31.654870",
          "exception": false,
          "start_time": "2022-06-22T21:08:31.630910",
          "status": "completed"
        },
        "tags": [],
        "colab": {
          "base_uri": "https://localhost:8080/"
        }
      },
      "outputs": [
        {
          "output_type": "stream",
          "name": "stdout",
          "text": [
            "14.5\n",
            "14.5\n"
          ]
        }
      ],
      "source": [
        "# Usando listas\n",
        "\n",
        "conjunto = [13,15,17,15,10,14]\n",
        "median_st = st.median(conjunto)\n",
        "print(median_st)\n",
        "\n",
        "conjunto = [13,15,17,15,10,14]\n",
        "median_np = np.median(conjunto)\n",
        "print(median_np)"
      ]
    },
    {
      "cell_type": "code",
      "execution_count": 17,
      "id": "303aa7d0",
      "metadata": {
        "execution": {
          "iopub.execute_input": "2022-06-22T21:08:31.681929Z",
          "iopub.status.busy": "2022-06-22T21:08:31.681536Z",
          "iopub.status.idle": "2022-06-22T21:08:31.689145Z",
          "shell.execute_reply": "2022-06-22T21:08:31.688162Z"
        },
        "id": "303aa7d0",
        "outputId": "ea9a7419-cdb9-4ee3-e2df-8c1848eec75f",
        "papermill": {
          "duration": 0.023732,
          "end_time": "2022-06-22T21:08:31.691312",
          "exception": false,
          "start_time": "2022-06-22T21:08:31.667580",
          "status": "completed"
        },
        "tags": [],
        "colab": {
          "base_uri": "https://localhost:8080/"
        }
      },
      "outputs": [
        {
          "output_type": "execute_result",
          "data": {
            "text/plain": [
              "96.0"
            ]
          },
          "metadata": {},
          "execution_count": 17
        }
      ],
      "source": [
        "# Usando o nosso Dataframe (função do python)\n",
        "af['PESO'].agg('median')"
      ]
    },
    {
      "cell_type": "code",
      "execution_count": 18,
      "id": "1af35c0b",
      "metadata": {
        "execution": {
          "iopub.execute_input": "2022-06-22T21:08:31.718730Z",
          "iopub.status.busy": "2022-06-22T21:08:31.718275Z",
          "iopub.status.idle": "2022-06-22T21:08:31.725782Z",
          "shell.execute_reply": "2022-06-22T21:08:31.724646Z"
        },
        "id": "1af35c0b",
        "outputId": "26614d25-7a97-48d1-925a-83b9c3e0a396",
        "papermill": {
          "duration": 0.023768,
          "end_time": "2022-06-22T21:08:31.727800",
          "exception": false,
          "start_time": "2022-06-22T21:08:31.704032",
          "status": "completed"
        },
        "tags": [],
        "colab": {
          "base_uri": "https://localhost:8080/"
        }
      },
      "outputs": [
        {
          "output_type": "execute_result",
          "data": {
            "text/plain": [
              "96.0"
            ]
          },
          "metadata": {},
          "execution_count": 18
        }
      ],
      "source": [
        "# Usando o nosso Dataframe (função do numpy)\n",
        "np.median(af['PESO'])"
      ]
    },
    {
      "cell_type": "code",
      "execution_count": 19,
      "id": "a9d60b18",
      "metadata": {
        "execution": {
          "iopub.execute_input": "2022-06-22T21:08:31.754897Z",
          "iopub.status.busy": "2022-06-22T21:08:31.754291Z",
          "iopub.status.idle": "2022-06-22T21:08:31.760201Z",
          "shell.execute_reply": "2022-06-22T21:08:31.759427Z"
        },
        "id": "a9d60b18",
        "outputId": "bdc2feff-5494-46d6-bc2d-91aff5be60b3",
        "papermill": {
          "duration": 0.021221,
          "end_time": "2022-06-22T21:08:31.761912",
          "exception": false,
          "start_time": "2022-06-22T21:08:31.740691",
          "status": "completed"
        },
        "tags": [],
        "colab": {
          "base_uri": "https://localhost:8080/"
        }
      },
      "outputs": [
        {
          "output_type": "execute_result",
          "data": {
            "text/plain": [
              "96.0"
            ]
          },
          "metadata": {},
          "execution_count": 19
        }
      ],
      "source": [
        "# Usando o nosso Dataframe (funções do statistics)\n",
        "st.median(af['PESO'])"
      ]
    },
    {
      "cell_type": "markdown",
      "id": "6ccdc2ca",
      "metadata": {
        "id": "6ccdc2ca",
        "papermill": {
          "duration": 0.0125,
          "end_time": "2022-06-22T21:08:31.787296",
          "exception": false,
          "start_time": "2022-06-22T21:08:31.774796",
          "status": "completed"
        },
        "tags": []
      },
      "source": [
        "#### **Moda**\n",
        "\n",
        "A moda é aquele número que mais se repete no conjunto de dados. \n",
        "Vale lembrar que podemos ter mais de uma moda no caso de que mais de um número se repita a maior quantidade de vezes."
      ]
    },
    {
      "cell_type": "code",
      "execution_count": 57,
      "id": "1fa75eb5",
      "metadata": {
        "execution": {
          "iopub.execute_input": "2022-06-22T21:08:31.814617Z",
          "iopub.status.busy": "2022-06-22T21:08:31.813961Z",
          "iopub.status.idle": "2022-06-22T21:08:31.819627Z",
          "shell.execute_reply": "2022-06-22T21:08:31.818235Z"
        },
        "id": "1fa75eb5",
        "outputId": "0ecb7942-ad1a-4f04-daaa-f2db1935d6ab",
        "papermill": {
          "duration": 0.021749,
          "end_time": "2022-06-22T21:08:31.821750",
          "exception": false,
          "start_time": "2022-06-22T21:08:31.800001",
          "status": "completed"
        },
        "tags": [],
        "colab": {
          "base_uri": "https://localhost:8080/"
        }
      },
      "outputs": [
        {
          "output_type": "stream",
          "name": "stdout",
          "text": [
            "15\n"
          ]
        }
      ],
      "source": [
        "# Usando diferentes variáveis\n",
        "\n",
        "a = 10\n",
        "b = 13\n",
        "c = 14\n",
        "d = 15\n",
        "e = 15\n",
        "f = 17\n",
        "\n",
        "''' Qual é a moda neste caso? '''\n",
        "moda = 15\n",
        "print(moda)"
      ]
    },
    {
      "cell_type": "code",
      "execution_count": 21,
      "id": "d4623adb",
      "metadata": {
        "execution": {
          "iopub.execute_input": "2022-06-22T21:08:31.849492Z",
          "iopub.status.busy": "2022-06-22T21:08:31.848800Z",
          "iopub.status.idle": "2022-06-22T21:08:31.854798Z",
          "shell.execute_reply": "2022-06-22T21:08:31.854051Z"
        },
        "id": "d4623adb",
        "outputId": "1195910a-f252-46c8-bd1e-1af34fc9a436",
        "papermill": {
          "duration": 0.021959,
          "end_time": "2022-06-22T21:08:31.856553",
          "exception": false,
          "start_time": "2022-06-22T21:08:31.834594",
          "status": "completed"
        },
        "tags": [],
        "colab": {
          "base_uri": "https://localhost:8080/"
        }
      },
      "outputs": [
        {
          "output_type": "stream",
          "name": "stdout",
          "text": [
            "15\n"
          ]
        }
      ],
      "source": [
        "# Usando listas\n",
        "\n",
        "conjunto = [13,15,17,15,10,14]\n",
        "moda_st = st.mode(conjunto)\n",
        "print(moda_st)"
      ]
    },
    {
      "cell_type": "code",
      "execution_count": 22,
      "id": "c573add1",
      "metadata": {
        "execution": {
          "iopub.execute_input": "2022-06-22T21:08:31.884541Z",
          "iopub.status.busy": "2022-06-22T21:08:31.883899Z",
          "iopub.status.idle": "2022-06-22T21:08:31.894549Z",
          "shell.execute_reply": "2022-06-22T21:08:31.893679Z"
        },
        "id": "c573add1",
        "outputId": "cb2b12b1-bbf9-4e3a-9681-dd056543ad6f",
        "papermill": {
          "duration": 0.026772,
          "end_time": "2022-06-22T21:08:31.896524",
          "exception": false,
          "start_time": "2022-06-22T21:08:31.869752",
          "status": "completed"
        },
        "tags": [],
        "colab": {
          "base_uri": "https://localhost:8080/"
        }
      },
      "outputs": [
        {
          "output_type": "execute_result",
          "data": {
            "text/plain": [
              "0    90\n",
              "dtype: int64"
            ]
          },
          "metadata": {},
          "execution_count": 22
        }
      ],
      "source": [
        "# Usando o nosso Dataframe (função do python)\n",
        "af['PESO'].agg('mode')"
      ]
    },
    {
      "cell_type": "code",
      "execution_count": 23,
      "id": "b5c36a7d",
      "metadata": {
        "execution": {
          "iopub.execute_input": "2022-06-22T21:08:31.924758Z",
          "iopub.status.busy": "2022-06-22T21:08:31.924169Z",
          "iopub.status.idle": "2022-06-22T21:08:31.929486Z",
          "shell.execute_reply": "2022-06-22T21:08:31.928749Z"
        },
        "id": "b5c36a7d",
        "outputId": "0bd880eb-79de-4bf2-f684-7e8f30061e0d",
        "papermill": {
          "duration": 0.022039,
          "end_time": "2022-06-22T21:08:31.931798",
          "exception": false,
          "start_time": "2022-06-22T21:08:31.909759",
          "status": "completed"
        },
        "tags": [],
        "colab": {
          "base_uri": "https://localhost:8080/"
        }
      },
      "outputs": [
        {
          "output_type": "execute_result",
          "data": {
            "text/plain": [
              "90"
            ]
          },
          "metadata": {},
          "execution_count": 23
        }
      ],
      "source": [
        "# Usando o nosso Dataframe (função do statistics)\n",
        "st.mode(af['PESO'])"
      ]
    },
    {
      "cell_type": "markdown",
      "id": "63212d65",
      "metadata": {
        "id": "63212d65",
        "papermill": {
          "duration": 0.013639,
          "end_time": "2022-06-22T21:08:31.964485",
          "exception": false,
          "start_time": "2022-06-22T21:08:31.950846",
          "status": "completed"
        },
        "tags": []
      },
      "source": [
        "### **VARIÂNCIA**\n",
        "\n",
        "A variância é essencial para que possamos chegar ao desvio padrão. Ela também nos diz muito sobre o quão distribuidos os dados de um conjunto se encontram em relação à sua média.\n",
        "\n",
        "Para encontrar a variância precisamos: \n",
        "- calcular o desvio de cada valor em relação à média (a diferença entre cada valor do conjunto e a média do conjunto);\n",
        "- elevar cada desvio ao quadrado e somar todos eles;\n",
        "- dividir a soma pela quantidade de elementos no conjunto.\n",
        "\n",
        "Quanto maior a variância, mais distribuidos os dados estão em relação à média do conjunto."
      ]
    },
    {
      "cell_type": "code",
      "execution_count": 24,
      "id": "3fcd03c9",
      "metadata": {
        "execution": {
          "iopub.execute_input": "2022-06-22T21:08:31.992825Z",
          "iopub.status.busy": "2022-06-22T21:08:31.992423Z",
          "iopub.status.idle": "2022-06-22T21:08:31.999552Z",
          "shell.execute_reply": "2022-06-22T21:08:31.998770Z"
        },
        "id": "3fcd03c9",
        "outputId": "d47e3a7a-45d0-43c8-af2a-373af14e66e7",
        "papermill": {
          "duration": 0.024025,
          "end_time": "2022-06-22T21:08:32.001836",
          "exception": false,
          "start_time": "2022-06-22T21:08:31.977811",
          "status": "completed"
        },
        "tags": [],
        "colab": {
          "base_uri": "https://localhost:8080/"
        }
      },
      "outputs": [
        {
          "output_type": "stream",
          "name": "stdout",
          "text": [
            "14.0\n",
            "1.0 1.0 9.0 1.0 16.0 0.0\n",
            "4.666666666666667\n"
          ]
        }
      ],
      "source": [
        "'''Se temos então o conjunto de dados a seguir, calcule a sua variância'''\n",
        "\n",
        "conjunto = [13,15,17,15,10,14]\n",
        "\n",
        "# Passo 1: Calcular a média\n",
        "media_conj = np.mean(conjunto)\n",
        "print(media_conj)\n",
        "\n",
        "# Passo 2: Calcular o desvío de cada elemento (a diferença entre cada valor e média) e elevamos ao quadrado\n",
        "valor_1 = (13-media_conj)**2\n",
        "valor_2 = (15-media_conj)**2\n",
        "valor_3 = (17-media_conj)**2\n",
        "valor_4 = (15-media_conj)**2\n",
        "valor_5 = (10-media_conj)**2\n",
        "valor_6 = (14-media_conj)**2\n",
        "\n",
        "print(valor_1, valor_2, valor_3, valor_4, valor_5, valor_6)\n",
        "\n",
        "# Passo 3: Tiramos a média dos valores obtidos\n",
        "variancia = np.mean([valor_1, valor_2, valor_3, valor_4, valor_5, valor_6])\n",
        "\n",
        "print(variancia)"
      ]
    },
    {
      "cell_type": "code",
      "execution_count": 25,
      "id": "6c180300",
      "metadata": {
        "execution": {
          "iopub.execute_input": "2022-06-22T21:08:32.030845Z",
          "iopub.status.busy": "2022-06-22T21:08:32.030423Z",
          "iopub.status.idle": "2022-06-22T21:08:32.036095Z",
          "shell.execute_reply": "2022-06-22T21:08:32.035337Z"
        },
        "id": "6c180300",
        "outputId": "88569961-00d1-4fbc-ab0f-4a2cafbc9fa0",
        "papermill": {
          "duration": 0.02249,
          "end_time": "2022-06-22T21:08:32.037837",
          "exception": false,
          "start_time": "2022-06-22T21:08:32.015347",
          "status": "completed"
        },
        "tags": [],
        "colab": {
          "base_uri": "https://localhost:8080/"
        }
      },
      "outputs": [
        {
          "output_type": "execute_result",
          "data": {
            "text/plain": [
              "4.666666666666667"
            ]
          },
          "metadata": {},
          "execution_count": 25
        }
      ],
      "source": [
        "# Usando o numpy na lista\n",
        "np.var(conjunto)"
      ]
    },
    {
      "cell_type": "code",
      "execution_count": 26,
      "id": "a99ab4eb",
      "metadata": {
        "execution": {
          "iopub.execute_input": "2022-06-22T21:08:32.066723Z",
          "iopub.status.busy": "2022-06-22T21:08:32.066045Z",
          "iopub.status.idle": "2022-06-22T21:08:32.071747Z",
          "shell.execute_reply": "2022-06-22T21:08:32.070997Z"
        },
        "id": "a99ab4eb",
        "outputId": "6977e2e2-70eb-4f97-d284-4678b7e9fca2",
        "papermill": {
          "duration": 0.022198,
          "end_time": "2022-06-22T21:08:32.073512",
          "exception": false,
          "start_time": "2022-06-22T21:08:32.051314",
          "status": "completed"
        },
        "tags": [],
        "colab": {
          "base_uri": "https://localhost:8080/"
        }
      },
      "outputs": [
        {
          "output_type": "execute_result",
          "data": {
            "text/plain": [
              "397.85849600000006"
            ]
          },
          "metadata": {},
          "execution_count": 26
        }
      ],
      "source": [
        "# Usando o nosso Dataframe (função do numpy)\n",
        "np.var(af['PESO'])"
      ]
    },
    {
      "cell_type": "markdown",
      "id": "99a57cff",
      "metadata": {
        "id": "99a57cff",
        "papermill": {
          "duration": 0.013245,
          "end_time": "2022-06-22T21:08:32.100392",
          "exception": false,
          "start_time": "2022-06-22T21:08:32.087147",
          "status": "completed"
        },
        "tags": []
      },
      "source": [
        "### **DESVIO PADRÃO**\n",
        "\n",
        "O desvio padrão é uma medida que nos ajuda a entender o quão distribuido está o conjunto de dados em relação à sua média. Esta medida, diferente da variância, se encontra na mesma unidade do conjunto dos dados.\n",
        "\n",
        "Podemos calcular o desvio padrão a partir da variância, ou seja, o desvio padrão é a raiz quadrada da variância."
      ]
    },
    {
      "cell_type": "code",
      "execution_count": 27,
      "id": "59d981ad",
      "metadata": {
        "execution": {
          "iopub.execute_input": "2022-06-22T21:08:32.129099Z",
          "iopub.status.busy": "2022-06-22T21:08:32.128717Z",
          "iopub.status.idle": "2022-06-22T21:08:32.136231Z",
          "shell.execute_reply": "2022-06-22T21:08:32.135501Z"
        },
        "id": "59d981ad",
        "outputId": "70e0ab11-b4bb-423c-a512-b7a0dec8b199",
        "papermill": {
          "duration": 0.024805,
          "end_time": "2022-06-22T21:08:32.138721",
          "exception": false,
          "start_time": "2022-06-22T21:08:32.113916",
          "status": "completed"
        },
        "tags": [],
        "colab": {
          "base_uri": "https://localhost:8080/"
        }
      },
      "outputs": [
        {
          "output_type": "stream",
          "name": "stdout",
          "text": [
            "14.0\n",
            "1.0 1.0 9.0 1.0 16.0 0.0\n",
            "4.666666666666667\n",
            "2.160246899469287\n"
          ]
        }
      ],
      "source": [
        "'''Se temos então o conjunto de dados a seguir, calcule o seu desvio padrão'''\n",
        "\n",
        "conjunto = [13,15,17,15,10,14]\n",
        "\n",
        "# Passo 1: Calcular a média\n",
        "media_conj = np.mean(conjunto)\n",
        "print(media_conj)\n",
        "\n",
        "# Passo 2: Calcular o desvío de cada elemento (a diferença entre cada valor e média) e elevamos ao quadrado\n",
        "valor_1 = (13-media_conj)**2\n",
        "valor_2 = (15-media_conj)**2\n",
        "valor_3 = (17-media_conj)**2\n",
        "valor_4 = (15-media_conj)**2\n",
        "valor_5 = (10-media_conj)**2\n",
        "valor_6 = (14-media_conj)**2\n",
        "\n",
        "print(valor_1, valor_2, valor_3, valor_4, valor_5, valor_6)\n",
        "\n",
        "# Passo 3: Tiramos a média dos valores obtidos\n",
        "variancia = np.mean([valor_1, valor_2, valor_3, valor_4, valor_5, valor_6])\n",
        "print(variancia)\n",
        "\n",
        "# Passo 3: Tiramos a média dos valores obtidos\n",
        "desvp = variancia**(1/2)\n",
        "print(desvp)"
      ]
    },
    {
      "cell_type": "code",
      "execution_count": 28,
      "id": "7f0a3e24",
      "metadata": {
        "execution": {
          "iopub.execute_input": "2022-06-22T21:08:32.168386Z",
          "iopub.status.busy": "2022-06-22T21:08:32.167762Z",
          "iopub.status.idle": "2022-06-22T21:08:32.173054Z",
          "shell.execute_reply": "2022-06-22T21:08:32.172257Z"
        },
        "id": "7f0a3e24",
        "outputId": "5785ad51-9ba3-4e5f-df89-c77f1a5a5ed8",
        "papermill": {
          "duration": 0.022395,
          "end_time": "2022-06-22T21:08:32.174848",
          "exception": false,
          "start_time": "2022-06-22T21:08:32.152453",
          "status": "completed"
        },
        "tags": [],
        "colab": {
          "base_uri": "https://localhost:8080/"
        }
      },
      "outputs": [
        {
          "output_type": "execute_result",
          "data": {
            "text/plain": [
              "2.160246899469287"
            ]
          },
          "metadata": {},
          "execution_count": 28
        }
      ],
      "source": [
        "# Usando o numpy na lista\n",
        "np.std(conjunto)"
      ]
    },
    {
      "cell_type": "code",
      "execution_count": 29,
      "id": "60fc2f4b",
      "metadata": {
        "execution": {
          "iopub.execute_input": "2022-06-22T21:08:32.204491Z",
          "iopub.status.busy": "2022-06-22T21:08:32.203842Z",
          "iopub.status.idle": "2022-06-22T21:08:32.212505Z",
          "shell.execute_reply": "2022-06-22T21:08:32.211619Z"
        },
        "id": "60fc2f4b",
        "outputId": "20aa83f0-9335-4d0f-dd70-2116bffbfb12",
        "papermill": {
          "duration": 0.025807,
          "end_time": "2022-06-22T21:08:32.214443",
          "exception": false,
          "start_time": "2022-06-22T21:08:32.188636",
          "status": "completed"
        },
        "tags": [],
        "colab": {
          "base_uri": "https://localhost:8080/"
        }
      },
      "outputs": [
        {
          "output_type": "execute_result",
          "data": {
            "text/plain": [
              "19.966366910763472"
            ]
          },
          "metadata": {},
          "execution_count": 29
        }
      ],
      "source": [
        "# Usando o nosso Dataframe\n",
        "af.agg('std')['PESO']"
      ]
    },
    {
      "cell_type": "markdown",
      "id": "d74cb93b",
      "metadata": {
        "id": "d74cb93b",
        "papermill": {
          "duration": 0.013779,
          "end_time": "2022-06-22T21:08:32.242315",
          "exception": false,
          "start_time": "2022-06-22T21:08:32.228536",
          "status": "completed"
        },
        "tags": []
      },
      "source": [
        "### **E POR QUE OLHAR PARA O DESVIO PADRÃO?**"
      ]
    },
    {
      "cell_type": "code",
      "execution_count": 30,
      "id": "7857ad8d",
      "metadata": {
        "execution": {
          "iopub.execute_input": "2022-06-22T21:08:32.272374Z",
          "iopub.status.busy": "2022-06-22T21:08:32.271825Z",
          "iopub.status.idle": "2022-06-22T21:08:32.278645Z",
          "shell.execute_reply": "2022-06-22T21:08:32.277195Z"
        },
        "id": "7857ad8d",
        "outputId": "c2ec8ee4-2a99-47d4-8573-13371b344d0c",
        "papermill": {
          "duration": 0.024464,
          "end_time": "2022-06-22T21:08:32.281005",
          "exception": false,
          "start_time": "2022-06-22T21:08:32.256541",
          "status": "completed"
        },
        "tags": [],
        "colab": {
          "base_uri": "https://localhost:8080/"
        }
      },
      "outputs": [
        {
          "output_type": "stream",
          "name": "stdout",
          "text": [
            "DIA 1\n",
            "media temperatura dia 1: 21.0\n",
            "DesvP temperatura dia 1: 5.408326913195984\n",
            "-------------------------------------\n",
            "media temperatura dia 2: 21.0\n",
            "DesvP temperatura dia 2: 12.668859459319927\n"
          ]
        }
      ],
      "source": [
        "# Consideremos os seguintes conjuntos:\n",
        "\n",
        "temp_dia1 = [16,14,18,25,30,26,23,16]\n",
        "temp_dia2 = [-1,10,15,20,22,27,32,43]\n",
        "\n",
        "print('DIA 1')\n",
        "print('media temperatura dia 1:',np.mean(temp_dia1))\n",
        "print('DesvP temperatura dia 1:',np.std(temp_dia1))\n",
        "print('-------------------------------------')\n",
        "print('media temperatura dia 2:',np.mean(temp_dia2))\n",
        "print('DesvP temperatura dia 2:',np.std(temp_dia2))"
      ]
    },
    {
      "cell_type": "markdown",
      "id": "6fea4771",
      "metadata": {
        "id": "6fea4771",
        "papermill": {
          "duration": 0.013668,
          "end_time": "2022-06-22T21:08:32.309458",
          "exception": false,
          "start_time": "2022-06-22T21:08:32.295790",
          "status": "completed"
        },
        "tags": []
      },
      "source": [
        "### **RESUMINDO OS DADOS DE UM DATAFRAME**"
      ]
    },
    {
      "cell_type": "code",
      "execution_count": 31,
      "id": "8376e679",
      "metadata": {
        "execution": {
          "iopub.execute_input": "2022-06-22T21:08:32.339139Z",
          "iopub.status.busy": "2022-06-22T21:08:32.338741Z",
          "iopub.status.idle": "2022-06-22T21:08:33.760986Z",
          "shell.execute_reply": "2022-06-22T21:08:33.759803Z"
        },
        "id": "8376e679",
        "outputId": "0b7b1629-bd11-4e93-eddd-f67e43542395",
        "papermill": {
          "duration": 1.439852,
          "end_time": "2022-06-22T21:08:33.763299",
          "exception": false,
          "start_time": "2022-06-22T21:08:32.323447",
          "status": "completed"
        },
        "tags": [],
        "colab": {
          "base_uri": "https://localhost:8080/",
          "height": 206
        }
      },
      "outputs": [
        {
          "output_type": "execute_result",
          "data": {
            "text/plain": [
              "   UF_CODE        UF    UF_alt       Sexo  Idade  Anos de Estudo  Renda  \\\n",
              "0       11  Rondônia  Rondonia  Masculino     23              12    800   \n",
              "1       11  Rondônia  Rondonia   Feminino     23              12   1150   \n",
              "2       11  Rondônia  Rondonia   Feminino     35              15    880   \n",
              "3       11  Rondônia  Rondonia  Masculino     46               6   3500   \n",
              "4       11  Rondônia  Rondonia   Feminino     47               9    150   \n",
              "\n",
              "     Altura  \n",
              "0  1.603808  \n",
              "1  1.739790  \n",
              "2  1.760444  \n",
              "3  1.783158  \n",
              "4  1.690631  "
            ],
            "text/html": [
              "\n",
              "  <div id=\"df-9cf161d4-744f-4432-ac9c-b17f81a5d8c9\">\n",
              "    <div class=\"colab-df-container\">\n",
              "      <div>\n",
              "<style scoped>\n",
              "    .dataframe tbody tr th:only-of-type {\n",
              "        vertical-align: middle;\n",
              "    }\n",
              "\n",
              "    .dataframe tbody tr th {\n",
              "        vertical-align: top;\n",
              "    }\n",
              "\n",
              "    .dataframe thead th {\n",
              "        text-align: right;\n",
              "    }\n",
              "</style>\n",
              "<table border=\"1\" class=\"dataframe\">\n",
              "  <thead>\n",
              "    <tr style=\"text-align: right;\">\n",
              "      <th></th>\n",
              "      <th>UF_CODE</th>\n",
              "      <th>UF</th>\n",
              "      <th>UF_alt</th>\n",
              "      <th>Sexo</th>\n",
              "      <th>Idade</th>\n",
              "      <th>Anos de Estudo</th>\n",
              "      <th>Renda</th>\n",
              "      <th>Altura</th>\n",
              "    </tr>\n",
              "  </thead>\n",
              "  <tbody>\n",
              "    <tr>\n",
              "      <th>0</th>\n",
              "      <td>11</td>\n",
              "      <td>Rondônia</td>\n",
              "      <td>Rondonia</td>\n",
              "      <td>Masculino</td>\n",
              "      <td>23</td>\n",
              "      <td>12</td>\n",
              "      <td>800</td>\n",
              "      <td>1.603808</td>\n",
              "    </tr>\n",
              "    <tr>\n",
              "      <th>1</th>\n",
              "      <td>11</td>\n",
              "      <td>Rondônia</td>\n",
              "      <td>Rondonia</td>\n",
              "      <td>Feminino</td>\n",
              "      <td>23</td>\n",
              "      <td>12</td>\n",
              "      <td>1150</td>\n",
              "      <td>1.739790</td>\n",
              "    </tr>\n",
              "    <tr>\n",
              "      <th>2</th>\n",
              "      <td>11</td>\n",
              "      <td>Rondônia</td>\n",
              "      <td>Rondonia</td>\n",
              "      <td>Feminino</td>\n",
              "      <td>35</td>\n",
              "      <td>15</td>\n",
              "      <td>880</td>\n",
              "      <td>1.760444</td>\n",
              "    </tr>\n",
              "    <tr>\n",
              "      <th>3</th>\n",
              "      <td>11</td>\n",
              "      <td>Rondônia</td>\n",
              "      <td>Rondonia</td>\n",
              "      <td>Masculino</td>\n",
              "      <td>46</td>\n",
              "      <td>6</td>\n",
              "      <td>3500</td>\n",
              "      <td>1.783158</td>\n",
              "    </tr>\n",
              "    <tr>\n",
              "      <th>4</th>\n",
              "      <td>11</td>\n",
              "      <td>Rondônia</td>\n",
              "      <td>Rondonia</td>\n",
              "      <td>Feminino</td>\n",
              "      <td>47</td>\n",
              "      <td>9</td>\n",
              "      <td>150</td>\n",
              "      <td>1.690631</td>\n",
              "    </tr>\n",
              "  </tbody>\n",
              "</table>\n",
              "</div>\n",
              "      <button class=\"colab-df-convert\" onclick=\"convertToInteractive('df-9cf161d4-744f-4432-ac9c-b17f81a5d8c9')\"\n",
              "              title=\"Convert this dataframe to an interactive table.\"\n",
              "              style=\"display:none;\">\n",
              "        \n",
              "  <svg xmlns=\"http://www.w3.org/2000/svg\" height=\"24px\"viewBox=\"0 0 24 24\"\n",
              "       width=\"24px\">\n",
              "    <path d=\"M0 0h24v24H0V0z\" fill=\"none\"/>\n",
              "    <path d=\"M18.56 5.44l.94 2.06.94-2.06 2.06-.94-2.06-.94-.94-2.06-.94 2.06-2.06.94zm-11 1L8.5 8.5l.94-2.06 2.06-.94-2.06-.94L8.5 2.5l-.94 2.06-2.06.94zm10 10l.94 2.06.94-2.06 2.06-.94-2.06-.94-.94-2.06-.94 2.06-2.06.94z\"/><path d=\"M17.41 7.96l-1.37-1.37c-.4-.4-.92-.59-1.43-.59-.52 0-1.04.2-1.43.59L10.3 9.45l-7.72 7.72c-.78.78-.78 2.05 0 2.83L4 21.41c.39.39.9.59 1.41.59.51 0 1.02-.2 1.41-.59l7.78-7.78 2.81-2.81c.8-.78.8-2.07 0-2.86zM5.41 20L4 18.59l7.72-7.72 1.47 1.35L5.41 20z\"/>\n",
              "  </svg>\n",
              "      </button>\n",
              "      \n",
              "  <style>\n",
              "    .colab-df-container {\n",
              "      display:flex;\n",
              "      flex-wrap:wrap;\n",
              "      gap: 12px;\n",
              "    }\n",
              "\n",
              "    .colab-df-convert {\n",
              "      background-color: #E8F0FE;\n",
              "      border: none;\n",
              "      border-radius: 50%;\n",
              "      cursor: pointer;\n",
              "      display: none;\n",
              "      fill: #1967D2;\n",
              "      height: 32px;\n",
              "      padding: 0 0 0 0;\n",
              "      width: 32px;\n",
              "    }\n",
              "\n",
              "    .colab-df-convert:hover {\n",
              "      background-color: #E2EBFA;\n",
              "      box-shadow: 0px 1px 2px rgba(60, 64, 67, 0.3), 0px 1px 3px 1px rgba(60, 64, 67, 0.15);\n",
              "      fill: #174EA6;\n",
              "    }\n",
              "\n",
              "    [theme=dark] .colab-df-convert {\n",
              "      background-color: #3B4455;\n",
              "      fill: #D2E3FC;\n",
              "    }\n",
              "\n",
              "    [theme=dark] .colab-df-convert:hover {\n",
              "      background-color: #434B5C;\n",
              "      box-shadow: 0px 1px 3px 1px rgba(0, 0, 0, 0.15);\n",
              "      filter: drop-shadow(0px 1px 2px rgba(0, 0, 0, 0.3));\n",
              "      fill: #FFFFFF;\n",
              "    }\n",
              "  </style>\n",
              "\n",
              "      <script>\n",
              "        const buttonEl =\n",
              "          document.querySelector('#df-9cf161d4-744f-4432-ac9c-b17f81a5d8c9 button.colab-df-convert');\n",
              "        buttonEl.style.display =\n",
              "          google.colab.kernel.accessAllowed ? 'block' : 'none';\n",
              "\n",
              "        async function convertToInteractive(key) {\n",
              "          const element = document.querySelector('#df-9cf161d4-744f-4432-ac9c-b17f81a5d8c9');\n",
              "          const dataTable =\n",
              "            await google.colab.kernel.invokeFunction('convertToInteractive',\n",
              "                                                     [key], {});\n",
              "          if (!dataTable) return;\n",
              "\n",
              "          const docLinkHtml = 'Like what you see? Visit the ' +\n",
              "            '<a target=\"_blank\" href=https://colab.research.google.com/notebooks/data_table.ipynb>data table notebook</a>'\n",
              "            + ' to learn more about interactive tables.';\n",
              "          element.innerHTML = '';\n",
              "          dataTable['output_type'] = 'display_data';\n",
              "          await google.colab.output.renderOutput(dataTable, element);\n",
              "          const docLink = document.createElement('div');\n",
              "          docLink.innerHTML = docLinkHtml;\n",
              "          element.appendChild(docLink);\n",
              "        }\n",
              "      </script>\n",
              "    </div>\n",
              "  </div>\n",
              "  "
            ]
          },
          "metadata": {},
          "execution_count": 31
        }
      ],
      "source": [
        "# Vamos criar um dataframe chamado 'pessoas' com o arquivo dados_IBGE_pessoas.csv\n",
        "\n",
        "!wget -q \"https://raw.githubusercontent.com/rafands/ebac-course-content/main/dados_IBGE_pessoas.csv\" -O dados_IBGE_pessoas.csv \n",
        "\n",
        "pessoas = pd.read_csv('./dados_IBGE_pessoas.csv', sep=';')\n",
        "\n",
        "pessoas.head()"
      ]
    },
    {
      "cell_type": "code",
      "execution_count": 32,
      "id": "6555ad69",
      "metadata": {
        "execution": {
          "iopub.execute_input": "2022-06-22T21:08:33.795046Z",
          "iopub.status.busy": "2022-06-22T21:08:33.794629Z",
          "iopub.status.idle": "2022-06-22T21:08:33.801947Z",
          "shell.execute_reply": "2022-06-22T21:08:33.801025Z"
        },
        "id": "6555ad69",
        "outputId": "abb06b24-aaac-4260-ddff-03b9b44dbc2f",
        "papermill": {
          "duration": 0.026965,
          "end_time": "2022-06-22T21:08:33.804982",
          "exception": false,
          "start_time": "2022-06-22T21:08:33.778017",
          "status": "completed"
        },
        "tags": [],
        "colab": {
          "base_uri": "https://localhost:8080/"
        }
      },
      "outputs": [
        {
          "output_type": "stream",
          "name": "stdout",
          "text": [
            "--------------------\n",
            "colunas: ['UF_CODE', 'UF', 'UF_alt', 'Sexo', 'Idade', 'Anos de Estudo', 'Renda', 'Altura']\n",
            "--------------------\n",
            "shape: (76840, 8)\n",
            "--------------------\n",
            "quantidade de elementos: 614720\n",
            "--------------------\n",
            "tipos dos dados:\n",
            "UF_CODE             int64\n",
            "UF                 object\n",
            "UF_alt             object\n",
            "Sexo               object\n",
            "Idade               int64\n",
            "Anos de Estudo      int64\n",
            "Renda               int64\n",
            "Altura            float64\n",
            "dtype: object\n"
          ]
        }
      ],
      "source": [
        "# Propriedades do dataframe:\n",
        "print('--------------------')\n",
        "print('colunas:',list(pessoas.columns))\n",
        "print('--------------------')\n",
        "print('shape:',pessoas.shape)\n",
        "print('--------------------')\n",
        "print('quantidade de elementos:',pessoas.size)\n",
        "print('--------------------')\n",
        "print('tipos dos dados:')\n",
        "print(pessoas.dtypes)"
      ]
    },
    {
      "cell_type": "code",
      "execution_count": 33,
      "id": "1ece8e7c",
      "metadata": {
        "execution": {
          "iopub.execute_input": "2022-06-22T21:08:33.837418Z",
          "iopub.status.busy": "2022-06-22T21:08:33.837040Z",
          "iopub.status.idle": "2022-06-22T21:08:34.080177Z",
          "shell.execute_reply": "2022-06-22T21:08:34.078978Z"
        },
        "id": "1ece8e7c",
        "outputId": "e06ede27-600d-4f5b-fa63-78905472f232",
        "papermill": {
          "duration": 0.261728,
          "end_time": "2022-06-22T21:08:34.082348",
          "exception": false,
          "start_time": "2022-06-22T21:08:33.820620",
          "status": "completed"
        },
        "tags": [],
        "colab": {
          "base_uri": "https://localhost:8080/"
        }
      },
      "outputs": [
        {
          "output_type": "execute_result",
          "data": {
            "text/plain": [
              "UF_CODE           object\n",
              "UF                object\n",
              "UF_alt            object\n",
              "Sexo              object\n",
              "Idade             object\n",
              "Anos de Estudo    object\n",
              "Renda             object\n",
              "Altura            object\n",
              "dtype: object"
            ]
          },
          "metadata": {},
          "execution_count": 33
        }
      ],
      "source": [
        "# Mudando o tipo de dado de TODAS AS COLUNAS\n",
        "pessoas.astype(str).dtypes"
      ]
    },
    {
      "cell_type": "code",
      "execution_count": 34,
      "id": "768f54ab",
      "metadata": {
        "execution": {
          "iopub.execute_input": "2022-06-22T21:08:34.114072Z",
          "iopub.status.busy": "2022-06-22T21:08:34.113541Z",
          "iopub.status.idle": "2022-06-22T21:08:34.169141Z",
          "shell.execute_reply": "2022-06-22T21:08:34.167912Z"
        },
        "id": "768f54ab",
        "outputId": "9aad0ff9-5e2b-4cbb-caac-f73b865eeae6",
        "papermill": {
          "duration": 0.074162,
          "end_time": "2022-06-22T21:08:34.171261",
          "exception": false,
          "start_time": "2022-06-22T21:08:34.097099",
          "status": "completed"
        },
        "tags": [],
        "colab": {
          "base_uri": "https://localhost:8080/"
        }
      },
      "outputs": [
        {
          "output_type": "execute_result",
          "data": {
            "text/plain": [
              "UF_CODE            object\n",
              "UF                 object\n",
              "UF_alt             object\n",
              "Sexo               object\n",
              "Idade               int64\n",
              "Anos de Estudo      int64\n",
              "Renda             float64\n",
              "Altura            float64\n",
              "dtype: object"
            ]
          },
          "metadata": {},
          "execution_count": 34
        }
      ],
      "source": [
        "# Mudando o tipo de dado de ALGUMAS COLUNAS\n",
        "pessoas.astype({'UF_CODE':str,\n",
        "                'Renda':float}\n",
        "               ).dtypes"
      ]
    },
    {
      "cell_type": "code",
      "execution_count": 35,
      "id": "1bd791c4",
      "metadata": {
        "execution": {
          "iopub.execute_input": "2022-06-22T21:08:34.203403Z",
          "iopub.status.busy": "2022-06-22T21:08:34.202516Z",
          "iopub.status.idle": "2022-06-22T21:08:34.246180Z",
          "shell.execute_reply": "2022-06-22T21:08:34.245105Z"
        },
        "id": "1bd791c4",
        "outputId": "cf754c1c-5542-4ff3-d507-e883032bde76",
        "papermill": {
          "duration": 0.062309,
          "end_time": "2022-06-22T21:08:34.248551",
          "exception": false,
          "start_time": "2022-06-22T21:08:34.186242",
          "status": "completed"
        },
        "tags": [],
        "colab": {
          "base_uri": "https://localhost:8080/",
          "height": 300
        }
      },
      "outputs": [
        {
          "output_type": "execute_result",
          "data": {
            "text/plain": [
              "            UF_CODE         Idade  Anos de Estudo          Renda        Altura\n",
              "count  76840.000000  76840.000000    76840.000000   76840.000000  76840.000000\n",
              "mean      31.912962     44.071421        9.469664    2000.383199      1.699512\n",
              "std       11.147830     12.480583        4.539929    3323.387730      0.079717\n",
              "min       11.000000     13.000000        1.000000       0.000000      1.339245\n",
              "25%       25.000000     34.000000        6.000000     788.000000      1.645785\n",
              "50%       31.000000     43.000000       11.000000    1200.000000      1.699325\n",
              "75%       41.000000     53.000000       12.000000    2000.000000      1.753062\n",
              "max       53.000000     99.000000       17.000000  200000.000000      2.028497"
            ],
            "text/html": [
              "\n",
              "  <div id=\"df-aae577a0-60bc-474b-9d01-e6b3176c7464\">\n",
              "    <div class=\"colab-df-container\">\n",
              "      <div>\n",
              "<style scoped>\n",
              "    .dataframe tbody tr th:only-of-type {\n",
              "        vertical-align: middle;\n",
              "    }\n",
              "\n",
              "    .dataframe tbody tr th {\n",
              "        vertical-align: top;\n",
              "    }\n",
              "\n",
              "    .dataframe thead th {\n",
              "        text-align: right;\n",
              "    }\n",
              "</style>\n",
              "<table border=\"1\" class=\"dataframe\">\n",
              "  <thead>\n",
              "    <tr style=\"text-align: right;\">\n",
              "      <th></th>\n",
              "      <th>UF_CODE</th>\n",
              "      <th>Idade</th>\n",
              "      <th>Anos de Estudo</th>\n",
              "      <th>Renda</th>\n",
              "      <th>Altura</th>\n",
              "    </tr>\n",
              "  </thead>\n",
              "  <tbody>\n",
              "    <tr>\n",
              "      <th>count</th>\n",
              "      <td>76840.000000</td>\n",
              "      <td>76840.000000</td>\n",
              "      <td>76840.000000</td>\n",
              "      <td>76840.000000</td>\n",
              "      <td>76840.000000</td>\n",
              "    </tr>\n",
              "    <tr>\n",
              "      <th>mean</th>\n",
              "      <td>31.912962</td>\n",
              "      <td>44.071421</td>\n",
              "      <td>9.469664</td>\n",
              "      <td>2000.383199</td>\n",
              "      <td>1.699512</td>\n",
              "    </tr>\n",
              "    <tr>\n",
              "      <th>std</th>\n",
              "      <td>11.147830</td>\n",
              "      <td>12.480583</td>\n",
              "      <td>4.539929</td>\n",
              "      <td>3323.387730</td>\n",
              "      <td>0.079717</td>\n",
              "    </tr>\n",
              "    <tr>\n",
              "      <th>min</th>\n",
              "      <td>11.000000</td>\n",
              "      <td>13.000000</td>\n",
              "      <td>1.000000</td>\n",
              "      <td>0.000000</td>\n",
              "      <td>1.339245</td>\n",
              "    </tr>\n",
              "    <tr>\n",
              "      <th>25%</th>\n",
              "      <td>25.000000</td>\n",
              "      <td>34.000000</td>\n",
              "      <td>6.000000</td>\n",
              "      <td>788.000000</td>\n",
              "      <td>1.645785</td>\n",
              "    </tr>\n",
              "    <tr>\n",
              "      <th>50%</th>\n",
              "      <td>31.000000</td>\n",
              "      <td>43.000000</td>\n",
              "      <td>11.000000</td>\n",
              "      <td>1200.000000</td>\n",
              "      <td>1.699325</td>\n",
              "    </tr>\n",
              "    <tr>\n",
              "      <th>75%</th>\n",
              "      <td>41.000000</td>\n",
              "      <td>53.000000</td>\n",
              "      <td>12.000000</td>\n",
              "      <td>2000.000000</td>\n",
              "      <td>1.753062</td>\n",
              "    </tr>\n",
              "    <tr>\n",
              "      <th>max</th>\n",
              "      <td>53.000000</td>\n",
              "      <td>99.000000</td>\n",
              "      <td>17.000000</td>\n",
              "      <td>200000.000000</td>\n",
              "      <td>2.028497</td>\n",
              "    </tr>\n",
              "  </tbody>\n",
              "</table>\n",
              "</div>\n",
              "      <button class=\"colab-df-convert\" onclick=\"convertToInteractive('df-aae577a0-60bc-474b-9d01-e6b3176c7464')\"\n",
              "              title=\"Convert this dataframe to an interactive table.\"\n",
              "              style=\"display:none;\">\n",
              "        \n",
              "  <svg xmlns=\"http://www.w3.org/2000/svg\" height=\"24px\"viewBox=\"0 0 24 24\"\n",
              "       width=\"24px\">\n",
              "    <path d=\"M0 0h24v24H0V0z\" fill=\"none\"/>\n",
              "    <path d=\"M18.56 5.44l.94 2.06.94-2.06 2.06-.94-2.06-.94-.94-2.06-.94 2.06-2.06.94zm-11 1L8.5 8.5l.94-2.06 2.06-.94-2.06-.94L8.5 2.5l-.94 2.06-2.06.94zm10 10l.94 2.06.94-2.06 2.06-.94-2.06-.94-.94-2.06-.94 2.06-2.06.94z\"/><path d=\"M17.41 7.96l-1.37-1.37c-.4-.4-.92-.59-1.43-.59-.52 0-1.04.2-1.43.59L10.3 9.45l-7.72 7.72c-.78.78-.78 2.05 0 2.83L4 21.41c.39.39.9.59 1.41.59.51 0 1.02-.2 1.41-.59l7.78-7.78 2.81-2.81c.8-.78.8-2.07 0-2.86zM5.41 20L4 18.59l7.72-7.72 1.47 1.35L5.41 20z\"/>\n",
              "  </svg>\n",
              "      </button>\n",
              "      \n",
              "  <style>\n",
              "    .colab-df-container {\n",
              "      display:flex;\n",
              "      flex-wrap:wrap;\n",
              "      gap: 12px;\n",
              "    }\n",
              "\n",
              "    .colab-df-convert {\n",
              "      background-color: #E8F0FE;\n",
              "      border: none;\n",
              "      border-radius: 50%;\n",
              "      cursor: pointer;\n",
              "      display: none;\n",
              "      fill: #1967D2;\n",
              "      height: 32px;\n",
              "      padding: 0 0 0 0;\n",
              "      width: 32px;\n",
              "    }\n",
              "\n",
              "    .colab-df-convert:hover {\n",
              "      background-color: #E2EBFA;\n",
              "      box-shadow: 0px 1px 2px rgba(60, 64, 67, 0.3), 0px 1px 3px 1px rgba(60, 64, 67, 0.15);\n",
              "      fill: #174EA6;\n",
              "    }\n",
              "\n",
              "    [theme=dark] .colab-df-convert {\n",
              "      background-color: #3B4455;\n",
              "      fill: #D2E3FC;\n",
              "    }\n",
              "\n",
              "    [theme=dark] .colab-df-convert:hover {\n",
              "      background-color: #434B5C;\n",
              "      box-shadow: 0px 1px 3px 1px rgba(0, 0, 0, 0.15);\n",
              "      filter: drop-shadow(0px 1px 2px rgba(0, 0, 0, 0.3));\n",
              "      fill: #FFFFFF;\n",
              "    }\n",
              "  </style>\n",
              "\n",
              "      <script>\n",
              "        const buttonEl =\n",
              "          document.querySelector('#df-aae577a0-60bc-474b-9d01-e6b3176c7464 button.colab-df-convert');\n",
              "        buttonEl.style.display =\n",
              "          google.colab.kernel.accessAllowed ? 'block' : 'none';\n",
              "\n",
              "        async function convertToInteractive(key) {\n",
              "          const element = document.querySelector('#df-aae577a0-60bc-474b-9d01-e6b3176c7464');\n",
              "          const dataTable =\n",
              "            await google.colab.kernel.invokeFunction('convertToInteractive',\n",
              "                                                     [key], {});\n",
              "          if (!dataTable) return;\n",
              "\n",
              "          const docLinkHtml = 'Like what you see? Visit the ' +\n",
              "            '<a target=\"_blank\" href=https://colab.research.google.com/notebooks/data_table.ipynb>data table notebook</a>'\n",
              "            + ' to learn more about interactive tables.';\n",
              "          element.innerHTML = '';\n",
              "          dataTable['output_type'] = 'display_data';\n",
              "          await google.colab.output.renderOutput(dataTable, element);\n",
              "          const docLink = document.createElement('div');\n",
              "          docLink.innerHTML = docLinkHtml;\n",
              "          element.appendChild(docLink);\n",
              "        }\n",
              "      </script>\n",
              "    </div>\n",
              "  </div>\n",
              "  "
            ]
          },
          "metadata": {},
          "execution_count": 35
        }
      ],
      "source": [
        "pessoas.describe()"
      ]
    },
    {
      "cell_type": "markdown",
      "id": "8c818241",
      "metadata": {
        "id": "8c818241",
        "papermill": {
          "duration": 0.015647,
          "end_time": "2022-06-22T21:08:34.279618",
          "exception": false,
          "start_time": "2022-06-22T21:08:34.263971",
          "status": "completed"
        },
        "tags": []
      },
      "source": [
        "#### **AGG** (EDIT)\n",
        "\n",
        "Vamos tentar resumir alguns dados do nosso dataframe 'pessoas'"
      ]
    },
    {
      "cell_type": "code",
      "execution_count": 36,
      "id": "71e6fd82",
      "metadata": {
        "execution": {
          "iopub.execute_input": "2022-06-22T21:08:34.313260Z",
          "iopub.status.busy": "2022-06-22T21:08:34.312895Z",
          "iopub.status.idle": "2022-06-22T21:08:34.320295Z",
          "shell.execute_reply": "2022-06-22T21:08:34.319149Z"
        },
        "id": "71e6fd82",
        "outputId": "51d29082-c74f-4902-b6a1-56a7251ed41a",
        "papermill": {
          "duration": 0.026809,
          "end_time": "2022-06-22T21:08:34.322428",
          "exception": false,
          "start_time": "2022-06-22T21:08:34.295619",
          "status": "completed"
        },
        "tags": [],
        "colab": {
          "base_uri": "https://localhost:8080/"
        }
      },
      "outputs": [
        {
          "output_type": "execute_result",
          "data": {
            "text/plain": [
              "153709445"
            ]
          },
          "metadata": {},
          "execution_count": 36
        }
      ],
      "source": [
        "# Qual é a soma da renda desta base?\n",
        "\n",
        "pessoas['Renda'].agg('sum')"
      ]
    },
    {
      "cell_type": "code",
      "execution_count": 37,
      "id": "38da7b88",
      "metadata": {
        "execution": {
          "iopub.execute_input": "2022-06-22T21:08:34.355214Z",
          "iopub.status.busy": "2022-06-22T21:08:34.354806Z",
          "iopub.status.idle": "2022-06-22T21:08:34.365755Z",
          "shell.execute_reply": "2022-06-22T21:08:34.364956Z"
        },
        "id": "38da7b88",
        "outputId": "0526b9d5-d86c-455d-a00d-591fc8d912ab",
        "papermill": {
          "duration": 0.029781,
          "end_time": "2022-06-22T21:08:34.367799",
          "exception": false,
          "start_time": "2022-06-22T21:08:34.338018",
          "status": "completed"
        },
        "tags": [],
        "colab": {
          "base_uri": "https://localhost:8080/"
        }
      },
      "outputs": [
        {
          "output_type": "execute_result",
          "data": {
            "text/plain": [
              "Renda             2000.383199\n",
              "Idade               44.071421\n",
              "Anos de Estudo       9.469664\n",
              "Altura               1.699512\n",
              "dtype: float64"
            ]
          },
          "metadata": {},
          "execution_count": 37
        }
      ],
      "source": [
        "# Qual é a média da Renda, Idade, Anos de Estudo e Altura de todas as pessoas deste dataframe?\n",
        "\n",
        "pessoas[['Renda','Idade','Anos de Estudo','Altura']].agg('mean')"
      ]
    },
    {
      "cell_type": "code",
      "execution_count": 38,
      "id": "437b0c70",
      "metadata": {
        "execution": {
          "iopub.execute_input": "2022-06-22T21:08:34.401268Z",
          "iopub.status.busy": "2022-06-22T21:08:34.400859Z",
          "iopub.status.idle": "2022-06-22T21:08:34.435891Z",
          "shell.execute_reply": "2022-06-22T21:08:34.434912Z"
        },
        "id": "437b0c70",
        "outputId": "e8e47ace-129b-4148-f247-31f9fd034e8a",
        "papermill": {
          "duration": 0.053969,
          "end_time": "2022-06-22T21:08:34.437857",
          "exception": false,
          "start_time": "2022-06-22T21:08:34.383888",
          "status": "completed"
        },
        "tags": [],
        "colab": {
          "base_uri": "https://localhost:8080/",
          "height": 300
        }
      },
      "outputs": [
        {
          "output_type": "execute_result",
          "data": {
            "text/plain": [
              "               Renda         Idade  Anos de Estudo        Altura\n",
              "count   76840.000000  76840.000000    76840.000000  76840.000000\n",
              "mean     2000.383199     44.071421        9.469664      1.699512\n",
              "std      3323.387730     12.480583        4.539929      0.079717\n",
              "min         0.000000     13.000000        1.000000      1.339245\n",
              "25%       788.000000     34.000000        6.000000      1.645785\n",
              "50%      1200.000000     43.000000       11.000000      1.699325\n",
              "75%      2000.000000     53.000000       12.000000      1.753062\n",
              "max    200000.000000     99.000000       17.000000      2.028497"
            ],
            "text/html": [
              "\n",
              "  <div id=\"df-c95dd1e0-d5c5-469d-9353-20230a5d8303\">\n",
              "    <div class=\"colab-df-container\">\n",
              "      <div>\n",
              "<style scoped>\n",
              "    .dataframe tbody tr th:only-of-type {\n",
              "        vertical-align: middle;\n",
              "    }\n",
              "\n",
              "    .dataframe tbody tr th {\n",
              "        vertical-align: top;\n",
              "    }\n",
              "\n",
              "    .dataframe thead th {\n",
              "        text-align: right;\n",
              "    }\n",
              "</style>\n",
              "<table border=\"1\" class=\"dataframe\">\n",
              "  <thead>\n",
              "    <tr style=\"text-align: right;\">\n",
              "      <th></th>\n",
              "      <th>Renda</th>\n",
              "      <th>Idade</th>\n",
              "      <th>Anos de Estudo</th>\n",
              "      <th>Altura</th>\n",
              "    </tr>\n",
              "  </thead>\n",
              "  <tbody>\n",
              "    <tr>\n",
              "      <th>count</th>\n",
              "      <td>76840.000000</td>\n",
              "      <td>76840.000000</td>\n",
              "      <td>76840.000000</td>\n",
              "      <td>76840.000000</td>\n",
              "    </tr>\n",
              "    <tr>\n",
              "      <th>mean</th>\n",
              "      <td>2000.383199</td>\n",
              "      <td>44.071421</td>\n",
              "      <td>9.469664</td>\n",
              "      <td>1.699512</td>\n",
              "    </tr>\n",
              "    <tr>\n",
              "      <th>std</th>\n",
              "      <td>3323.387730</td>\n",
              "      <td>12.480583</td>\n",
              "      <td>4.539929</td>\n",
              "      <td>0.079717</td>\n",
              "    </tr>\n",
              "    <tr>\n",
              "      <th>min</th>\n",
              "      <td>0.000000</td>\n",
              "      <td>13.000000</td>\n",
              "      <td>1.000000</td>\n",
              "      <td>1.339245</td>\n",
              "    </tr>\n",
              "    <tr>\n",
              "      <th>25%</th>\n",
              "      <td>788.000000</td>\n",
              "      <td>34.000000</td>\n",
              "      <td>6.000000</td>\n",
              "      <td>1.645785</td>\n",
              "    </tr>\n",
              "    <tr>\n",
              "      <th>50%</th>\n",
              "      <td>1200.000000</td>\n",
              "      <td>43.000000</td>\n",
              "      <td>11.000000</td>\n",
              "      <td>1.699325</td>\n",
              "    </tr>\n",
              "    <tr>\n",
              "      <th>75%</th>\n",
              "      <td>2000.000000</td>\n",
              "      <td>53.000000</td>\n",
              "      <td>12.000000</td>\n",
              "      <td>1.753062</td>\n",
              "    </tr>\n",
              "    <tr>\n",
              "      <th>max</th>\n",
              "      <td>200000.000000</td>\n",
              "      <td>99.000000</td>\n",
              "      <td>17.000000</td>\n",
              "      <td>2.028497</td>\n",
              "    </tr>\n",
              "  </tbody>\n",
              "</table>\n",
              "</div>\n",
              "      <button class=\"colab-df-convert\" onclick=\"convertToInteractive('df-c95dd1e0-d5c5-469d-9353-20230a5d8303')\"\n",
              "              title=\"Convert this dataframe to an interactive table.\"\n",
              "              style=\"display:none;\">\n",
              "        \n",
              "  <svg xmlns=\"http://www.w3.org/2000/svg\" height=\"24px\"viewBox=\"0 0 24 24\"\n",
              "       width=\"24px\">\n",
              "    <path d=\"M0 0h24v24H0V0z\" fill=\"none\"/>\n",
              "    <path d=\"M18.56 5.44l.94 2.06.94-2.06 2.06-.94-2.06-.94-.94-2.06-.94 2.06-2.06.94zm-11 1L8.5 8.5l.94-2.06 2.06-.94-2.06-.94L8.5 2.5l-.94 2.06-2.06.94zm10 10l.94 2.06.94-2.06 2.06-.94-2.06-.94-.94-2.06-.94 2.06-2.06.94z\"/><path d=\"M17.41 7.96l-1.37-1.37c-.4-.4-.92-.59-1.43-.59-.52 0-1.04.2-1.43.59L10.3 9.45l-7.72 7.72c-.78.78-.78 2.05 0 2.83L4 21.41c.39.39.9.59 1.41.59.51 0 1.02-.2 1.41-.59l7.78-7.78 2.81-2.81c.8-.78.8-2.07 0-2.86zM5.41 20L4 18.59l7.72-7.72 1.47 1.35L5.41 20z\"/>\n",
              "  </svg>\n",
              "      </button>\n",
              "      \n",
              "  <style>\n",
              "    .colab-df-container {\n",
              "      display:flex;\n",
              "      flex-wrap:wrap;\n",
              "      gap: 12px;\n",
              "    }\n",
              "\n",
              "    .colab-df-convert {\n",
              "      background-color: #E8F0FE;\n",
              "      border: none;\n",
              "      border-radius: 50%;\n",
              "      cursor: pointer;\n",
              "      display: none;\n",
              "      fill: #1967D2;\n",
              "      height: 32px;\n",
              "      padding: 0 0 0 0;\n",
              "      width: 32px;\n",
              "    }\n",
              "\n",
              "    .colab-df-convert:hover {\n",
              "      background-color: #E2EBFA;\n",
              "      box-shadow: 0px 1px 2px rgba(60, 64, 67, 0.3), 0px 1px 3px 1px rgba(60, 64, 67, 0.15);\n",
              "      fill: #174EA6;\n",
              "    }\n",
              "\n",
              "    [theme=dark] .colab-df-convert {\n",
              "      background-color: #3B4455;\n",
              "      fill: #D2E3FC;\n",
              "    }\n",
              "\n",
              "    [theme=dark] .colab-df-convert:hover {\n",
              "      background-color: #434B5C;\n",
              "      box-shadow: 0px 1px 3px 1px rgba(0, 0, 0, 0.15);\n",
              "      filter: drop-shadow(0px 1px 2px rgba(0, 0, 0, 0.3));\n",
              "      fill: #FFFFFF;\n",
              "    }\n",
              "  </style>\n",
              "\n",
              "      <script>\n",
              "        const buttonEl =\n",
              "          document.querySelector('#df-c95dd1e0-d5c5-469d-9353-20230a5d8303 button.colab-df-convert');\n",
              "        buttonEl.style.display =\n",
              "          google.colab.kernel.accessAllowed ? 'block' : 'none';\n",
              "\n",
              "        async function convertToInteractive(key) {\n",
              "          const element = document.querySelector('#df-c95dd1e0-d5c5-469d-9353-20230a5d8303');\n",
              "          const dataTable =\n",
              "            await google.colab.kernel.invokeFunction('convertToInteractive',\n",
              "                                                     [key], {});\n",
              "          if (!dataTable) return;\n",
              "\n",
              "          const docLinkHtml = 'Like what you see? Visit the ' +\n",
              "            '<a target=\"_blank\" href=https://colab.research.google.com/notebooks/data_table.ipynb>data table notebook</a>'\n",
              "            + ' to learn more about interactive tables.';\n",
              "          element.innerHTML = '';\n",
              "          dataTable['output_type'] = 'display_data';\n",
              "          await google.colab.output.renderOutput(dataTable, element);\n",
              "          const docLink = document.createElement('div');\n",
              "          docLink.innerHTML = docLinkHtml;\n",
              "          element.appendChild(docLink);\n",
              "        }\n",
              "      </script>\n",
              "    </div>\n",
              "  </div>\n",
              "  "
            ]
          },
          "metadata": {},
          "execution_count": 38
        }
      ],
      "source": [
        "# Lista de funções de agregação\n",
        "'''\n",
        "mean: Média da coluna\n",
        "sum: Soma da coluna\n",
        "nunique: Quantidade de valores distinctos da coluna\n",
        "std: Desvio Padrão da coluna\n",
        "var: Variância da coluna\n",
        "min: O menor valor da coluna\n",
        "max: O maior valor da coluna\n",
        "describe: Gera uma lista de estatísticas das colunas\n",
        "'''\n",
        "\n",
        "# Faça você mesmo:\n",
        "\n",
        "pessoas[['Renda','Idade','Anos de Estudo','Altura']].agg('describe')"
      ]
    },
    {
      "cell_type": "markdown",
      "id": "6aa5c485",
      "metadata": {
        "id": "6aa5c485",
        "papermill": {
          "duration": 0.015313,
          "end_time": "2022-06-22T21:08:34.469004",
          "exception": false,
          "start_time": "2022-06-22T21:08:34.453691",
          "status": "completed"
        },
        "tags": []
      },
      "source": [
        "### **GROUPBY & AGG**\n",
        "\n",
        "Utilizamos o groupby para agrupar o nosso dataframe baseado em algum valor, neste caso com a intenção de aplicar funções para cada categoria desse valor selectionado, por exemplo:"
      ]
    },
    {
      "cell_type": "code",
      "execution_count": 39,
      "id": "e2037f0b",
      "metadata": {
        "execution": {
          "iopub.execute_input": "2022-06-22T21:08:34.502088Z",
          "iopub.status.busy": "2022-06-22T21:08:34.501741Z",
          "iopub.status.idle": "2022-06-22T21:08:34.513428Z",
          "shell.execute_reply": "2022-06-22T21:08:34.512463Z"
        },
        "id": "e2037f0b",
        "outputId": "41e2c741-3a99-4e04-c4de-0cf911bf1baf",
        "papermill": {
          "duration": 0.030635,
          "end_time": "2022-06-22T21:08:34.515394",
          "exception": false,
          "start_time": "2022-06-22T21:08:34.484759",
          "status": "completed"
        },
        "tags": [],
        "colab": {
          "base_uri": "https://localhost:8080/",
          "height": 206
        }
      },
      "outputs": [
        {
          "output_type": "execute_result",
          "data": {
            "text/plain": [
              "   UF_CODE        UF    UF_alt       Sexo  Idade  Anos de Estudo  Renda  \\\n",
              "0       11  Rondônia  Rondonia  Masculino     23              12    800   \n",
              "1       11  Rondônia  Rondonia   Feminino     23              12   1150   \n",
              "2       11  Rondônia  Rondonia   Feminino     35              15    880   \n",
              "3       11  Rondônia  Rondonia  Masculino     46               6   3500   \n",
              "4       11  Rondônia  Rondonia   Feminino     47               9    150   \n",
              "\n",
              "     Altura  \n",
              "0  1.603808  \n",
              "1  1.739790  \n",
              "2  1.760444  \n",
              "3  1.783158  \n",
              "4  1.690631  "
            ],
            "text/html": [
              "\n",
              "  <div id=\"df-bae255c1-e2c2-4259-ae94-a283edc5231d\">\n",
              "    <div class=\"colab-df-container\">\n",
              "      <div>\n",
              "<style scoped>\n",
              "    .dataframe tbody tr th:only-of-type {\n",
              "        vertical-align: middle;\n",
              "    }\n",
              "\n",
              "    .dataframe tbody tr th {\n",
              "        vertical-align: top;\n",
              "    }\n",
              "\n",
              "    .dataframe thead th {\n",
              "        text-align: right;\n",
              "    }\n",
              "</style>\n",
              "<table border=\"1\" class=\"dataframe\">\n",
              "  <thead>\n",
              "    <tr style=\"text-align: right;\">\n",
              "      <th></th>\n",
              "      <th>UF_CODE</th>\n",
              "      <th>UF</th>\n",
              "      <th>UF_alt</th>\n",
              "      <th>Sexo</th>\n",
              "      <th>Idade</th>\n",
              "      <th>Anos de Estudo</th>\n",
              "      <th>Renda</th>\n",
              "      <th>Altura</th>\n",
              "    </tr>\n",
              "  </thead>\n",
              "  <tbody>\n",
              "    <tr>\n",
              "      <th>0</th>\n",
              "      <td>11</td>\n",
              "      <td>Rondônia</td>\n",
              "      <td>Rondonia</td>\n",
              "      <td>Masculino</td>\n",
              "      <td>23</td>\n",
              "      <td>12</td>\n",
              "      <td>800</td>\n",
              "      <td>1.603808</td>\n",
              "    </tr>\n",
              "    <tr>\n",
              "      <th>1</th>\n",
              "      <td>11</td>\n",
              "      <td>Rondônia</td>\n",
              "      <td>Rondonia</td>\n",
              "      <td>Feminino</td>\n",
              "      <td>23</td>\n",
              "      <td>12</td>\n",
              "      <td>1150</td>\n",
              "      <td>1.739790</td>\n",
              "    </tr>\n",
              "    <tr>\n",
              "      <th>2</th>\n",
              "      <td>11</td>\n",
              "      <td>Rondônia</td>\n",
              "      <td>Rondonia</td>\n",
              "      <td>Feminino</td>\n",
              "      <td>35</td>\n",
              "      <td>15</td>\n",
              "      <td>880</td>\n",
              "      <td>1.760444</td>\n",
              "    </tr>\n",
              "    <tr>\n",
              "      <th>3</th>\n",
              "      <td>11</td>\n",
              "      <td>Rondônia</td>\n",
              "      <td>Rondonia</td>\n",
              "      <td>Masculino</td>\n",
              "      <td>46</td>\n",
              "      <td>6</td>\n",
              "      <td>3500</td>\n",
              "      <td>1.783158</td>\n",
              "    </tr>\n",
              "    <tr>\n",
              "      <th>4</th>\n",
              "      <td>11</td>\n",
              "      <td>Rondônia</td>\n",
              "      <td>Rondonia</td>\n",
              "      <td>Feminino</td>\n",
              "      <td>47</td>\n",
              "      <td>9</td>\n",
              "      <td>150</td>\n",
              "      <td>1.690631</td>\n",
              "    </tr>\n",
              "  </tbody>\n",
              "</table>\n",
              "</div>\n",
              "      <button class=\"colab-df-convert\" onclick=\"convertToInteractive('df-bae255c1-e2c2-4259-ae94-a283edc5231d')\"\n",
              "              title=\"Convert this dataframe to an interactive table.\"\n",
              "              style=\"display:none;\">\n",
              "        \n",
              "  <svg xmlns=\"http://www.w3.org/2000/svg\" height=\"24px\"viewBox=\"0 0 24 24\"\n",
              "       width=\"24px\">\n",
              "    <path d=\"M0 0h24v24H0V0z\" fill=\"none\"/>\n",
              "    <path d=\"M18.56 5.44l.94 2.06.94-2.06 2.06-.94-2.06-.94-.94-2.06-.94 2.06-2.06.94zm-11 1L8.5 8.5l.94-2.06 2.06-.94-2.06-.94L8.5 2.5l-.94 2.06-2.06.94zm10 10l.94 2.06.94-2.06 2.06-.94-2.06-.94-.94-2.06-.94 2.06-2.06.94z\"/><path d=\"M17.41 7.96l-1.37-1.37c-.4-.4-.92-.59-1.43-.59-.52 0-1.04.2-1.43.59L10.3 9.45l-7.72 7.72c-.78.78-.78 2.05 0 2.83L4 21.41c.39.39.9.59 1.41.59.51 0 1.02-.2 1.41-.59l7.78-7.78 2.81-2.81c.8-.78.8-2.07 0-2.86zM5.41 20L4 18.59l7.72-7.72 1.47 1.35L5.41 20z\"/>\n",
              "  </svg>\n",
              "      </button>\n",
              "      \n",
              "  <style>\n",
              "    .colab-df-container {\n",
              "      display:flex;\n",
              "      flex-wrap:wrap;\n",
              "      gap: 12px;\n",
              "    }\n",
              "\n",
              "    .colab-df-convert {\n",
              "      background-color: #E8F0FE;\n",
              "      border: none;\n",
              "      border-radius: 50%;\n",
              "      cursor: pointer;\n",
              "      display: none;\n",
              "      fill: #1967D2;\n",
              "      height: 32px;\n",
              "      padding: 0 0 0 0;\n",
              "      width: 32px;\n",
              "    }\n",
              "\n",
              "    .colab-df-convert:hover {\n",
              "      background-color: #E2EBFA;\n",
              "      box-shadow: 0px 1px 2px rgba(60, 64, 67, 0.3), 0px 1px 3px 1px rgba(60, 64, 67, 0.15);\n",
              "      fill: #174EA6;\n",
              "    }\n",
              "\n",
              "    [theme=dark] .colab-df-convert {\n",
              "      background-color: #3B4455;\n",
              "      fill: #D2E3FC;\n",
              "    }\n",
              "\n",
              "    [theme=dark] .colab-df-convert:hover {\n",
              "      background-color: #434B5C;\n",
              "      box-shadow: 0px 1px 3px 1px rgba(0, 0, 0, 0.15);\n",
              "      filter: drop-shadow(0px 1px 2px rgba(0, 0, 0, 0.3));\n",
              "      fill: #FFFFFF;\n",
              "    }\n",
              "  </style>\n",
              "\n",
              "      <script>\n",
              "        const buttonEl =\n",
              "          document.querySelector('#df-bae255c1-e2c2-4259-ae94-a283edc5231d button.colab-df-convert');\n",
              "        buttonEl.style.display =\n",
              "          google.colab.kernel.accessAllowed ? 'block' : 'none';\n",
              "\n",
              "        async function convertToInteractive(key) {\n",
              "          const element = document.querySelector('#df-bae255c1-e2c2-4259-ae94-a283edc5231d');\n",
              "          const dataTable =\n",
              "            await google.colab.kernel.invokeFunction('convertToInteractive',\n",
              "                                                     [key], {});\n",
              "          if (!dataTable) return;\n",
              "\n",
              "          const docLinkHtml = 'Like what you see? Visit the ' +\n",
              "            '<a target=\"_blank\" href=https://colab.research.google.com/notebooks/data_table.ipynb>data table notebook</a>'\n",
              "            + ' to learn more about interactive tables.';\n",
              "          element.innerHTML = '';\n",
              "          dataTable['output_type'] = 'display_data';\n",
              "          await google.colab.output.renderOutput(dataTable, element);\n",
              "          const docLink = document.createElement('div');\n",
              "          docLink.innerHTML = docLinkHtml;\n",
              "          element.appendChild(docLink);\n",
              "        }\n",
              "      </script>\n",
              "    </div>\n",
              "  </div>\n",
              "  "
            ]
          },
          "metadata": {},
          "execution_count": 39
        }
      ],
      "source": [
        "pessoas.head()"
      ]
    },
    {
      "cell_type": "code",
      "execution_count": 40,
      "id": "afcee2e6",
      "metadata": {
        "execution": {
          "iopub.execute_input": "2022-06-22T21:08:34.549185Z",
          "iopub.status.busy": "2022-06-22T21:08:34.548797Z",
          "iopub.status.idle": "2022-06-22T21:08:34.571562Z",
          "shell.execute_reply": "2022-06-22T21:08:34.570839Z"
        },
        "id": "afcee2e6",
        "papermill": {
          "duration": 0.041815,
          "end_time": "2022-06-22T21:08:34.573503",
          "exception": false,
          "start_time": "2022-06-22T21:08:34.531688",
          "status": "completed"
        },
        "tags": [],
        "colab": {
          "base_uri": "https://localhost:8080/",
          "height": 927
        },
        "outputId": "a0d5b49e-b1b8-463e-ff65-7b0ae7bd6078"
      },
      "outputs": [
        {
          "output_type": "execute_result",
          "data": {
            "text/plain": [
              "                        Renda\n",
              "UF                           \n",
              "Acre                  1411208\n",
              "Alagoas               1033531\n",
              "Amapá                  953013\n",
              "Amazonas              3187957\n",
              "Bahia                 8173281\n",
              "Ceará                 4216901\n",
              "Distrito Federal      8712975\n",
              "Espírito Santo        3061866\n",
              "Goiás                 6937152\n",
              "Maranhão              1821725\n",
              "Mato Grosso           3835175\n",
              "Mato Grosso do Sul    3258150\n",
              "Minas Gerais         15805737\n",
              "Paraná               10863301\n",
              "Paraíba               1647754\n",
              "Pará                  6224493\n",
              "Pernambuco            5833443\n",
              "Piauí                 1301281\n",
              "Rio Grande do Norte   1308414\n",
              "Rio Grande do Sul    14636431\n",
              "Rio de Janeiro       13870016\n",
              "Rondônia              2750863\n",
              "Roraima                963138\n",
              "Santa Catarina        5621195\n",
              "Sergipe               1427426\n",
              "São Paulo            22539969\n",
              "Tocantins             2313050"
            ],
            "text/html": [
              "\n",
              "  <div id=\"df-bfdf1e9a-5df9-448f-946d-4b19ba2224a1\">\n",
              "    <div class=\"colab-df-container\">\n",
              "      <div>\n",
              "<style scoped>\n",
              "    .dataframe tbody tr th:only-of-type {\n",
              "        vertical-align: middle;\n",
              "    }\n",
              "\n",
              "    .dataframe tbody tr th {\n",
              "        vertical-align: top;\n",
              "    }\n",
              "\n",
              "    .dataframe thead th {\n",
              "        text-align: right;\n",
              "    }\n",
              "</style>\n",
              "<table border=\"1\" class=\"dataframe\">\n",
              "  <thead>\n",
              "    <tr style=\"text-align: right;\">\n",
              "      <th></th>\n",
              "      <th>Renda</th>\n",
              "    </tr>\n",
              "    <tr>\n",
              "      <th>UF</th>\n",
              "      <th></th>\n",
              "    </tr>\n",
              "  </thead>\n",
              "  <tbody>\n",
              "    <tr>\n",
              "      <th>Acre</th>\n",
              "      <td>1411208</td>\n",
              "    </tr>\n",
              "    <tr>\n",
              "      <th>Alagoas</th>\n",
              "      <td>1033531</td>\n",
              "    </tr>\n",
              "    <tr>\n",
              "      <th>Amapá</th>\n",
              "      <td>953013</td>\n",
              "    </tr>\n",
              "    <tr>\n",
              "      <th>Amazonas</th>\n",
              "      <td>3187957</td>\n",
              "    </tr>\n",
              "    <tr>\n",
              "      <th>Bahia</th>\n",
              "      <td>8173281</td>\n",
              "    </tr>\n",
              "    <tr>\n",
              "      <th>Ceará</th>\n",
              "      <td>4216901</td>\n",
              "    </tr>\n",
              "    <tr>\n",
              "      <th>Distrito Federal</th>\n",
              "      <td>8712975</td>\n",
              "    </tr>\n",
              "    <tr>\n",
              "      <th>Espírito Santo</th>\n",
              "      <td>3061866</td>\n",
              "    </tr>\n",
              "    <tr>\n",
              "      <th>Goiás</th>\n",
              "      <td>6937152</td>\n",
              "    </tr>\n",
              "    <tr>\n",
              "      <th>Maranhão</th>\n",
              "      <td>1821725</td>\n",
              "    </tr>\n",
              "    <tr>\n",
              "      <th>Mato Grosso</th>\n",
              "      <td>3835175</td>\n",
              "    </tr>\n",
              "    <tr>\n",
              "      <th>Mato Grosso do Sul</th>\n",
              "      <td>3258150</td>\n",
              "    </tr>\n",
              "    <tr>\n",
              "      <th>Minas Gerais</th>\n",
              "      <td>15805737</td>\n",
              "    </tr>\n",
              "    <tr>\n",
              "      <th>Paraná</th>\n",
              "      <td>10863301</td>\n",
              "    </tr>\n",
              "    <tr>\n",
              "      <th>Paraíba</th>\n",
              "      <td>1647754</td>\n",
              "    </tr>\n",
              "    <tr>\n",
              "      <th>Pará</th>\n",
              "      <td>6224493</td>\n",
              "    </tr>\n",
              "    <tr>\n",
              "      <th>Pernambuco</th>\n",
              "      <td>5833443</td>\n",
              "    </tr>\n",
              "    <tr>\n",
              "      <th>Piauí</th>\n",
              "      <td>1301281</td>\n",
              "    </tr>\n",
              "    <tr>\n",
              "      <th>Rio Grande do Norte</th>\n",
              "      <td>1308414</td>\n",
              "    </tr>\n",
              "    <tr>\n",
              "      <th>Rio Grande do Sul</th>\n",
              "      <td>14636431</td>\n",
              "    </tr>\n",
              "    <tr>\n",
              "      <th>Rio de Janeiro</th>\n",
              "      <td>13870016</td>\n",
              "    </tr>\n",
              "    <tr>\n",
              "      <th>Rondônia</th>\n",
              "      <td>2750863</td>\n",
              "    </tr>\n",
              "    <tr>\n",
              "      <th>Roraima</th>\n",
              "      <td>963138</td>\n",
              "    </tr>\n",
              "    <tr>\n",
              "      <th>Santa Catarina</th>\n",
              "      <td>5621195</td>\n",
              "    </tr>\n",
              "    <tr>\n",
              "      <th>Sergipe</th>\n",
              "      <td>1427426</td>\n",
              "    </tr>\n",
              "    <tr>\n",
              "      <th>São Paulo</th>\n",
              "      <td>22539969</td>\n",
              "    </tr>\n",
              "    <tr>\n",
              "      <th>Tocantins</th>\n",
              "      <td>2313050</td>\n",
              "    </tr>\n",
              "  </tbody>\n",
              "</table>\n",
              "</div>\n",
              "      <button class=\"colab-df-convert\" onclick=\"convertToInteractive('df-bfdf1e9a-5df9-448f-946d-4b19ba2224a1')\"\n",
              "              title=\"Convert this dataframe to an interactive table.\"\n",
              "              style=\"display:none;\">\n",
              "        \n",
              "  <svg xmlns=\"http://www.w3.org/2000/svg\" height=\"24px\"viewBox=\"0 0 24 24\"\n",
              "       width=\"24px\">\n",
              "    <path d=\"M0 0h24v24H0V0z\" fill=\"none\"/>\n",
              "    <path d=\"M18.56 5.44l.94 2.06.94-2.06 2.06-.94-2.06-.94-.94-2.06-.94 2.06-2.06.94zm-11 1L8.5 8.5l.94-2.06 2.06-.94-2.06-.94L8.5 2.5l-.94 2.06-2.06.94zm10 10l.94 2.06.94-2.06 2.06-.94-2.06-.94-.94-2.06-.94 2.06-2.06.94z\"/><path d=\"M17.41 7.96l-1.37-1.37c-.4-.4-.92-.59-1.43-.59-.52 0-1.04.2-1.43.59L10.3 9.45l-7.72 7.72c-.78.78-.78 2.05 0 2.83L4 21.41c.39.39.9.59 1.41.59.51 0 1.02-.2 1.41-.59l7.78-7.78 2.81-2.81c.8-.78.8-2.07 0-2.86zM5.41 20L4 18.59l7.72-7.72 1.47 1.35L5.41 20z\"/>\n",
              "  </svg>\n",
              "      </button>\n",
              "      \n",
              "  <style>\n",
              "    .colab-df-container {\n",
              "      display:flex;\n",
              "      flex-wrap:wrap;\n",
              "      gap: 12px;\n",
              "    }\n",
              "\n",
              "    .colab-df-convert {\n",
              "      background-color: #E8F0FE;\n",
              "      border: none;\n",
              "      border-radius: 50%;\n",
              "      cursor: pointer;\n",
              "      display: none;\n",
              "      fill: #1967D2;\n",
              "      height: 32px;\n",
              "      padding: 0 0 0 0;\n",
              "      width: 32px;\n",
              "    }\n",
              "\n",
              "    .colab-df-convert:hover {\n",
              "      background-color: #E2EBFA;\n",
              "      box-shadow: 0px 1px 2px rgba(60, 64, 67, 0.3), 0px 1px 3px 1px rgba(60, 64, 67, 0.15);\n",
              "      fill: #174EA6;\n",
              "    }\n",
              "\n",
              "    [theme=dark] .colab-df-convert {\n",
              "      background-color: #3B4455;\n",
              "      fill: #D2E3FC;\n",
              "    }\n",
              "\n",
              "    [theme=dark] .colab-df-convert:hover {\n",
              "      background-color: #434B5C;\n",
              "      box-shadow: 0px 1px 3px 1px rgba(0, 0, 0, 0.15);\n",
              "      filter: drop-shadow(0px 1px 2px rgba(0, 0, 0, 0.3));\n",
              "      fill: #FFFFFF;\n",
              "    }\n",
              "  </style>\n",
              "\n",
              "      <script>\n",
              "        const buttonEl =\n",
              "          document.querySelector('#df-bfdf1e9a-5df9-448f-946d-4b19ba2224a1 button.colab-df-convert');\n",
              "        buttonEl.style.display =\n",
              "          google.colab.kernel.accessAllowed ? 'block' : 'none';\n",
              "\n",
              "        async function convertToInteractive(key) {\n",
              "          const element = document.querySelector('#df-bfdf1e9a-5df9-448f-946d-4b19ba2224a1');\n",
              "          const dataTable =\n",
              "            await google.colab.kernel.invokeFunction('convertToInteractive',\n",
              "                                                     [key], {});\n",
              "          if (!dataTable) return;\n",
              "\n",
              "          const docLinkHtml = 'Like what you see? Visit the ' +\n",
              "            '<a target=\"_blank\" href=https://colab.research.google.com/notebooks/data_table.ipynb>data table notebook</a>'\n",
              "            + ' to learn more about interactive tables.';\n",
              "          element.innerHTML = '';\n",
              "          dataTable['output_type'] = 'display_data';\n",
              "          await google.colab.output.renderOutput(dataTable, element);\n",
              "          const docLink = document.createElement('div');\n",
              "          docLink.innerHTML = docLinkHtml;\n",
              "          element.appendChild(docLink);\n",
              "        }\n",
              "      </script>\n",
              "    </div>\n",
              "  </div>\n",
              "  "
            ]
          },
          "metadata": {},
          "execution_count": 40
        }
      ],
      "source": [
        "# Encontre a soma total de renda por UF\n",
        "pessoas[['UF','Renda']].groupby('UF').agg('sum')\n"
      ]
    },
    {
      "cell_type": "code",
      "execution_count": 41,
      "id": "96dddd9f",
      "metadata": {
        "execution": {
          "iopub.execute_input": "2022-06-22T21:08:34.607832Z",
          "iopub.status.busy": "2022-06-22T21:08:34.607172Z",
          "iopub.status.idle": "2022-06-22T21:08:34.625465Z",
          "shell.execute_reply": "2022-06-22T21:08:34.624762Z"
        },
        "id": "96dddd9f",
        "outputId": "c3e756e7-4a3d-4022-cdf2-c54e7df51a5c",
        "papermill": {
          "duration": 0.037818,
          "end_time": "2022-06-22T21:08:34.627381",
          "exception": false,
          "start_time": "2022-06-22T21:08:34.589563",
          "status": "completed"
        },
        "tags": [],
        "colab": {
          "base_uri": "https://localhost:8080/",
          "height": 238
        }
      },
      "outputs": [
        {
          "output_type": "execute_result",
          "data": {
            "text/plain": [
              "                      Renda\n",
              "UF                         \n",
              "São Paulo          22539969\n",
              "Minas Gerais       15805737\n",
              "Rio Grande do Sul  14636431\n",
              "Rio de Janeiro     13870016\n",
              "Paraná             10863301"
            ],
            "text/html": [
              "\n",
              "  <div id=\"df-9a2cf8ad-6409-4d72-a40c-b630185ab272\">\n",
              "    <div class=\"colab-df-container\">\n",
              "      <div>\n",
              "<style scoped>\n",
              "    .dataframe tbody tr th:only-of-type {\n",
              "        vertical-align: middle;\n",
              "    }\n",
              "\n",
              "    .dataframe tbody tr th {\n",
              "        vertical-align: top;\n",
              "    }\n",
              "\n",
              "    .dataframe thead th {\n",
              "        text-align: right;\n",
              "    }\n",
              "</style>\n",
              "<table border=\"1\" class=\"dataframe\">\n",
              "  <thead>\n",
              "    <tr style=\"text-align: right;\">\n",
              "      <th></th>\n",
              "      <th>Renda</th>\n",
              "    </tr>\n",
              "    <tr>\n",
              "      <th>UF</th>\n",
              "      <th></th>\n",
              "    </tr>\n",
              "  </thead>\n",
              "  <tbody>\n",
              "    <tr>\n",
              "      <th>São Paulo</th>\n",
              "      <td>22539969</td>\n",
              "    </tr>\n",
              "    <tr>\n",
              "      <th>Minas Gerais</th>\n",
              "      <td>15805737</td>\n",
              "    </tr>\n",
              "    <tr>\n",
              "      <th>Rio Grande do Sul</th>\n",
              "      <td>14636431</td>\n",
              "    </tr>\n",
              "    <tr>\n",
              "      <th>Rio de Janeiro</th>\n",
              "      <td>13870016</td>\n",
              "    </tr>\n",
              "    <tr>\n",
              "      <th>Paraná</th>\n",
              "      <td>10863301</td>\n",
              "    </tr>\n",
              "  </tbody>\n",
              "</table>\n",
              "</div>\n",
              "      <button class=\"colab-df-convert\" onclick=\"convertToInteractive('df-9a2cf8ad-6409-4d72-a40c-b630185ab272')\"\n",
              "              title=\"Convert this dataframe to an interactive table.\"\n",
              "              style=\"display:none;\">\n",
              "        \n",
              "  <svg xmlns=\"http://www.w3.org/2000/svg\" height=\"24px\"viewBox=\"0 0 24 24\"\n",
              "       width=\"24px\">\n",
              "    <path d=\"M0 0h24v24H0V0z\" fill=\"none\"/>\n",
              "    <path d=\"M18.56 5.44l.94 2.06.94-2.06 2.06-.94-2.06-.94-.94-2.06-.94 2.06-2.06.94zm-11 1L8.5 8.5l.94-2.06 2.06-.94-2.06-.94L8.5 2.5l-.94 2.06-2.06.94zm10 10l.94 2.06.94-2.06 2.06-.94-2.06-.94-.94-2.06-.94 2.06-2.06.94z\"/><path d=\"M17.41 7.96l-1.37-1.37c-.4-.4-.92-.59-1.43-.59-.52 0-1.04.2-1.43.59L10.3 9.45l-7.72 7.72c-.78.78-.78 2.05 0 2.83L4 21.41c.39.39.9.59 1.41.59.51 0 1.02-.2 1.41-.59l7.78-7.78 2.81-2.81c.8-.78.8-2.07 0-2.86zM5.41 20L4 18.59l7.72-7.72 1.47 1.35L5.41 20z\"/>\n",
              "  </svg>\n",
              "      </button>\n",
              "      \n",
              "  <style>\n",
              "    .colab-df-container {\n",
              "      display:flex;\n",
              "      flex-wrap:wrap;\n",
              "      gap: 12px;\n",
              "    }\n",
              "\n",
              "    .colab-df-convert {\n",
              "      background-color: #E8F0FE;\n",
              "      border: none;\n",
              "      border-radius: 50%;\n",
              "      cursor: pointer;\n",
              "      display: none;\n",
              "      fill: #1967D2;\n",
              "      height: 32px;\n",
              "      padding: 0 0 0 0;\n",
              "      width: 32px;\n",
              "    }\n",
              "\n",
              "    .colab-df-convert:hover {\n",
              "      background-color: #E2EBFA;\n",
              "      box-shadow: 0px 1px 2px rgba(60, 64, 67, 0.3), 0px 1px 3px 1px rgba(60, 64, 67, 0.15);\n",
              "      fill: #174EA6;\n",
              "    }\n",
              "\n",
              "    [theme=dark] .colab-df-convert {\n",
              "      background-color: #3B4455;\n",
              "      fill: #D2E3FC;\n",
              "    }\n",
              "\n",
              "    [theme=dark] .colab-df-convert:hover {\n",
              "      background-color: #434B5C;\n",
              "      box-shadow: 0px 1px 3px 1px rgba(0, 0, 0, 0.15);\n",
              "      filter: drop-shadow(0px 1px 2px rgba(0, 0, 0, 0.3));\n",
              "      fill: #FFFFFF;\n",
              "    }\n",
              "  </style>\n",
              "\n",
              "      <script>\n",
              "        const buttonEl =\n",
              "          document.querySelector('#df-9a2cf8ad-6409-4d72-a40c-b630185ab272 button.colab-df-convert');\n",
              "        buttonEl.style.display =\n",
              "          google.colab.kernel.accessAllowed ? 'block' : 'none';\n",
              "\n",
              "        async function convertToInteractive(key) {\n",
              "          const element = document.querySelector('#df-9a2cf8ad-6409-4d72-a40c-b630185ab272');\n",
              "          const dataTable =\n",
              "            await google.colab.kernel.invokeFunction('convertToInteractive',\n",
              "                                                     [key], {});\n",
              "          if (!dataTable) return;\n",
              "\n",
              "          const docLinkHtml = 'Like what you see? Visit the ' +\n",
              "            '<a target=\"_blank\" href=https://colab.research.google.com/notebooks/data_table.ipynb>data table notebook</a>'\n",
              "            + ' to learn more about interactive tables.';\n",
              "          element.innerHTML = '';\n",
              "          dataTable['output_type'] = 'display_data';\n",
              "          await google.colab.output.renderOutput(dataTable, element);\n",
              "          const docLink = document.createElement('div');\n",
              "          docLink.innerHTML = docLinkHtml;\n",
              "          element.appendChild(docLink);\n",
              "        }\n",
              "      </script>\n",
              "    </div>\n",
              "  </div>\n",
              "  "
            ]
          },
          "metadata": {},
          "execution_count": 41
        }
      ],
      "source": [
        "# Encontre os 5 UF com maior total de renda\n",
        "pessoas[['UF','Renda']].groupby('UF').agg('sum').sort_values(by='Renda', ascending=False).head(5)"
      ]
    },
    {
      "cell_type": "code",
      "execution_count": 42,
      "id": "c1eee018",
      "metadata": {
        "execution": {
          "iopub.execute_input": "2022-06-22T21:08:34.661692Z",
          "iopub.status.busy": "2022-06-22T21:08:34.661323Z",
          "iopub.status.idle": "2022-06-22T21:08:34.686497Z",
          "shell.execute_reply": "2022-06-22T21:08:34.685759Z"
        },
        "id": "c1eee018",
        "outputId": "4fc54951-28a6-4020-9ab0-cc08bf5b5dc3",
        "papermill": {
          "duration": 0.044568,
          "end_time": "2022-06-22T21:08:34.688443",
          "exception": false,
          "start_time": "2022-06-22T21:08:34.643875",
          "status": "completed"
        },
        "tags": [],
        "colab": {
          "base_uri": "https://localhost:8080/",
          "height": 269
        }
      },
      "outputs": [
        {
          "output_type": "execute_result",
          "data": {
            "text/plain": [
              "                Renda             \n",
              "                 mean          std\n",
              "UF                                \n",
              "Acre      1506.091782  2276.233415\n",
              "Alagoas   1144.552602  1237.856197\n",
              "Amapá     1861.353516  2020.688632\n",
              "Amazonas  1445.130100  1757.935591\n",
              "Bahia     1429.645094  3507.917248"
            ],
            "text/html": [
              "\n",
              "  <div id=\"df-33991db7-9d36-40a3-be36-a00d23793446\">\n",
              "    <div class=\"colab-df-container\">\n",
              "      <div>\n",
              "<style scoped>\n",
              "    .dataframe tbody tr th:only-of-type {\n",
              "        vertical-align: middle;\n",
              "    }\n",
              "\n",
              "    .dataframe tbody tr th {\n",
              "        vertical-align: top;\n",
              "    }\n",
              "\n",
              "    .dataframe thead tr th {\n",
              "        text-align: left;\n",
              "    }\n",
              "\n",
              "    .dataframe thead tr:last-of-type th {\n",
              "        text-align: right;\n",
              "    }\n",
              "</style>\n",
              "<table border=\"1\" class=\"dataframe\">\n",
              "  <thead>\n",
              "    <tr>\n",
              "      <th></th>\n",
              "      <th colspan=\"2\" halign=\"left\">Renda</th>\n",
              "    </tr>\n",
              "    <tr>\n",
              "      <th></th>\n",
              "      <th>mean</th>\n",
              "      <th>std</th>\n",
              "    </tr>\n",
              "    <tr>\n",
              "      <th>UF</th>\n",
              "      <th></th>\n",
              "      <th></th>\n",
              "    </tr>\n",
              "  </thead>\n",
              "  <tbody>\n",
              "    <tr>\n",
              "      <th>Acre</th>\n",
              "      <td>1506.091782</td>\n",
              "      <td>2276.233415</td>\n",
              "    </tr>\n",
              "    <tr>\n",
              "      <th>Alagoas</th>\n",
              "      <td>1144.552602</td>\n",
              "      <td>1237.856197</td>\n",
              "    </tr>\n",
              "    <tr>\n",
              "      <th>Amapá</th>\n",
              "      <td>1861.353516</td>\n",
              "      <td>2020.688632</td>\n",
              "    </tr>\n",
              "    <tr>\n",
              "      <th>Amazonas</th>\n",
              "      <td>1445.130100</td>\n",
              "      <td>1757.935591</td>\n",
              "    </tr>\n",
              "    <tr>\n",
              "      <th>Bahia</th>\n",
              "      <td>1429.645094</td>\n",
              "      <td>3507.917248</td>\n",
              "    </tr>\n",
              "  </tbody>\n",
              "</table>\n",
              "</div>\n",
              "      <button class=\"colab-df-convert\" onclick=\"convertToInteractive('df-33991db7-9d36-40a3-be36-a00d23793446')\"\n",
              "              title=\"Convert this dataframe to an interactive table.\"\n",
              "              style=\"display:none;\">\n",
              "        \n",
              "  <svg xmlns=\"http://www.w3.org/2000/svg\" height=\"24px\"viewBox=\"0 0 24 24\"\n",
              "       width=\"24px\">\n",
              "    <path d=\"M0 0h24v24H0V0z\" fill=\"none\"/>\n",
              "    <path d=\"M18.56 5.44l.94 2.06.94-2.06 2.06-.94-2.06-.94-.94-2.06-.94 2.06-2.06.94zm-11 1L8.5 8.5l.94-2.06 2.06-.94-2.06-.94L8.5 2.5l-.94 2.06-2.06.94zm10 10l.94 2.06.94-2.06 2.06-.94-2.06-.94-.94-2.06-.94 2.06-2.06.94z\"/><path d=\"M17.41 7.96l-1.37-1.37c-.4-.4-.92-.59-1.43-.59-.52 0-1.04.2-1.43.59L10.3 9.45l-7.72 7.72c-.78.78-.78 2.05 0 2.83L4 21.41c.39.39.9.59 1.41.59.51 0 1.02-.2 1.41-.59l7.78-7.78 2.81-2.81c.8-.78.8-2.07 0-2.86zM5.41 20L4 18.59l7.72-7.72 1.47 1.35L5.41 20z\"/>\n",
              "  </svg>\n",
              "      </button>\n",
              "      \n",
              "  <style>\n",
              "    .colab-df-container {\n",
              "      display:flex;\n",
              "      flex-wrap:wrap;\n",
              "      gap: 12px;\n",
              "    }\n",
              "\n",
              "    .colab-df-convert {\n",
              "      background-color: #E8F0FE;\n",
              "      border: none;\n",
              "      border-radius: 50%;\n",
              "      cursor: pointer;\n",
              "      display: none;\n",
              "      fill: #1967D2;\n",
              "      height: 32px;\n",
              "      padding: 0 0 0 0;\n",
              "      width: 32px;\n",
              "    }\n",
              "\n",
              "    .colab-df-convert:hover {\n",
              "      background-color: #E2EBFA;\n",
              "      box-shadow: 0px 1px 2px rgba(60, 64, 67, 0.3), 0px 1px 3px 1px rgba(60, 64, 67, 0.15);\n",
              "      fill: #174EA6;\n",
              "    }\n",
              "\n",
              "    [theme=dark] .colab-df-convert {\n",
              "      background-color: #3B4455;\n",
              "      fill: #D2E3FC;\n",
              "    }\n",
              "\n",
              "    [theme=dark] .colab-df-convert:hover {\n",
              "      background-color: #434B5C;\n",
              "      box-shadow: 0px 1px 3px 1px rgba(0, 0, 0, 0.15);\n",
              "      filter: drop-shadow(0px 1px 2px rgba(0, 0, 0, 0.3));\n",
              "      fill: #FFFFFF;\n",
              "    }\n",
              "  </style>\n",
              "\n",
              "      <script>\n",
              "        const buttonEl =\n",
              "          document.querySelector('#df-33991db7-9d36-40a3-be36-a00d23793446 button.colab-df-convert');\n",
              "        buttonEl.style.display =\n",
              "          google.colab.kernel.accessAllowed ? 'block' : 'none';\n",
              "\n",
              "        async function convertToInteractive(key) {\n",
              "          const element = document.querySelector('#df-33991db7-9d36-40a3-be36-a00d23793446');\n",
              "          const dataTable =\n",
              "            await google.colab.kernel.invokeFunction('convertToInteractive',\n",
              "                                                     [key], {});\n",
              "          if (!dataTable) return;\n",
              "\n",
              "          const docLinkHtml = 'Like what you see? Visit the ' +\n",
              "            '<a target=\"_blank\" href=https://colab.research.google.com/notebooks/data_table.ipynb>data table notebook</a>'\n",
              "            + ' to learn more about interactive tables.';\n",
              "          element.innerHTML = '';\n",
              "          dataTable['output_type'] = 'display_data';\n",
              "          await google.colab.output.renderOutput(dataTable, element);\n",
              "          const docLink = document.createElement('div');\n",
              "          docLink.innerHTML = docLinkHtml;\n",
              "          element.appendChild(docLink);\n",
              "        }\n",
              "      </script>\n",
              "    </div>\n",
              "  </div>\n",
              "  "
            ]
          },
          "metadata": {},
          "execution_count": 42
        }
      ],
      "source": [
        "# Qual é a média e o desvio padrão da renda para cada UF?\n",
        "pessoas[['UF','Renda']].groupby('UF').agg(['mean','std']).head()"
      ]
    },
    {
      "cell_type": "code",
      "execution_count": 43,
      "id": "36d3e5ca",
      "metadata": {
        "execution": {
          "iopub.execute_input": "2022-06-22T21:08:34.723145Z",
          "iopub.status.busy": "2022-06-22T21:08:34.722479Z",
          "iopub.status.idle": "2022-06-22T21:08:34.747079Z",
          "shell.execute_reply": "2022-06-22T21:08:34.746047Z"
        },
        "id": "36d3e5ca",
        "outputId": "b159306f-8305-42b2-84a1-317f2571e7cf",
        "papermill": {
          "duration": 0.044511,
          "end_time": "2022-06-22T21:08:34.749493",
          "exception": false,
          "start_time": "2022-06-22T21:08:34.704982",
          "status": "completed"
        },
        "tags": [],
        "colab": {
          "base_uri": "https://localhost:8080/",
          "height": 269
        }
      },
      "outputs": [
        {
          "output_type": "execute_result",
          "data": {
            "text/plain": [
              "                        Renda             \n",
              "                         mean          std\n",
              "UF                                        \n",
              "Distrito Federal  4241.954722  5550.463338\n",
              "São Paulo         2638.104986  3503.777366\n",
              "Rio de Janeiro    2496.403168  5214.583518\n",
              "Paraná            2493.870753  4302.937995\n",
              "Santa Catarina    2470.854945  3137.651112"
            ],
            "text/html": [
              "\n",
              "  <div id=\"df-183c4bfa-b313-409f-a9e2-7ba395c97629\">\n",
              "    <div class=\"colab-df-container\">\n",
              "      <div>\n",
              "<style scoped>\n",
              "    .dataframe tbody tr th:only-of-type {\n",
              "        vertical-align: middle;\n",
              "    }\n",
              "\n",
              "    .dataframe tbody tr th {\n",
              "        vertical-align: top;\n",
              "    }\n",
              "\n",
              "    .dataframe thead tr th {\n",
              "        text-align: left;\n",
              "    }\n",
              "\n",
              "    .dataframe thead tr:last-of-type th {\n",
              "        text-align: right;\n",
              "    }\n",
              "</style>\n",
              "<table border=\"1\" class=\"dataframe\">\n",
              "  <thead>\n",
              "    <tr>\n",
              "      <th></th>\n",
              "      <th colspan=\"2\" halign=\"left\">Renda</th>\n",
              "    </tr>\n",
              "    <tr>\n",
              "      <th></th>\n",
              "      <th>mean</th>\n",
              "      <th>std</th>\n",
              "    </tr>\n",
              "    <tr>\n",
              "      <th>UF</th>\n",
              "      <th></th>\n",
              "      <th></th>\n",
              "    </tr>\n",
              "  </thead>\n",
              "  <tbody>\n",
              "    <tr>\n",
              "      <th>Distrito Federal</th>\n",
              "      <td>4241.954722</td>\n",
              "      <td>5550.463338</td>\n",
              "    </tr>\n",
              "    <tr>\n",
              "      <th>São Paulo</th>\n",
              "      <td>2638.104986</td>\n",
              "      <td>3503.777366</td>\n",
              "    </tr>\n",
              "    <tr>\n",
              "      <th>Rio de Janeiro</th>\n",
              "      <td>2496.403168</td>\n",
              "      <td>5214.583518</td>\n",
              "    </tr>\n",
              "    <tr>\n",
              "      <th>Paraná</th>\n",
              "      <td>2493.870753</td>\n",
              "      <td>4302.937995</td>\n",
              "    </tr>\n",
              "    <tr>\n",
              "      <th>Santa Catarina</th>\n",
              "      <td>2470.854945</td>\n",
              "      <td>3137.651112</td>\n",
              "    </tr>\n",
              "  </tbody>\n",
              "</table>\n",
              "</div>\n",
              "      <button class=\"colab-df-convert\" onclick=\"convertToInteractive('df-183c4bfa-b313-409f-a9e2-7ba395c97629')\"\n",
              "              title=\"Convert this dataframe to an interactive table.\"\n",
              "              style=\"display:none;\">\n",
              "        \n",
              "  <svg xmlns=\"http://www.w3.org/2000/svg\" height=\"24px\"viewBox=\"0 0 24 24\"\n",
              "       width=\"24px\">\n",
              "    <path d=\"M0 0h24v24H0V0z\" fill=\"none\"/>\n",
              "    <path d=\"M18.56 5.44l.94 2.06.94-2.06 2.06-.94-2.06-.94-.94-2.06-.94 2.06-2.06.94zm-11 1L8.5 8.5l.94-2.06 2.06-.94-2.06-.94L8.5 2.5l-.94 2.06-2.06.94zm10 10l.94 2.06.94-2.06 2.06-.94-2.06-.94-.94-2.06-.94 2.06-2.06.94z\"/><path d=\"M17.41 7.96l-1.37-1.37c-.4-.4-.92-.59-1.43-.59-.52 0-1.04.2-1.43.59L10.3 9.45l-7.72 7.72c-.78.78-.78 2.05 0 2.83L4 21.41c.39.39.9.59 1.41.59.51 0 1.02-.2 1.41-.59l7.78-7.78 2.81-2.81c.8-.78.8-2.07 0-2.86zM5.41 20L4 18.59l7.72-7.72 1.47 1.35L5.41 20z\"/>\n",
              "  </svg>\n",
              "      </button>\n",
              "      \n",
              "  <style>\n",
              "    .colab-df-container {\n",
              "      display:flex;\n",
              "      flex-wrap:wrap;\n",
              "      gap: 12px;\n",
              "    }\n",
              "\n",
              "    .colab-df-convert {\n",
              "      background-color: #E8F0FE;\n",
              "      border: none;\n",
              "      border-radius: 50%;\n",
              "      cursor: pointer;\n",
              "      display: none;\n",
              "      fill: #1967D2;\n",
              "      height: 32px;\n",
              "      padding: 0 0 0 0;\n",
              "      width: 32px;\n",
              "    }\n",
              "\n",
              "    .colab-df-convert:hover {\n",
              "      background-color: #E2EBFA;\n",
              "      box-shadow: 0px 1px 2px rgba(60, 64, 67, 0.3), 0px 1px 3px 1px rgba(60, 64, 67, 0.15);\n",
              "      fill: #174EA6;\n",
              "    }\n",
              "\n",
              "    [theme=dark] .colab-df-convert {\n",
              "      background-color: #3B4455;\n",
              "      fill: #D2E3FC;\n",
              "    }\n",
              "\n",
              "    [theme=dark] .colab-df-convert:hover {\n",
              "      background-color: #434B5C;\n",
              "      box-shadow: 0px 1px 3px 1px rgba(0, 0, 0, 0.15);\n",
              "      filter: drop-shadow(0px 1px 2px rgba(0, 0, 0, 0.3));\n",
              "      fill: #FFFFFF;\n",
              "    }\n",
              "  </style>\n",
              "\n",
              "      <script>\n",
              "        const buttonEl =\n",
              "          document.querySelector('#df-183c4bfa-b313-409f-a9e2-7ba395c97629 button.colab-df-convert');\n",
              "        buttonEl.style.display =\n",
              "          google.colab.kernel.accessAllowed ? 'block' : 'none';\n",
              "\n",
              "        async function convertToInteractive(key) {\n",
              "          const element = document.querySelector('#df-183c4bfa-b313-409f-a9e2-7ba395c97629');\n",
              "          const dataTable =\n",
              "            await google.colab.kernel.invokeFunction('convertToInteractive',\n",
              "                                                     [key], {});\n",
              "          if (!dataTable) return;\n",
              "\n",
              "          const docLinkHtml = 'Like what you see? Visit the ' +\n",
              "            '<a target=\"_blank\" href=https://colab.research.google.com/notebooks/data_table.ipynb>data table notebook</a>'\n",
              "            + ' to learn more about interactive tables.';\n",
              "          element.innerHTML = '';\n",
              "          dataTable['output_type'] = 'display_data';\n",
              "          await google.colab.output.renderOutput(dataTable, element);\n",
              "          const docLink = document.createElement('div');\n",
              "          docLink.innerHTML = docLinkHtml;\n",
              "          element.appendChild(docLink);\n",
              "        }\n",
              "      </script>\n",
              "    </div>\n",
              "  </div>\n",
              "  "
            ]
          },
          "metadata": {},
          "execution_count": 43
        }
      ],
      "source": [
        "# Qual é a média e o desvio padrão dos 5 UFs com a maior média de Renda?\n",
        "\n",
        "pessoas[['UF','Renda']].groupby('UF').agg(['mean','std']).sort_values(('Renda','mean'), ascending=False).head()"
      ]
    },
    {
      "cell_type": "code",
      "execution_count": 44,
      "id": "a7b29450",
      "metadata": {
        "execution": {
          "iopub.execute_input": "2022-06-22T21:08:34.794367Z",
          "iopub.status.busy": "2022-06-22T21:08:34.793648Z",
          "iopub.status.idle": "2022-06-22T21:08:34.831990Z",
          "shell.execute_reply": "2022-06-22T21:08:34.830982Z"
        },
        "id": "a7b29450",
        "outputId": "8efc370f-4094-43d1-b9c9-1bf29df34299",
        "papermill": {
          "duration": 0.068272,
          "end_time": "2022-06-22T21:08:34.834528",
          "exception": false,
          "start_time": "2022-06-22T21:08:34.766256",
          "status": "completed"
        },
        "tags": [],
        "colab": {
          "base_uri": "https://localhost:8080/",
          "height": 269
        }
      },
      "outputs": [
        {
          "output_type": "execute_result",
          "data": {
            "text/plain": [
              "          Idade           Renda                              \n",
              "           mean    std      sum     mean      std min     max\n",
              "UF                                                           \n",
              "Acre      41.89  12.46  1411208  1506.09  2276.23   0   30000\n",
              "Alagoas   43.08  11.93  1033531  1144.55  1237.86   0   11000\n",
              "Amapá     42.10  11.42   953013  1861.35  2020.69   0   15580\n",
              "Amazonas  42.79  12.50  3187957  1445.13  1757.94   0   22000\n",
              "Bahia     44.32  12.42  8173281  1429.65  3507.92   0  200000"
            ],
            "text/html": [
              "\n",
              "  <div id=\"df-cf17d564-6c4e-4abf-bc77-d0a19782ce88\">\n",
              "    <div class=\"colab-df-container\">\n",
              "      <div>\n",
              "<style scoped>\n",
              "    .dataframe tbody tr th:only-of-type {\n",
              "        vertical-align: middle;\n",
              "    }\n",
              "\n",
              "    .dataframe tbody tr th {\n",
              "        vertical-align: top;\n",
              "    }\n",
              "\n",
              "    .dataframe thead tr th {\n",
              "        text-align: left;\n",
              "    }\n",
              "\n",
              "    .dataframe thead tr:last-of-type th {\n",
              "        text-align: right;\n",
              "    }\n",
              "</style>\n",
              "<table border=\"1\" class=\"dataframe\">\n",
              "  <thead>\n",
              "    <tr>\n",
              "      <th></th>\n",
              "      <th colspan=\"2\" halign=\"left\">Idade</th>\n",
              "      <th colspan=\"5\" halign=\"left\">Renda</th>\n",
              "    </tr>\n",
              "    <tr>\n",
              "      <th></th>\n",
              "      <th>mean</th>\n",
              "      <th>std</th>\n",
              "      <th>sum</th>\n",
              "      <th>mean</th>\n",
              "      <th>std</th>\n",
              "      <th>min</th>\n",
              "      <th>max</th>\n",
              "    </tr>\n",
              "    <tr>\n",
              "      <th>UF</th>\n",
              "      <th></th>\n",
              "      <th></th>\n",
              "      <th></th>\n",
              "      <th></th>\n",
              "      <th></th>\n",
              "      <th></th>\n",
              "      <th></th>\n",
              "    </tr>\n",
              "  </thead>\n",
              "  <tbody>\n",
              "    <tr>\n",
              "      <th>Acre</th>\n",
              "      <td>41.89</td>\n",
              "      <td>12.46</td>\n",
              "      <td>1411208</td>\n",
              "      <td>1506.09</td>\n",
              "      <td>2276.23</td>\n",
              "      <td>0</td>\n",
              "      <td>30000</td>\n",
              "    </tr>\n",
              "    <tr>\n",
              "      <th>Alagoas</th>\n",
              "      <td>43.08</td>\n",
              "      <td>11.93</td>\n",
              "      <td>1033531</td>\n",
              "      <td>1144.55</td>\n",
              "      <td>1237.86</td>\n",
              "      <td>0</td>\n",
              "      <td>11000</td>\n",
              "    </tr>\n",
              "    <tr>\n",
              "      <th>Amapá</th>\n",
              "      <td>42.10</td>\n",
              "      <td>11.42</td>\n",
              "      <td>953013</td>\n",
              "      <td>1861.35</td>\n",
              "      <td>2020.69</td>\n",
              "      <td>0</td>\n",
              "      <td>15580</td>\n",
              "    </tr>\n",
              "    <tr>\n",
              "      <th>Amazonas</th>\n",
              "      <td>42.79</td>\n",
              "      <td>12.50</td>\n",
              "      <td>3187957</td>\n",
              "      <td>1445.13</td>\n",
              "      <td>1757.94</td>\n",
              "      <td>0</td>\n",
              "      <td>22000</td>\n",
              "    </tr>\n",
              "    <tr>\n",
              "      <th>Bahia</th>\n",
              "      <td>44.32</td>\n",
              "      <td>12.42</td>\n",
              "      <td>8173281</td>\n",
              "      <td>1429.65</td>\n",
              "      <td>3507.92</td>\n",
              "      <td>0</td>\n",
              "      <td>200000</td>\n",
              "    </tr>\n",
              "  </tbody>\n",
              "</table>\n",
              "</div>\n",
              "      <button class=\"colab-df-convert\" onclick=\"convertToInteractive('df-cf17d564-6c4e-4abf-bc77-d0a19782ce88')\"\n",
              "              title=\"Convert this dataframe to an interactive table.\"\n",
              "              style=\"display:none;\">\n",
              "        \n",
              "  <svg xmlns=\"http://www.w3.org/2000/svg\" height=\"24px\"viewBox=\"0 0 24 24\"\n",
              "       width=\"24px\">\n",
              "    <path d=\"M0 0h24v24H0V0z\" fill=\"none\"/>\n",
              "    <path d=\"M18.56 5.44l.94 2.06.94-2.06 2.06-.94-2.06-.94-.94-2.06-.94 2.06-2.06.94zm-11 1L8.5 8.5l.94-2.06 2.06-.94-2.06-.94L8.5 2.5l-.94 2.06-2.06.94zm10 10l.94 2.06.94-2.06 2.06-.94-2.06-.94-.94-2.06-.94 2.06-2.06.94z\"/><path d=\"M17.41 7.96l-1.37-1.37c-.4-.4-.92-.59-1.43-.59-.52 0-1.04.2-1.43.59L10.3 9.45l-7.72 7.72c-.78.78-.78 2.05 0 2.83L4 21.41c.39.39.9.59 1.41.59.51 0 1.02-.2 1.41-.59l7.78-7.78 2.81-2.81c.8-.78.8-2.07 0-2.86zM5.41 20L4 18.59l7.72-7.72 1.47 1.35L5.41 20z\"/>\n",
              "  </svg>\n",
              "      </button>\n",
              "      \n",
              "  <style>\n",
              "    .colab-df-container {\n",
              "      display:flex;\n",
              "      flex-wrap:wrap;\n",
              "      gap: 12px;\n",
              "    }\n",
              "\n",
              "    .colab-df-convert {\n",
              "      background-color: #E8F0FE;\n",
              "      border: none;\n",
              "      border-radius: 50%;\n",
              "      cursor: pointer;\n",
              "      display: none;\n",
              "      fill: #1967D2;\n",
              "      height: 32px;\n",
              "      padding: 0 0 0 0;\n",
              "      width: 32px;\n",
              "    }\n",
              "\n",
              "    .colab-df-convert:hover {\n",
              "      background-color: #E2EBFA;\n",
              "      box-shadow: 0px 1px 2px rgba(60, 64, 67, 0.3), 0px 1px 3px 1px rgba(60, 64, 67, 0.15);\n",
              "      fill: #174EA6;\n",
              "    }\n",
              "\n",
              "    [theme=dark] .colab-df-convert {\n",
              "      background-color: #3B4455;\n",
              "      fill: #D2E3FC;\n",
              "    }\n",
              "\n",
              "    [theme=dark] .colab-df-convert:hover {\n",
              "      background-color: #434B5C;\n",
              "      box-shadow: 0px 1px 3px 1px rgba(0, 0, 0, 0.15);\n",
              "      filter: drop-shadow(0px 1px 2px rgba(0, 0, 0, 0.3));\n",
              "      fill: #FFFFFF;\n",
              "    }\n",
              "  </style>\n",
              "\n",
              "      <script>\n",
              "        const buttonEl =\n",
              "          document.querySelector('#df-cf17d564-6c4e-4abf-bc77-d0a19782ce88 button.colab-df-convert');\n",
              "        buttonEl.style.display =\n",
              "          google.colab.kernel.accessAllowed ? 'block' : 'none';\n",
              "\n",
              "        async function convertToInteractive(key) {\n",
              "          const element = document.querySelector('#df-cf17d564-6c4e-4abf-bc77-d0a19782ce88');\n",
              "          const dataTable =\n",
              "            await google.colab.kernel.invokeFunction('convertToInteractive',\n",
              "                                                     [key], {});\n",
              "          if (!dataTable) return;\n",
              "\n",
              "          const docLinkHtml = 'Like what you see? Visit the ' +\n",
              "            '<a target=\"_blank\" href=https://colab.research.google.com/notebooks/data_table.ipynb>data table notebook</a>'\n",
              "            + ' to learn more about interactive tables.';\n",
              "          element.innerHTML = '';\n",
              "          dataTable['output_type'] = 'display_data';\n",
              "          await google.colab.output.renderOutput(dataTable, element);\n",
              "          const docLink = document.createElement('div');\n",
              "          docLink.innerHTML = docLinkHtml;\n",
              "          element.appendChild(docLink);\n",
              "        }\n",
              "      </script>\n",
              "    </div>\n",
              "  </div>\n",
              "  "
            ]
          },
          "metadata": {},
          "execution_count": 44
        }
      ],
      "source": [
        "# Construa uma tabela resumida para cada UF com: \n",
        "## Média e desvio padrão da idade;\n",
        "## Soma total, média, desvio padrão, valor máximo e valor mínimo da renda;\n",
        "\n",
        "pessoas.groupby('UF').agg({'Idade':['mean','std'],'Renda':['sum','mean','std','min','max']}).round(2).head()"
      ]
    },
    {
      "cell_type": "markdown",
      "id": "1a5d5d8d",
      "metadata": {
        "id": "1a5d5d8d",
        "papermill": {
          "duration": 0.016799,
          "end_time": "2022-06-22T21:08:34.868562",
          "exception": false,
          "start_time": "2022-06-22T21:08:34.851763",
          "status": "completed"
        },
        "tags": []
      },
      "source": [
        "#### **Faça você mesmo:**"
      ]
    },
    {
      "cell_type": "code",
      "execution_count": 59,
      "id": "97a71e21",
      "metadata": {
        "execution": {
          "iopub.execute_input": "2022-06-22T21:08:34.904062Z",
          "iopub.status.busy": "2022-06-22T21:08:34.903698Z",
          "iopub.status.idle": "2022-06-22T21:08:34.916826Z",
          "shell.execute_reply": "2022-06-22T21:08:34.915940Z"
        },
        "id": "97a71e21",
        "outputId": "5ba9134f-c97b-45a3-bb0f-77a686bcd0cc",
        "papermill": {
          "duration": 0.033529,
          "end_time": "2022-06-22T21:08:34.918984",
          "exception": false,
          "start_time": "2022-06-22T21:08:34.885455",
          "status": "completed"
        },
        "tags": [],
        "colab": {
          "base_uri": "https://localhost:8080/",
          "height": 175
        }
      },
      "outputs": [
        {
          "output_type": "execute_result",
          "data": {
            "text/plain": [
              "             Altura      Idade\n",
              "               mean       mean\n",
              "Sexo                          \n",
              "Feminino   1.699670  44.127554\n",
              "Masculino  1.699443  44.046554"
            ],
            "text/html": [
              "\n",
              "  <div id=\"df-9cd2e3ff-fb8d-4ac7-8d43-44ba516c33a2\">\n",
              "    <div class=\"colab-df-container\">\n",
              "      <div>\n",
              "<style scoped>\n",
              "    .dataframe tbody tr th:only-of-type {\n",
              "        vertical-align: middle;\n",
              "    }\n",
              "\n",
              "    .dataframe tbody tr th {\n",
              "        vertical-align: top;\n",
              "    }\n",
              "\n",
              "    .dataframe thead tr th {\n",
              "        text-align: left;\n",
              "    }\n",
              "\n",
              "    .dataframe thead tr:last-of-type th {\n",
              "        text-align: right;\n",
              "    }\n",
              "</style>\n",
              "<table border=\"1\" class=\"dataframe\">\n",
              "  <thead>\n",
              "    <tr>\n",
              "      <th></th>\n",
              "      <th>Altura</th>\n",
              "      <th>Idade</th>\n",
              "    </tr>\n",
              "    <tr>\n",
              "      <th></th>\n",
              "      <th>mean</th>\n",
              "      <th>mean</th>\n",
              "    </tr>\n",
              "    <tr>\n",
              "      <th>Sexo</th>\n",
              "      <th></th>\n",
              "      <th></th>\n",
              "    </tr>\n",
              "  </thead>\n",
              "  <tbody>\n",
              "    <tr>\n",
              "      <th>Feminino</th>\n",
              "      <td>1.699670</td>\n",
              "      <td>44.127554</td>\n",
              "    </tr>\n",
              "    <tr>\n",
              "      <th>Masculino</th>\n",
              "      <td>1.699443</td>\n",
              "      <td>44.046554</td>\n",
              "    </tr>\n",
              "  </tbody>\n",
              "</table>\n",
              "</div>\n",
              "      <button class=\"colab-df-convert\" onclick=\"convertToInteractive('df-9cd2e3ff-fb8d-4ac7-8d43-44ba516c33a2')\"\n",
              "              title=\"Convert this dataframe to an interactive table.\"\n",
              "              style=\"display:none;\">\n",
              "        \n",
              "  <svg xmlns=\"http://www.w3.org/2000/svg\" height=\"24px\"viewBox=\"0 0 24 24\"\n",
              "       width=\"24px\">\n",
              "    <path d=\"M0 0h24v24H0V0z\" fill=\"none\"/>\n",
              "    <path d=\"M18.56 5.44l.94 2.06.94-2.06 2.06-.94-2.06-.94-.94-2.06-.94 2.06-2.06.94zm-11 1L8.5 8.5l.94-2.06 2.06-.94-2.06-.94L8.5 2.5l-.94 2.06-2.06.94zm10 10l.94 2.06.94-2.06 2.06-.94-2.06-.94-.94-2.06-.94 2.06-2.06.94z\"/><path d=\"M17.41 7.96l-1.37-1.37c-.4-.4-.92-.59-1.43-.59-.52 0-1.04.2-1.43.59L10.3 9.45l-7.72 7.72c-.78.78-.78 2.05 0 2.83L4 21.41c.39.39.9.59 1.41.59.51 0 1.02-.2 1.41-.59l7.78-7.78 2.81-2.81c.8-.78.8-2.07 0-2.86zM5.41 20L4 18.59l7.72-7.72 1.47 1.35L5.41 20z\"/>\n",
              "  </svg>\n",
              "      </button>\n",
              "      \n",
              "  <style>\n",
              "    .colab-df-container {\n",
              "      display:flex;\n",
              "      flex-wrap:wrap;\n",
              "      gap: 12px;\n",
              "    }\n",
              "\n",
              "    .colab-df-convert {\n",
              "      background-color: #E8F0FE;\n",
              "      border: none;\n",
              "      border-radius: 50%;\n",
              "      cursor: pointer;\n",
              "      display: none;\n",
              "      fill: #1967D2;\n",
              "      height: 32px;\n",
              "      padding: 0 0 0 0;\n",
              "      width: 32px;\n",
              "    }\n",
              "\n",
              "    .colab-df-convert:hover {\n",
              "      background-color: #E2EBFA;\n",
              "      box-shadow: 0px 1px 2px rgba(60, 64, 67, 0.3), 0px 1px 3px 1px rgba(60, 64, 67, 0.15);\n",
              "      fill: #174EA6;\n",
              "    }\n",
              "\n",
              "    [theme=dark] .colab-df-convert {\n",
              "      background-color: #3B4455;\n",
              "      fill: #D2E3FC;\n",
              "    }\n",
              "\n",
              "    [theme=dark] .colab-df-convert:hover {\n",
              "      background-color: #434B5C;\n",
              "      box-shadow: 0px 1px 3px 1px rgba(0, 0, 0, 0.15);\n",
              "      filter: drop-shadow(0px 1px 2px rgba(0, 0, 0, 0.3));\n",
              "      fill: #FFFFFF;\n",
              "    }\n",
              "  </style>\n",
              "\n",
              "      <script>\n",
              "        const buttonEl =\n",
              "          document.querySelector('#df-9cd2e3ff-fb8d-4ac7-8d43-44ba516c33a2 button.colab-df-convert');\n",
              "        buttonEl.style.display =\n",
              "          google.colab.kernel.accessAllowed ? 'block' : 'none';\n",
              "\n",
              "        async function convertToInteractive(key) {\n",
              "          const element = document.querySelector('#df-9cd2e3ff-fb8d-4ac7-8d43-44ba516c33a2');\n",
              "          const dataTable =\n",
              "            await google.colab.kernel.invokeFunction('convertToInteractive',\n",
              "                                                     [key], {});\n",
              "          if (!dataTable) return;\n",
              "\n",
              "          const docLinkHtml = 'Like what you see? Visit the ' +\n",
              "            '<a target=\"_blank\" href=https://colab.research.google.com/notebooks/data_table.ipynb>data table notebook</a>'\n",
              "            + ' to learn more about interactive tables.';\n",
              "          element.innerHTML = '';\n",
              "          dataTable['output_type'] = 'display_data';\n",
              "          await google.colab.output.renderOutput(dataTable, element);\n",
              "          const docLink = document.createElement('div');\n",
              "          docLink.innerHTML = docLinkHtml;\n",
              "          element.appendChild(docLink);\n",
              "        }\n",
              "      </script>\n",
              "    </div>\n",
              "  </div>\n",
              "  "
            ]
          },
          "metadata": {},
          "execution_count": 59
        }
      ],
      "source": [
        "# Para cada sexo, qual é a média de altura e a média de idade dos participantes dessa base?\n",
        "\n",
        "pessoas[['Sexo', 'Altura', 'Idade']].groupby('Sexo').agg({'Altura':['mean'],'Idade':['mean']})"
      ]
    },
    {
      "cell_type": "markdown",
      "id": "f955d11f",
      "metadata": {
        "id": "f955d11f",
        "papermill": {
          "duration": 0.017596,
          "end_time": "2022-06-22T21:08:34.953928",
          "exception": false,
          "start_time": "2022-06-22T21:08:34.936332",
          "status": "completed"
        },
        "tags": []
      },
      "source": [
        "#### **Alternativas de GROUPBY + AGG + SORT_VALUES**"
      ]
    },
    {
      "cell_type": "code",
      "execution_count": 62,
      "id": "80192805",
      "metadata": {
        "execution": {
          "iopub.execute_input": "2022-06-22T21:08:34.991347Z",
          "iopub.status.busy": "2022-06-22T21:08:34.990237Z",
          "iopub.status.idle": "2022-06-22T21:08:35.016833Z",
          "shell.execute_reply": "2022-06-22T21:08:35.015942Z"
        },
        "id": "80192805",
        "outputId": "6cf51a80-a2d1-4800-81e8-8fc8e581ca7f",
        "papermill": {
          "duration": 0.04703,
          "end_time": "2022-06-22T21:08:35.018808",
          "exception": false,
          "start_time": "2022-06-22T21:08:34.971778",
          "status": "completed"
        },
        "tags": [],
        "colab": {
          "base_uri": "https://localhost:8080/",
          "height": 269
        }
      },
      "outputs": [
        {
          "output_type": "execute_result",
          "data": {
            "text/plain": [
              "                  Idade              \n",
              "                   mean max min   std\n",
              "UF                                   \n",
              "Rio Grande do Sul  45.5  90  16  12.8\n",
              "Piauí              45.3  88  18  13.4\n",
              "Minas Gerais       45.2  94  15  12.7\n",
              "Rio de Janeiro     45.1  91  16  12.1\n",
              "Bahia              44.3  92  15  12.4"
            ],
            "text/html": [
              "\n",
              "  <div id=\"df-9a87a4b9-35ad-489f-932c-87818a3b2cd3\">\n",
              "    <div class=\"colab-df-container\">\n",
              "      <div>\n",
              "<style scoped>\n",
              "    .dataframe tbody tr th:only-of-type {\n",
              "        vertical-align: middle;\n",
              "    }\n",
              "\n",
              "    .dataframe tbody tr th {\n",
              "        vertical-align: top;\n",
              "    }\n",
              "\n",
              "    .dataframe thead tr th {\n",
              "        text-align: left;\n",
              "    }\n",
              "\n",
              "    .dataframe thead tr:last-of-type th {\n",
              "        text-align: right;\n",
              "    }\n",
              "</style>\n",
              "<table border=\"1\" class=\"dataframe\">\n",
              "  <thead>\n",
              "    <tr>\n",
              "      <th></th>\n",
              "      <th colspan=\"4\" halign=\"left\">Idade</th>\n",
              "    </tr>\n",
              "    <tr>\n",
              "      <th></th>\n",
              "      <th>mean</th>\n",
              "      <th>max</th>\n",
              "      <th>min</th>\n",
              "      <th>std</th>\n",
              "    </tr>\n",
              "    <tr>\n",
              "      <th>UF</th>\n",
              "      <th></th>\n",
              "      <th></th>\n",
              "      <th></th>\n",
              "      <th></th>\n",
              "    </tr>\n",
              "  </thead>\n",
              "  <tbody>\n",
              "    <tr>\n",
              "      <th>Rio Grande do Sul</th>\n",
              "      <td>45.5</td>\n",
              "      <td>90</td>\n",
              "      <td>16</td>\n",
              "      <td>12.8</td>\n",
              "    </tr>\n",
              "    <tr>\n",
              "      <th>Piauí</th>\n",
              "      <td>45.3</td>\n",
              "      <td>88</td>\n",
              "      <td>18</td>\n",
              "      <td>13.4</td>\n",
              "    </tr>\n",
              "    <tr>\n",
              "      <th>Minas Gerais</th>\n",
              "      <td>45.2</td>\n",
              "      <td>94</td>\n",
              "      <td>15</td>\n",
              "      <td>12.7</td>\n",
              "    </tr>\n",
              "    <tr>\n",
              "      <th>Rio de Janeiro</th>\n",
              "      <td>45.1</td>\n",
              "      <td>91</td>\n",
              "      <td>16</td>\n",
              "      <td>12.1</td>\n",
              "    </tr>\n",
              "    <tr>\n",
              "      <th>Bahia</th>\n",
              "      <td>44.3</td>\n",
              "      <td>92</td>\n",
              "      <td>15</td>\n",
              "      <td>12.4</td>\n",
              "    </tr>\n",
              "  </tbody>\n",
              "</table>\n",
              "</div>\n",
              "      <button class=\"colab-df-convert\" onclick=\"convertToInteractive('df-9a87a4b9-35ad-489f-932c-87818a3b2cd3')\"\n",
              "              title=\"Convert this dataframe to an interactive table.\"\n",
              "              style=\"display:none;\">\n",
              "        \n",
              "  <svg xmlns=\"http://www.w3.org/2000/svg\" height=\"24px\"viewBox=\"0 0 24 24\"\n",
              "       width=\"24px\">\n",
              "    <path d=\"M0 0h24v24H0V0z\" fill=\"none\"/>\n",
              "    <path d=\"M18.56 5.44l.94 2.06.94-2.06 2.06-.94-2.06-.94-.94-2.06-.94 2.06-2.06.94zm-11 1L8.5 8.5l.94-2.06 2.06-.94-2.06-.94L8.5 2.5l-.94 2.06-2.06.94zm10 10l.94 2.06.94-2.06 2.06-.94-2.06-.94-.94-2.06-.94 2.06-2.06.94z\"/><path d=\"M17.41 7.96l-1.37-1.37c-.4-.4-.92-.59-1.43-.59-.52 0-1.04.2-1.43.59L10.3 9.45l-7.72 7.72c-.78.78-.78 2.05 0 2.83L4 21.41c.39.39.9.59 1.41.59.51 0 1.02-.2 1.41-.59l7.78-7.78 2.81-2.81c.8-.78.8-2.07 0-2.86zM5.41 20L4 18.59l7.72-7.72 1.47 1.35L5.41 20z\"/>\n",
              "  </svg>\n",
              "      </button>\n",
              "      \n",
              "  <style>\n",
              "    .colab-df-container {\n",
              "      display:flex;\n",
              "      flex-wrap:wrap;\n",
              "      gap: 12px;\n",
              "    }\n",
              "\n",
              "    .colab-df-convert {\n",
              "      background-color: #E8F0FE;\n",
              "      border: none;\n",
              "      border-radius: 50%;\n",
              "      cursor: pointer;\n",
              "      display: none;\n",
              "      fill: #1967D2;\n",
              "      height: 32px;\n",
              "      padding: 0 0 0 0;\n",
              "      width: 32px;\n",
              "    }\n",
              "\n",
              "    .colab-df-convert:hover {\n",
              "      background-color: #E2EBFA;\n",
              "      box-shadow: 0px 1px 2px rgba(60, 64, 67, 0.3), 0px 1px 3px 1px rgba(60, 64, 67, 0.15);\n",
              "      fill: #174EA6;\n",
              "    }\n",
              "\n",
              "    [theme=dark] .colab-df-convert {\n",
              "      background-color: #3B4455;\n",
              "      fill: #D2E3FC;\n",
              "    }\n",
              "\n",
              "    [theme=dark] .colab-df-convert:hover {\n",
              "      background-color: #434B5C;\n",
              "      box-shadow: 0px 1px 3px 1px rgba(0, 0, 0, 0.15);\n",
              "      filter: drop-shadow(0px 1px 2px rgba(0, 0, 0, 0.3));\n",
              "      fill: #FFFFFF;\n",
              "    }\n",
              "  </style>\n",
              "\n",
              "      <script>\n",
              "        const buttonEl =\n",
              "          document.querySelector('#df-9a87a4b9-35ad-489f-932c-87818a3b2cd3 button.colab-df-convert');\n",
              "        buttonEl.style.display =\n",
              "          google.colab.kernel.accessAllowed ? 'block' : 'none';\n",
              "\n",
              "        async function convertToInteractive(key) {\n",
              "          const element = document.querySelector('#df-9a87a4b9-35ad-489f-932c-87818a3b2cd3');\n",
              "          const dataTable =\n",
              "            await google.colab.kernel.invokeFunction('convertToInteractive',\n",
              "                                                     [key], {});\n",
              "          if (!dataTable) return;\n",
              "\n",
              "          const docLinkHtml = 'Like what you see? Visit the ' +\n",
              "            '<a target=\"_blank\" href=https://colab.research.google.com/notebooks/data_table.ipynb>data table notebook</a>'\n",
              "            + ' to learn more about interactive tables.';\n",
              "          element.innerHTML = '';\n",
              "          dataTable['output_type'] = 'display_data';\n",
              "          await google.colab.output.renderOutput(dataTable, element);\n",
              "          const docLink = document.createElement('div');\n",
              "          docLink.innerHTML = docLinkHtml;\n",
              "          element.appendChild(docLink);\n",
              "        }\n",
              "      </script>\n",
              "    </div>\n",
              "  </div>\n",
              "  "
            ]
          },
          "metadata": {},
          "execution_count": 62
        }
      ],
      "source": [
        "pessoas.groupby('UF').agg(\n",
        "                          {'Idade':['mean','max','min','std']}\n",
        "                          ).sort_values(\n",
        "                              ('Idade','mean'), ascending=False\n",
        "                              ).round(1).head(5)"
      ]
    },
    {
      "cell_type": "code",
      "execution_count": 47,
      "id": "3eb5d8e4",
      "metadata": {
        "execution": {
          "iopub.execute_input": "2022-06-22T21:08:35.055876Z",
          "iopub.status.busy": "2022-06-22T21:08:35.055262Z",
          "iopub.status.idle": "2022-06-22T21:08:35.081177Z",
          "shell.execute_reply": "2022-06-22T21:08:35.080115Z"
        },
        "id": "3eb5d8e4",
        "outputId": "a5ef280d-f3bb-42d6-a0ce-42a536417da8",
        "papermill": {
          "duration": 0.046861,
          "end_time": "2022-06-22T21:08:35.083313",
          "exception": false,
          "start_time": "2022-06-22T21:08:35.036452",
          "status": "completed"
        },
        "tags": [],
        "colab": {
          "base_uri": "https://localhost:8080/",
          "height": 238
        }
      },
      "outputs": [
        {
          "output_type": "execute_result",
          "data": {
            "text/plain": [
              "                   media_IDADE  min_IDADE  max_IDADE  std_IDADE\n",
              "UF                                                             \n",
              "Rio Grande do Sul         45.5         16         90       12.8\n",
              "Piauí                     45.3         18         88       13.4\n",
              "Minas Gerais              45.2         15         94       12.7\n",
              "Rio de Janeiro            45.1         16         91       12.1\n",
              "Bahia                     44.3         15         92       12.4"
            ],
            "text/html": [
              "\n",
              "  <div id=\"df-1f407be9-16f0-4658-9a79-44a672a1a0a2\">\n",
              "    <div class=\"colab-df-container\">\n",
              "      <div>\n",
              "<style scoped>\n",
              "    .dataframe tbody tr th:only-of-type {\n",
              "        vertical-align: middle;\n",
              "    }\n",
              "\n",
              "    .dataframe tbody tr th {\n",
              "        vertical-align: top;\n",
              "    }\n",
              "\n",
              "    .dataframe thead th {\n",
              "        text-align: right;\n",
              "    }\n",
              "</style>\n",
              "<table border=\"1\" class=\"dataframe\">\n",
              "  <thead>\n",
              "    <tr style=\"text-align: right;\">\n",
              "      <th></th>\n",
              "      <th>media_IDADE</th>\n",
              "      <th>min_IDADE</th>\n",
              "      <th>max_IDADE</th>\n",
              "      <th>std_IDADE</th>\n",
              "    </tr>\n",
              "    <tr>\n",
              "      <th>UF</th>\n",
              "      <th></th>\n",
              "      <th></th>\n",
              "      <th></th>\n",
              "      <th></th>\n",
              "    </tr>\n",
              "  </thead>\n",
              "  <tbody>\n",
              "    <tr>\n",
              "      <th>Rio Grande do Sul</th>\n",
              "      <td>45.5</td>\n",
              "      <td>16</td>\n",
              "      <td>90</td>\n",
              "      <td>12.8</td>\n",
              "    </tr>\n",
              "    <tr>\n",
              "      <th>Piauí</th>\n",
              "      <td>45.3</td>\n",
              "      <td>18</td>\n",
              "      <td>88</td>\n",
              "      <td>13.4</td>\n",
              "    </tr>\n",
              "    <tr>\n",
              "      <th>Minas Gerais</th>\n",
              "      <td>45.2</td>\n",
              "      <td>15</td>\n",
              "      <td>94</td>\n",
              "      <td>12.7</td>\n",
              "    </tr>\n",
              "    <tr>\n",
              "      <th>Rio de Janeiro</th>\n",
              "      <td>45.1</td>\n",
              "      <td>16</td>\n",
              "      <td>91</td>\n",
              "      <td>12.1</td>\n",
              "    </tr>\n",
              "    <tr>\n",
              "      <th>Bahia</th>\n",
              "      <td>44.3</td>\n",
              "      <td>15</td>\n",
              "      <td>92</td>\n",
              "      <td>12.4</td>\n",
              "    </tr>\n",
              "  </tbody>\n",
              "</table>\n",
              "</div>\n",
              "      <button class=\"colab-df-convert\" onclick=\"convertToInteractive('df-1f407be9-16f0-4658-9a79-44a672a1a0a2')\"\n",
              "              title=\"Convert this dataframe to an interactive table.\"\n",
              "              style=\"display:none;\">\n",
              "        \n",
              "  <svg xmlns=\"http://www.w3.org/2000/svg\" height=\"24px\"viewBox=\"0 0 24 24\"\n",
              "       width=\"24px\">\n",
              "    <path d=\"M0 0h24v24H0V0z\" fill=\"none\"/>\n",
              "    <path d=\"M18.56 5.44l.94 2.06.94-2.06 2.06-.94-2.06-.94-.94-2.06-.94 2.06-2.06.94zm-11 1L8.5 8.5l.94-2.06 2.06-.94-2.06-.94L8.5 2.5l-.94 2.06-2.06.94zm10 10l.94 2.06.94-2.06 2.06-.94-2.06-.94-.94-2.06-.94 2.06-2.06.94z\"/><path d=\"M17.41 7.96l-1.37-1.37c-.4-.4-.92-.59-1.43-.59-.52 0-1.04.2-1.43.59L10.3 9.45l-7.72 7.72c-.78.78-.78 2.05 0 2.83L4 21.41c.39.39.9.59 1.41.59.51 0 1.02-.2 1.41-.59l7.78-7.78 2.81-2.81c.8-.78.8-2.07 0-2.86zM5.41 20L4 18.59l7.72-7.72 1.47 1.35L5.41 20z\"/>\n",
              "  </svg>\n",
              "      </button>\n",
              "      \n",
              "  <style>\n",
              "    .colab-df-container {\n",
              "      display:flex;\n",
              "      flex-wrap:wrap;\n",
              "      gap: 12px;\n",
              "    }\n",
              "\n",
              "    .colab-df-convert {\n",
              "      background-color: #E8F0FE;\n",
              "      border: none;\n",
              "      border-radius: 50%;\n",
              "      cursor: pointer;\n",
              "      display: none;\n",
              "      fill: #1967D2;\n",
              "      height: 32px;\n",
              "      padding: 0 0 0 0;\n",
              "      width: 32px;\n",
              "    }\n",
              "\n",
              "    .colab-df-convert:hover {\n",
              "      background-color: #E2EBFA;\n",
              "      box-shadow: 0px 1px 2px rgba(60, 64, 67, 0.3), 0px 1px 3px 1px rgba(60, 64, 67, 0.15);\n",
              "      fill: #174EA6;\n",
              "    }\n",
              "\n",
              "    [theme=dark] .colab-df-convert {\n",
              "      background-color: #3B4455;\n",
              "      fill: #D2E3FC;\n",
              "    }\n",
              "\n",
              "    [theme=dark] .colab-df-convert:hover {\n",
              "      background-color: #434B5C;\n",
              "      box-shadow: 0px 1px 3px 1px rgba(0, 0, 0, 0.15);\n",
              "      filter: drop-shadow(0px 1px 2px rgba(0, 0, 0, 0.3));\n",
              "      fill: #FFFFFF;\n",
              "    }\n",
              "  </style>\n",
              "\n",
              "      <script>\n",
              "        const buttonEl =\n",
              "          document.querySelector('#df-1f407be9-16f0-4658-9a79-44a672a1a0a2 button.colab-df-convert');\n",
              "        buttonEl.style.display =\n",
              "          google.colab.kernel.accessAllowed ? 'block' : 'none';\n",
              "\n",
              "        async function convertToInteractive(key) {\n",
              "          const element = document.querySelector('#df-1f407be9-16f0-4658-9a79-44a672a1a0a2');\n",
              "          const dataTable =\n",
              "            await google.colab.kernel.invokeFunction('convertToInteractive',\n",
              "                                                     [key], {});\n",
              "          if (!dataTable) return;\n",
              "\n",
              "          const docLinkHtml = 'Like what you see? Visit the ' +\n",
              "            '<a target=\"_blank\" href=https://colab.research.google.com/notebooks/data_table.ipynb>data table notebook</a>'\n",
              "            + ' to learn more about interactive tables.';\n",
              "          element.innerHTML = '';\n",
              "          dataTable['output_type'] = 'display_data';\n",
              "          await google.colab.output.renderOutput(dataTable, element);\n",
              "          const docLink = document.createElement('div');\n",
              "          docLink.innerHTML = docLinkHtml;\n",
              "          element.appendChild(docLink);\n",
              "        }\n",
              "      </script>\n",
              "    </div>\n",
              "  </div>\n",
              "  "
            ]
          },
          "metadata": {},
          "execution_count": 47
        }
      ],
      "source": [
        "pessoas.groupby('UF').agg(media_IDADE=('Idade','mean'),\n",
        "                          min_IDADE=('Idade','min'),\n",
        "                          max_IDADE=('Idade','max'),\n",
        "                          std_IDADE=('Idade','std')).sort_values('media_IDADE', ascending=False\n",
        "                                                                 ).round(1).head(5)\n"
      ]
    },
    {
      "cell_type": "code",
      "execution_count": 48,
      "id": "2611528d",
      "metadata": {
        "execution": {
          "iopub.execute_input": "2022-06-22T21:08:35.120414Z",
          "iopub.status.busy": "2022-06-22T21:08:35.119719Z",
          "iopub.status.idle": "2022-06-22T21:08:35.145999Z",
          "shell.execute_reply": "2022-06-22T21:08:35.145240Z"
        },
        "id": "2611528d",
        "outputId": "41e9d5f0-e8c5-451f-a653-988f574a25ab",
        "papermill": {
          "duration": 0.046962,
          "end_time": "2022-06-22T21:08:35.147792",
          "exception": false,
          "start_time": "2022-06-22T21:08:35.100830",
          "status": "completed"
        },
        "tags": [],
        "colab": {
          "base_uri": "https://localhost:8080/",
          "height": 238
        }
      },
      "outputs": [
        {
          "output_type": "execute_result",
          "data": {
            "text/plain": [
              "                   media_IDADE  min_IDADE  max_IDADE  std_IDADE\n",
              "UF                                                             \n",
              "Rio Grande do Sul         45.5         16         90       12.8\n",
              "Piauí                     45.3         18         88       13.4\n",
              "Minas Gerais              45.2         15         94       12.7\n",
              "Rio de Janeiro            45.1         16         91       12.1\n",
              "Bahia                     44.3         15         92       12.4"
            ],
            "text/html": [
              "\n",
              "  <div id=\"df-5310f227-a96a-4a59-8117-8ed91a44efb3\">\n",
              "    <div class=\"colab-df-container\">\n",
              "      <div>\n",
              "<style scoped>\n",
              "    .dataframe tbody tr th:only-of-type {\n",
              "        vertical-align: middle;\n",
              "    }\n",
              "\n",
              "    .dataframe tbody tr th {\n",
              "        vertical-align: top;\n",
              "    }\n",
              "\n",
              "    .dataframe thead th {\n",
              "        text-align: right;\n",
              "    }\n",
              "</style>\n",
              "<table border=\"1\" class=\"dataframe\">\n",
              "  <thead>\n",
              "    <tr style=\"text-align: right;\">\n",
              "      <th></th>\n",
              "      <th>media_IDADE</th>\n",
              "      <th>min_IDADE</th>\n",
              "      <th>max_IDADE</th>\n",
              "      <th>std_IDADE</th>\n",
              "    </tr>\n",
              "    <tr>\n",
              "      <th>UF</th>\n",
              "      <th></th>\n",
              "      <th></th>\n",
              "      <th></th>\n",
              "      <th></th>\n",
              "    </tr>\n",
              "  </thead>\n",
              "  <tbody>\n",
              "    <tr>\n",
              "      <th>Rio Grande do Sul</th>\n",
              "      <td>45.5</td>\n",
              "      <td>16</td>\n",
              "      <td>90</td>\n",
              "      <td>12.8</td>\n",
              "    </tr>\n",
              "    <tr>\n",
              "      <th>Piauí</th>\n",
              "      <td>45.3</td>\n",
              "      <td>18</td>\n",
              "      <td>88</td>\n",
              "      <td>13.4</td>\n",
              "    </tr>\n",
              "    <tr>\n",
              "      <th>Minas Gerais</th>\n",
              "      <td>45.2</td>\n",
              "      <td>15</td>\n",
              "      <td>94</td>\n",
              "      <td>12.7</td>\n",
              "    </tr>\n",
              "    <tr>\n",
              "      <th>Rio de Janeiro</th>\n",
              "      <td>45.1</td>\n",
              "      <td>16</td>\n",
              "      <td>91</td>\n",
              "      <td>12.1</td>\n",
              "    </tr>\n",
              "    <tr>\n",
              "      <th>Bahia</th>\n",
              "      <td>44.3</td>\n",
              "      <td>15</td>\n",
              "      <td>92</td>\n",
              "      <td>12.4</td>\n",
              "    </tr>\n",
              "  </tbody>\n",
              "</table>\n",
              "</div>\n",
              "      <button class=\"colab-df-convert\" onclick=\"convertToInteractive('df-5310f227-a96a-4a59-8117-8ed91a44efb3')\"\n",
              "              title=\"Convert this dataframe to an interactive table.\"\n",
              "              style=\"display:none;\">\n",
              "        \n",
              "  <svg xmlns=\"http://www.w3.org/2000/svg\" height=\"24px\"viewBox=\"0 0 24 24\"\n",
              "       width=\"24px\">\n",
              "    <path d=\"M0 0h24v24H0V0z\" fill=\"none\"/>\n",
              "    <path d=\"M18.56 5.44l.94 2.06.94-2.06 2.06-.94-2.06-.94-.94-2.06-.94 2.06-2.06.94zm-11 1L8.5 8.5l.94-2.06 2.06-.94-2.06-.94L8.5 2.5l-.94 2.06-2.06.94zm10 10l.94 2.06.94-2.06 2.06-.94-2.06-.94-.94-2.06-.94 2.06-2.06.94z\"/><path d=\"M17.41 7.96l-1.37-1.37c-.4-.4-.92-.59-1.43-.59-.52 0-1.04.2-1.43.59L10.3 9.45l-7.72 7.72c-.78.78-.78 2.05 0 2.83L4 21.41c.39.39.9.59 1.41.59.51 0 1.02-.2 1.41-.59l7.78-7.78 2.81-2.81c.8-.78.8-2.07 0-2.86zM5.41 20L4 18.59l7.72-7.72 1.47 1.35L5.41 20z\"/>\n",
              "  </svg>\n",
              "      </button>\n",
              "      \n",
              "  <style>\n",
              "    .colab-df-container {\n",
              "      display:flex;\n",
              "      flex-wrap:wrap;\n",
              "      gap: 12px;\n",
              "    }\n",
              "\n",
              "    .colab-df-convert {\n",
              "      background-color: #E8F0FE;\n",
              "      border: none;\n",
              "      border-radius: 50%;\n",
              "      cursor: pointer;\n",
              "      display: none;\n",
              "      fill: #1967D2;\n",
              "      height: 32px;\n",
              "      padding: 0 0 0 0;\n",
              "      width: 32px;\n",
              "    }\n",
              "\n",
              "    .colab-df-convert:hover {\n",
              "      background-color: #E2EBFA;\n",
              "      box-shadow: 0px 1px 2px rgba(60, 64, 67, 0.3), 0px 1px 3px 1px rgba(60, 64, 67, 0.15);\n",
              "      fill: #174EA6;\n",
              "    }\n",
              "\n",
              "    [theme=dark] .colab-df-convert {\n",
              "      background-color: #3B4455;\n",
              "      fill: #D2E3FC;\n",
              "    }\n",
              "\n",
              "    [theme=dark] .colab-df-convert:hover {\n",
              "      background-color: #434B5C;\n",
              "      box-shadow: 0px 1px 3px 1px rgba(0, 0, 0, 0.15);\n",
              "      filter: drop-shadow(0px 1px 2px rgba(0, 0, 0, 0.3));\n",
              "      fill: #FFFFFF;\n",
              "    }\n",
              "  </style>\n",
              "\n",
              "      <script>\n",
              "        const buttonEl =\n",
              "          document.querySelector('#df-5310f227-a96a-4a59-8117-8ed91a44efb3 button.colab-df-convert');\n",
              "        buttonEl.style.display =\n",
              "          google.colab.kernel.accessAllowed ? 'block' : 'none';\n",
              "\n",
              "        async function convertToInteractive(key) {\n",
              "          const element = document.querySelector('#df-5310f227-a96a-4a59-8117-8ed91a44efb3');\n",
              "          const dataTable =\n",
              "            await google.colab.kernel.invokeFunction('convertToInteractive',\n",
              "                                                     [key], {});\n",
              "          if (!dataTable) return;\n",
              "\n",
              "          const docLinkHtml = 'Like what you see? Visit the ' +\n",
              "            '<a target=\"_blank\" href=https://colab.research.google.com/notebooks/data_table.ipynb>data table notebook</a>'\n",
              "            + ' to learn more about interactive tables.';\n",
              "          element.innerHTML = '';\n",
              "          dataTable['output_type'] = 'display_data';\n",
              "          await google.colab.output.renderOutput(dataTable, element);\n",
              "          const docLink = document.createElement('div');\n",
              "          docLink.innerHTML = docLinkHtml;\n",
              "          element.appendChild(docLink);\n",
              "        }\n",
              "      </script>\n",
              "    </div>\n",
              "  </div>\n",
              "  "
            ]
          },
          "metadata": {},
          "execution_count": 48
        }
      ],
      "source": [
        "# AGG usando funções do numpy\n",
        "\n",
        "pessoas.groupby('UF').agg(\n",
        "    media_IDADE=('Idade',np.mean),\n",
        "    min_IDADE=('Idade',np.min),\n",
        "    max_IDADE=('Idade',np.max),\n",
        "    std_IDADE=('Idade',np.std)\n",
        "    ).sort_values('media_IDADE', ascending=False).round(1).head(5)"
      ]
    },
    {
      "cell_type": "code",
      "execution_count": 49,
      "id": "0627f1f6",
      "metadata": {
        "execution": {
          "iopub.execute_input": "2022-06-22T21:08:35.185586Z",
          "iopub.status.busy": "2022-06-22T21:08:35.184935Z",
          "iopub.status.idle": "2022-06-22T21:08:35.202903Z",
          "shell.execute_reply": "2022-06-22T21:08:35.202167Z"
        },
        "id": "0627f1f6",
        "outputId": "1b9a6d4c-6de5-4557-83ec-cf705a8c1b72",
        "papermill": {
          "duration": 0.039163,
          "end_time": "2022-06-22T21:08:35.204778",
          "exception": false,
          "start_time": "2022-06-22T21:08:35.165615",
          "status": "completed"
        },
        "tags": [],
        "colab": {
          "base_uri": "https://localhost:8080/",
          "height": 238
        }
      },
      "outputs": [
        {
          "output_type": "execute_result",
          "data": {
            "text/plain": [
              "          media_IDADE\n",
              "UF                   \n",
              "Acre               95\n",
              "Alagoas            78\n",
              "Amapá              75\n",
              "Amazonas           87\n",
              "Bahia              92"
            ],
            "text/html": [
              "\n",
              "  <div id=\"df-4b3e8372-3bd6-44b7-9bc3-3d42f9aa0300\">\n",
              "    <div class=\"colab-df-container\">\n",
              "      <div>\n",
              "<style scoped>\n",
              "    .dataframe tbody tr th:only-of-type {\n",
              "        vertical-align: middle;\n",
              "    }\n",
              "\n",
              "    .dataframe tbody tr th {\n",
              "        vertical-align: top;\n",
              "    }\n",
              "\n",
              "    .dataframe thead th {\n",
              "        text-align: right;\n",
              "    }\n",
              "</style>\n",
              "<table border=\"1\" class=\"dataframe\">\n",
              "  <thead>\n",
              "    <tr style=\"text-align: right;\">\n",
              "      <th></th>\n",
              "      <th>media_IDADE</th>\n",
              "    </tr>\n",
              "    <tr>\n",
              "      <th>UF</th>\n",
              "      <th></th>\n",
              "    </tr>\n",
              "  </thead>\n",
              "  <tbody>\n",
              "    <tr>\n",
              "      <th>Acre</th>\n",
              "      <td>95</td>\n",
              "    </tr>\n",
              "    <tr>\n",
              "      <th>Alagoas</th>\n",
              "      <td>78</td>\n",
              "    </tr>\n",
              "    <tr>\n",
              "      <th>Amapá</th>\n",
              "      <td>75</td>\n",
              "    </tr>\n",
              "    <tr>\n",
              "      <th>Amazonas</th>\n",
              "      <td>87</td>\n",
              "    </tr>\n",
              "    <tr>\n",
              "      <th>Bahia</th>\n",
              "      <td>92</td>\n",
              "    </tr>\n",
              "  </tbody>\n",
              "</table>\n",
              "</div>\n",
              "      <button class=\"colab-df-convert\" onclick=\"convertToInteractive('df-4b3e8372-3bd6-44b7-9bc3-3d42f9aa0300')\"\n",
              "              title=\"Convert this dataframe to an interactive table.\"\n",
              "              style=\"display:none;\">\n",
              "        \n",
              "  <svg xmlns=\"http://www.w3.org/2000/svg\" height=\"24px\"viewBox=\"0 0 24 24\"\n",
              "       width=\"24px\">\n",
              "    <path d=\"M0 0h24v24H0V0z\" fill=\"none\"/>\n",
              "    <path d=\"M18.56 5.44l.94 2.06.94-2.06 2.06-.94-2.06-.94-.94-2.06-.94 2.06-2.06.94zm-11 1L8.5 8.5l.94-2.06 2.06-.94-2.06-.94L8.5 2.5l-.94 2.06-2.06.94zm10 10l.94 2.06.94-2.06 2.06-.94-2.06-.94-.94-2.06-.94 2.06-2.06.94z\"/><path d=\"M17.41 7.96l-1.37-1.37c-.4-.4-.92-.59-1.43-.59-.52 0-1.04.2-1.43.59L10.3 9.45l-7.72 7.72c-.78.78-.78 2.05 0 2.83L4 21.41c.39.39.9.59 1.41.59.51 0 1.02-.2 1.41-.59l7.78-7.78 2.81-2.81c.8-.78.8-2.07 0-2.86zM5.41 20L4 18.59l7.72-7.72 1.47 1.35L5.41 20z\"/>\n",
              "  </svg>\n",
              "      </button>\n",
              "      \n",
              "  <style>\n",
              "    .colab-df-container {\n",
              "      display:flex;\n",
              "      flex-wrap:wrap;\n",
              "      gap: 12px;\n",
              "    }\n",
              "\n",
              "    .colab-df-convert {\n",
              "      background-color: #E8F0FE;\n",
              "      border: none;\n",
              "      border-radius: 50%;\n",
              "      cursor: pointer;\n",
              "      display: none;\n",
              "      fill: #1967D2;\n",
              "      height: 32px;\n",
              "      padding: 0 0 0 0;\n",
              "      width: 32px;\n",
              "    }\n",
              "\n",
              "    .colab-df-convert:hover {\n",
              "      background-color: #E2EBFA;\n",
              "      box-shadow: 0px 1px 2px rgba(60, 64, 67, 0.3), 0px 1px 3px 1px rgba(60, 64, 67, 0.15);\n",
              "      fill: #174EA6;\n",
              "    }\n",
              "\n",
              "    [theme=dark] .colab-df-convert {\n",
              "      background-color: #3B4455;\n",
              "      fill: #D2E3FC;\n",
              "    }\n",
              "\n",
              "    [theme=dark] .colab-df-convert:hover {\n",
              "      background-color: #434B5C;\n",
              "      box-shadow: 0px 1px 3px 1px rgba(0, 0, 0, 0.15);\n",
              "      filter: drop-shadow(0px 1px 2px rgba(0, 0, 0, 0.3));\n",
              "      fill: #FFFFFF;\n",
              "    }\n",
              "  </style>\n",
              "\n",
              "      <script>\n",
              "        const buttonEl =\n",
              "          document.querySelector('#df-4b3e8372-3bd6-44b7-9bc3-3d42f9aa0300 button.colab-df-convert');\n",
              "        buttonEl.style.display =\n",
              "          google.colab.kernel.accessAllowed ? 'block' : 'none';\n",
              "\n",
              "        async function convertToInteractive(key) {\n",
              "          const element = document.querySelector('#df-4b3e8372-3bd6-44b7-9bc3-3d42f9aa0300');\n",
              "          const dataTable =\n",
              "            await google.colab.kernel.invokeFunction('convertToInteractive',\n",
              "                                                     [key], {});\n",
              "          if (!dataTable) return;\n",
              "\n",
              "          const docLinkHtml = 'Like what you see? Visit the ' +\n",
              "            '<a target=\"_blank\" href=https://colab.research.google.com/notebooks/data_table.ipynb>data table notebook</a>'\n",
              "            + ' to learn more about interactive tables.';\n",
              "          element.innerHTML = '';\n",
              "          dataTable['output_type'] = 'display_data';\n",
              "          await google.colab.output.renderOutput(dataTable, element);\n",
              "          const docLink = document.createElement('div');\n",
              "          docLink.innerHTML = docLinkHtml;\n",
              "          element.appendChild(docLink);\n",
              "        }\n",
              "      </script>\n",
              "    </div>\n",
              "  </div>\n",
              "  "
            ]
          },
          "metadata": {},
          "execution_count": 49
        }
      ],
      "source": [
        "'''\n",
        "np.mean: Média da coluna\n",
        "np.sum: Soma da coluna\n",
        "np.std: Desvio Padrão da coluna\n",
        "np.var: Variância da coluna\n",
        "np.min: O menor valor da coluna\n",
        "np.max: O maior valor da coluna\n",
        "'''\n",
        "\n",
        "pessoas.groupby('UF').agg(\n",
        "    media_IDADE=('Idade',np.max)).head()"
      ]
    },
    {
      "cell_type": "markdown",
      "id": "434eaa17",
      "metadata": {
        "id": "434eaa17",
        "papermill": {
          "duration": 0.017742,
          "end_time": "2022-06-22T21:08:35.240409",
          "exception": false,
          "start_time": "2022-06-22T21:08:35.222667",
          "status": "completed"
        },
        "tags": []
      },
      "source": [
        "### **PRINCIPAIS VISUALIZAÇÕES DE DADOS**"
      ]
    },
    {
      "cell_type": "code",
      "execution_count": 50,
      "id": "673cf831",
      "metadata": {
        "execution": {
          "iopub.execute_input": "2022-06-22T21:08:35.278540Z",
          "iopub.status.busy": "2022-06-22T21:08:35.277995Z",
          "iopub.status.idle": "2022-06-22T21:08:35.513764Z",
          "shell.execute_reply": "2022-06-22T21:08:35.512655Z"
        },
        "id": "673cf831",
        "outputId": "eb692833-350d-4145-e80b-56b5a297fa79",
        "papermill": {
          "duration": 0.257928,
          "end_time": "2022-06-22T21:08:35.516387",
          "exception": false,
          "start_time": "2022-06-22T21:08:35.258459",
          "status": "completed"
        },
        "tags": [],
        "colab": {
          "base_uri": "https://localhost:8080/",
          "height": 350
        }
      },
      "outputs": [
        {
          "output_type": "display_data",
          "data": {
            "text/plain": [
              "<Figure size 720x360 with 1 Axes>"
            ],
            "image/png": "[encoded data removed]"
          },
          "metadata": {
            "needs_background": "light"
          }
        }
      ],
      "source": [
        "# hist (HISTOGRAMA - Distribuição de Frequência)\n",
        "\n",
        "plt.hist(pessoas['Idade'],bins=range(18,80,5))\n",
        "plt.title('Distribuição x Idade')\n",
        "plt.xlabel('Idade')\n",
        "plt.ylabel('Quantidade de Pessoas')\n",
        "plt.gcf().set_size_inches(10, 5)\n",
        "plt.show()"
      ]
    },
    {
      "cell_type": "code",
      "execution_count": null,
      "id": "6442826f",
      "metadata": {
        "id": "6442826f",
        "papermill": {
          "duration": 0.017968,
          "end_time": "2022-06-22T21:08:35.552645",
          "exception": false,
          "start_time": "2022-06-22T21:08:35.534677",
          "status": "completed"
        },
        "tags": []
      },
      "outputs": [],
      "source": [
        ""
      ]
    },
    {
      "cell_type": "code",
      "execution_count": 69,
      "id": "193e72bf",
      "metadata": {
        "execution": {
          "iopub.execute_input": "2022-06-22T21:08:35.590538Z",
          "iopub.status.busy": "2022-06-22T21:08:35.590156Z",
          "iopub.status.idle": "2022-06-22T21:08:35.899182Z",
          "shell.execute_reply": "2022-06-22T21:08:35.897930Z"
        },
        "id": "193e72bf",
        "outputId": "fc8fca3d-08ce-4800-97f0-549037b601f0",
        "papermill": {
          "duration": 0.330835,
          "end_time": "2022-06-22T21:08:35.901719",
          "exception": false,
          "start_time": "2022-06-22T21:08:35.570884",
          "status": "completed"
        },
        "tags": [],
        "colab": {
          "base_uri": "https://localhost:8080/",
          "height": 442
        }
      },
      "outputs": [
        {
          "output_type": "display_data",
          "data": {
            "text/plain": [
              "<Figure size 720x360 with 1 Axes>"
            ],
            "image/png": "[encoded data removed]"
          },
          "metadata": {
            "needs_background": "light"
          }
        }
      ],
      "source": [
        "# Agrupamos os dados por UF (categórica) e fazemos a média da Renda\n",
        "p2_uf = pessoas[['UF','Renda']].groupby('UF').agg(RendaMedia=('Renda','mean'))\n",
        "p2_uf.reset_index(inplace=True)\n",
        "p2_uf.sort_values('RendaMedia', ascending=False, inplace=True)\n",
        "p2_uf.head()\n",
        "\n",
        "# bar (gráfico de BARRAS)\n",
        "plt.bar(p2_uf['UF'],p2_uf['RendaMedia'])\n",
        "plt.title('Renda Média x UF')\n",
        "plt.xlabel('UF')\n",
        "plt.ylabel('Renda Média')\n",
        "plt.xticks(rotation=90)\n",
        "plt.gcf().set_size_inches(10, 5)\n",
        "plt.show()"
      ]
    },
    {
      "cell_type": "code",
      "execution_count": null,
      "id": "99265100",
      "metadata": {
        "id": "99265100",
        "papermill": {
          "duration": 0.018533,
          "end_time": "2022-06-22T21:08:35.939276",
          "exception": false,
          "start_time": "2022-06-22T21:08:35.920743",
          "status": "completed"
        },
        "tags": []
      },
      "outputs": [],
      "source": [
        ""
      ]
    },
    {
      "cell_type": "code",
      "execution_count": 52,
      "id": "3049aa92",
      "metadata": {
        "execution": {
          "iopub.execute_input": "2022-06-22T21:08:35.980100Z",
          "iopub.status.busy": "2022-06-22T21:08:35.979367Z",
          "iopub.status.idle": "2022-06-22T21:08:36.000442Z",
          "shell.execute_reply": "2022-06-22T21:08:35.999429Z"
        },
        "id": "3049aa92",
        "papermill": {
          "duration": 0.044281,
          "end_time": "2022-06-22T21:08:36.002533",
          "exception": false,
          "start_time": "2022-06-22T21:08:35.958252",
          "status": "completed"
        },
        "tags": [],
        "colab": {
          "base_uri": "https://localhost:8080/",
          "height": 206
        },
        "outputId": "8adf9ecc-a2f1-47db-c002-1fbeeaefaaeb"
      },
      "outputs": [
        {
          "output_type": "execute_result",
          "data": {
            "text/plain": [
              "   Idade  media_anos_de_estudo  renda_media  qtd_pessoas\n",
              "0     13              6.000000   100.000000            1\n",
              "1     14              4.000000   300.000000            1\n",
              "2     15              6.166667   416.666667            6\n",
              "3     16              8.200000   706.500000           10\n",
              "4     17              9.081633   829.571429           49"
            ],
            "text/html": [
              "\n",
              "  <div id=\"df-94b78177-61fc-4097-a502-329a6e3388da\">\n",
              "    <div class=\"colab-df-container\">\n",
              "      <div>\n",
              "<style scoped>\n",
              "    .dataframe tbody tr th:only-of-type {\n",
              "        vertical-align: middle;\n",
              "    }\n",
              "\n",
              "    .dataframe tbody tr th {\n",
              "        vertical-align: top;\n",
              "    }\n",
              "\n",
              "    .dataframe thead th {\n",
              "        text-align: right;\n",
              "    }\n",
              "</style>\n",
              "<table border=\"1\" class=\"dataframe\">\n",
              "  <thead>\n",
              "    <tr style=\"text-align: right;\">\n",
              "      <th></th>\n",
              "      <th>Idade</th>\n",
              "      <th>media_anos_de_estudo</th>\n",
              "      <th>renda_media</th>\n",
              "      <th>qtd_pessoas</th>\n",
              "    </tr>\n",
              "  </thead>\n",
              "  <tbody>\n",
              "    <tr>\n",
              "      <th>0</th>\n",
              "      <td>13</td>\n",
              "      <td>6.000000</td>\n",
              "      <td>100.000000</td>\n",
              "      <td>1</td>\n",
              "    </tr>\n",
              "    <tr>\n",
              "      <th>1</th>\n",
              "      <td>14</td>\n",
              "      <td>4.000000</td>\n",
              "      <td>300.000000</td>\n",
              "      <td>1</td>\n",
              "    </tr>\n",
              "    <tr>\n",
              "      <th>2</th>\n",
              "      <td>15</td>\n",
              "      <td>6.166667</td>\n",
              "      <td>416.666667</td>\n",
              "      <td>6</td>\n",
              "    </tr>\n",
              "    <tr>\n",
              "      <th>3</th>\n",
              "      <td>16</td>\n",
              "      <td>8.200000</td>\n",
              "      <td>706.500000</td>\n",
              "      <td>10</td>\n",
              "    </tr>\n",
              "    <tr>\n",
              "      <th>4</th>\n",
              "      <td>17</td>\n",
              "      <td>9.081633</td>\n",
              "      <td>829.571429</td>\n",
              "      <td>49</td>\n",
              "    </tr>\n",
              "  </tbody>\n",
              "</table>\n",
              "</div>\n",
              "      <button class=\"colab-df-convert\" onclick=\"convertToInteractive('df-94b78177-61fc-4097-a502-329a6e3388da')\"\n",
              "              title=\"Convert this dataframe to an interactive table.\"\n",
              "              style=\"display:none;\">\n",
              "        \n",
              "  <svg xmlns=\"http://www.w3.org/2000/svg\" height=\"24px\"viewBox=\"0 0 24 24\"\n",
              "       width=\"24px\">\n",
              "    <path d=\"M0 0h24v24H0V0z\" fill=\"none\"/>\n",
              "    <path d=\"M18.56 5.44l.94 2.06.94-2.06 2.06-.94-2.06-.94-.94-2.06-.94 2.06-2.06.94zm-11 1L8.5 8.5l.94-2.06 2.06-.94-2.06-.94L8.5 2.5l-.94 2.06-2.06.94zm10 10l.94 2.06.94-2.06 2.06-.94-2.06-.94-.94-2.06-.94 2.06-2.06.94z\"/><path d=\"M17.41 7.96l-1.37-1.37c-.4-.4-.92-.59-1.43-.59-.52 0-1.04.2-1.43.59L10.3 9.45l-7.72 7.72c-.78.78-.78 2.05 0 2.83L4 21.41c.39.39.9.59 1.41.59.51 0 1.02-.2 1.41-.59l7.78-7.78 2.81-2.81c.8-.78.8-2.07 0-2.86zM5.41 20L4 18.59l7.72-7.72 1.47 1.35L5.41 20z\"/>\n",
              "  </svg>\n",
              "      </button>\n",
              "      \n",
              "  <style>\n",
              "    .colab-df-container {\n",
              "      display:flex;\n",
              "      flex-wrap:wrap;\n",
              "      gap: 12px;\n",
              "    }\n",
              "\n",
              "    .colab-df-convert {\n",
              "      background-color: #E8F0FE;\n",
              "      border: none;\n",
              "      border-radius: 50%;\n",
              "      cursor: pointer;\n",
              "      display: none;\n",
              "      fill: #1967D2;\n",
              "      height: 32px;\n",
              "      padding: 0 0 0 0;\n",
              "      width: 32px;\n",
              "    }\n",
              "\n",
              "    .colab-df-convert:hover {\n",
              "      background-color: #E2EBFA;\n",
              "      box-shadow: 0px 1px 2px rgba(60, 64, 67, 0.3), 0px 1px 3px 1px rgba(60, 64, 67, 0.15);\n",
              "      fill: #174EA6;\n",
              "    }\n",
              "\n",
              "    [theme=dark] .colab-df-convert {\n",
              "      background-color: #3B4455;\n",
              "      fill: #D2E3FC;\n",
              "    }\n",
              "\n",
              "    [theme=dark] .colab-df-convert:hover {\n",
              "      background-color: #434B5C;\n",
              "      box-shadow: 0px 1px 3px 1px rgba(0, 0, 0, 0.15);\n",
              "      filter: drop-shadow(0px 1px 2px rgba(0, 0, 0, 0.3));\n",
              "      fill: #FFFFFF;\n",
              "    }\n",
              "  </style>\n",
              "\n",
              "      <script>\n",
              "        const buttonEl =\n",
              "          document.querySelector('#df-94b78177-61fc-4097-a502-329a6e3388da button.colab-df-convert');\n",
              "        buttonEl.style.display =\n",
              "          google.colab.kernel.accessAllowed ? 'block' : 'none';\n",
              "\n",
              "        async function convertToInteractive(key) {\n",
              "          const element = document.querySelector('#df-94b78177-61fc-4097-a502-329a6e3388da');\n",
              "          const dataTable =\n",
              "            await google.colab.kernel.invokeFunction('convertToInteractive',\n",
              "                                                     [key], {});\n",
              "          if (!dataTable) return;\n",
              "\n",
              "          const docLinkHtml = 'Like what you see? Visit the ' +\n",
              "            '<a target=\"_blank\" href=https://colab.research.google.com/notebooks/data_table.ipynb>data table notebook</a>'\n",
              "            + ' to learn more about interactive tables.';\n",
              "          element.innerHTML = '';\n",
              "          dataTable['output_type'] = 'display_data';\n",
              "          await google.colab.output.renderOutput(dataTable, element);\n",
              "          const docLink = document.createElement('div');\n",
              "          docLink.innerHTML = docLinkHtml;\n",
              "          element.appendChild(docLink);\n",
              "        }\n",
              "      </script>\n",
              "    </div>\n",
              "  </div>\n",
              "  "
            ]
          },
          "metadata": {},
          "execution_count": 52
        }
      ],
      "source": [
        "p2_idade = pessoas.groupby('Idade').agg(media_anos_de_estudo=('Anos de Estudo','mean'),\n",
        "                                  renda_media=('Renda','mean'),\n",
        "                                  qtd_pessoas=('Anos de Estudo','size')\n",
        "                                  )\n",
        "p2_idade.reset_index(inplace=True)\n",
        "\n",
        "p2_idade.head()"
      ]
    },
    {
      "cell_type": "code",
      "execution_count": 53,
      "id": "d2156c7b",
      "metadata": {
        "execution": {
          "iopub.execute_input": "2022-06-22T21:08:36.043294Z",
          "iopub.status.busy": "2022-06-22T21:08:36.042894Z",
          "iopub.status.idle": "2022-06-22T21:08:36.219825Z",
          "shell.execute_reply": "2022-06-22T21:08:36.218692Z"
        },
        "id": "d2156c7b",
        "outputId": "a971fcc3-8a1e-4460-8ad9-af5483fb53e5",
        "papermill": {
          "duration": 0.19986,
          "end_time": "2022-06-22T21:08:36.222122",
          "exception": false,
          "start_time": "2022-06-22T21:08:36.022262",
          "status": "completed"
        },
        "tags": [],
        "colab": {
          "base_uri": "https://localhost:8080/",
          "height": 350
        }
      },
      "outputs": [
        {
          "output_type": "display_data",
          "data": {
            "text/plain": [
              "<Figure size 720x360 with 1 Axes>"
            ],
            "image/png": "[encoded data removed]"
          },
          "metadata": {
            "needs_background": "light"
          }
        }
      ],
      "source": [
        "# plot (gráfico de LINHA)\n",
        "plt.plot(p2_idade['Idade'],p2_idade['media_anos_de_estudo'], color='orange')\n",
        "plt.title('Média de Anos de Estudo x Idade')\n",
        "plt.xlabel('Idade')\n",
        "plt.ylabel('Média de Anos de Estudo')\n",
        "plt.gcf().set_size_inches(10, 5)\n",
        "plt.show()"
      ]
    },
    {
      "cell_type": "code",
      "execution_count": null,
      "id": "d2109e5a",
      "metadata": {
        "id": "d2109e5a",
        "papermill": {
          "duration": 0.019113,
          "end_time": "2022-06-22T21:08:36.260854",
          "exception": false,
          "start_time": "2022-06-22T21:08:36.241741",
          "status": "completed"
        },
        "tags": []
      },
      "outputs": [],
      "source": [
        ""
      ]
    },
    {
      "cell_type": "code",
      "execution_count": 54,
      "id": "f506041c",
      "metadata": {
        "execution": {
          "iopub.execute_input": "2022-06-22T21:08:36.303906Z",
          "iopub.status.busy": "2022-06-22T21:08:36.303355Z",
          "iopub.status.idle": "2022-06-22T21:08:36.488996Z",
          "shell.execute_reply": "2022-06-22T21:08:36.487923Z"
        },
        "id": "f506041c",
        "outputId": "b2dd75ed-39b0-4654-919c-3e9bcfeb797d",
        "papermill": {
          "duration": 0.210109,
          "end_time": "2022-06-22T21:08:36.491171",
          "exception": false,
          "start_time": "2022-06-22T21:08:36.281062",
          "status": "completed"
        },
        "tags": [],
        "colab": {
          "base_uri": "https://localhost:8080/",
          "height": 350
        }
      },
      "outputs": [
        {
          "output_type": "display_data",
          "data": {
            "text/plain": [
              "<Figure size 720x360 with 1 Axes>"
            ],
            "image/png": "[encoded data removed]"
          },
          "metadata": {
            "needs_background": "light"
          }
        }
      ],
      "source": [
        "# plot (gráfico de LINHA)\n",
        "plt.plot(p2_idade['Idade'],p2_idade['renda_media'], color='green')\n",
        "plt.title('Renda Média x Idade')\n",
        "plt.xlabel('Idade')\n",
        "plt.ylabel('Renda Média')\n",
        "plt.gcf().set_size_inches(10, 5)\n",
        "plt.show()"
      ]
    },
    {
      "cell_type": "code",
      "execution_count": null,
      "id": "7d980f00",
      "metadata": {
        "id": "7d980f00",
        "papermill": {
          "duration": 0.020128,
          "end_time": "2022-06-22T21:08:36.531720",
          "exception": false,
          "start_time": "2022-06-22T21:08:36.511592",
          "status": "completed"
        },
        "tags": []
      },
      "outputs": [],
      "source": [
        ""
      ]
    },
    {
      "cell_type": "code",
      "execution_count": 55,
      "id": "7087488b",
      "metadata": {
        "execution": {
          "iopub.execute_input": "2022-06-22T21:08:36.573911Z",
          "iopub.status.busy": "2022-06-22T21:08:36.573280Z",
          "iopub.status.idle": "2022-06-22T21:08:36.882520Z",
          "shell.execute_reply": "2022-06-22T21:08:36.881435Z"
        },
        "id": "7087488b",
        "outputId": "2a4e897c-b699-47c6-fbce-5179d19898dc",
        "papermill": {
          "duration": 0.332654,
          "end_time": "2022-06-22T21:08:36.884694",
          "exception": false,
          "start_time": "2022-06-22T21:08:36.552040",
          "status": "completed"
        },
        "tags": [],
        "colab": {
          "base_uri": "https://localhost:8080/",
          "height": 350
        }
      },
      "outputs": [
        {
          "output_type": "display_data",
          "data": {
            "text/plain": [
              "<Figure size 720x360 with 1 Axes>"
            ],
            "image/png": "[encoded data removed]"
          },
          "metadata": {
            "needs_background": "light"
          }
        }
      ],
      "source": [
        "# scatter (gráfico de Dispersão)\n",
        "plt.scatter(p2_idade['Idade'],p2_idade['renda_media'], color='green')\n",
        "plt.title('Renda Média x Idade')\n",
        "plt.xlabel('Idade')\n",
        "plt.ylabel('Renda Média')\n",
        "plt.gcf().set_size_inches(10, 5)\n",
        "plt.show()"
      ]
    },
    {
      "cell_type": "code",
      "execution_count": null,
      "id": "c6eaf395",
      "metadata": {
        "id": "c6eaf395",
        "papermill": {
          "duration": 0.020554,
          "end_time": "2022-06-22T21:08:36.925801",
          "exception": false,
          "start_time": "2022-06-22T21:08:36.905247",
          "status": "completed"
        },
        "tags": []
      },
      "outputs": [],
      "source": [
        ""
      ]
    }
  ],
  "metadata": {
    "kernelspec": {
      "display_name": "Python 3",
      "language": "python",
      "name": "python3"
    },
    "language_info": {
      "codemirror_mode": {
        "name": "ipython",
        "version": 3
      },
      "file_extension": ".py",
      "mimetype": "text/x-python",
      "name": "python",
      "nbconvert_exporter": "python",
      "pygments_lexer": "ipython3",
      "version": "3.7.12"
    },
    "papermill": {
      "default_parameters": {},
      "duration": 16.867799,
      "end_time": "2022-06-22T21:08:37.569217",
      "environment_variables": {},
      "exception": null,
      "input_path": "__notebook__.ipynb",
      "output_path": "__notebook__.ipynb",
      "parameters": {},
      "start_time": "2022-06-22T21:08:20.701418",
      "version": "2.3.4"
    },
    "colab": {
      "name": "workshop-ebac-dados-dia2.ipynb",
      "provenance": [],
      "collapsed_sections": []
    }
  },
  "nbformat": 4,
  "nbformat_minor": 5
}